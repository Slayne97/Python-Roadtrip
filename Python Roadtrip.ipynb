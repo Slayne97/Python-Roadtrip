{
 "cells": [
  {
   "cell_type": "markdown",
   "id": "d79e40fb",
   "metadata": {},
   "source": [
    "# Python - General Stuff"
   ]
  },
  {
   "cell_type": "markdown",
   "id": "c46b20a7",
   "metadata": {},
   "source": [
    "## Pass statement\n",
    "The pass statement is used as a placeholder for future code.\n",
    "When the pass statement is executed, nothing happens, but you avoid getting an error when empty code is not allowed.\n",
    "Empty code is not allowed in loops, function definitions, class definitions, or in if statements."
   ]
  },
  {
   "cell_type": "code",
   "execution_count": null,
   "id": "cb96efa9",
   "metadata": {},
   "outputs": [],
   "source": [
    "def myfunction():\n",
    "  pass\n",
    "\n",
    "class Person:\n",
    "  pass\n",
    "\n",
    "a = 33\n",
    "b = 200\n",
    "\n",
    "if b > a:\n",
    "  pass"
   ]
  },
  {
   "cell_type": "markdown",
   "id": "088dd57c",
   "metadata": {},
   "source": [
    "## map() function\n",
    "The map() function executes a specified function for each item in an iterable. The item is sent to the function as a parameter.\n",
    "\n",
    "\n",
    "### Syntax\n",
    "map(function, iterables)\n",
    "\n",
    "- function | Required. The function to execute for each item\n",
    "- iterable | Required. A sequence, collection or an iterator object. You can send as many iterables as you like, just make sure the function has one parameter for each iterable.\n",
    "\n",
    "**Returns a map object (which is an iterator) of the results after applying the given function to each item of a given iterable (list, tuple etc.) "
   ]
  },
  {
   "cell_type": "code",
   "execution_count": null,
   "id": "69508173",
   "metadata": {},
   "outputs": [],
   "source": [
    "def myfunc(n):\n",
    "  return len(n)\n",
    "\n",
    "x = map(myfunc, ('apple', 'banana', 'cherry'))\n",
    "print (list(x)) # Converts the map object into a list for readability"
   ]
  },
  {
   "cell_type": "markdown",
   "id": "76875461",
   "metadata": {},
   "source": [
    "## **PENDING** filter() function\n"
   ]
  },
  {
   "cell_type": "markdown",
   "id": "20bb6a94",
   "metadata": {},
   "source": [
    "## **PENDING** Packing & Unpacking"
   ]
  },
  {
   "cell_type": "code",
   "execution_count": null,
   "id": "83e9de41",
   "metadata": {},
   "outputs": [],
   "source": [
    "some_list = [3, 4, 5]\n",
    "j, k, l  = some_list\n",
    "\n",
    "print(j, k)"
   ]
  },
  {
   "cell_type": "markdown",
   "id": "534216e3",
   "metadata": {},
   "source": [
    "## Arguments |  Parameters\n",
    "The terms parameter and argument can be used for the same thing: information that are passed into a function\n",
    "\n",
    "### Default arguments\n",
    "Default arguments are values that are provided while defining functions.\n",
    "- The assignment operator = is used to assign a default value to the argument.\n",
    "- Default arguments become optional during the function calls.\n",
    "- If we provide a value to the default arguments during function calls, it overrides the default value.\n",
    "- The function can have any number of default arguments\n",
    "- Default arguments should follow non-default arguments."
   ]
  },
  {
   "cell_type": "code",
   "execution_count": null,
   "id": "93597433",
   "metadata": {},
   "outputs": [],
   "source": [
    "def add(a,b=5,c=10):\n",
    "    return (a+b+c)\n",
    "\n",
    "# Only giving the mandatory argument\n",
    "print(add(3))\n",
    "\n",
    "# Giving only one of the optional arguments\n",
    "print(add(3,4))\n",
    "\n",
    "# Giving all the arguments\n",
    "print(add(2,3,4))\n"
   ]
  },
  {
   "cell_type": "markdown",
   "id": "3b8fa204",
   "metadata": {},
   "source": [
    "### Keyword Arguments\n",
    "Functions can also be called using keyword arguments of the form kwarg=value.\n",
    "\n",
    "During a function call, values passed through arguments need not be in the order of parameters in the function definition. This can be achieved by keyword arguments. But all the keyword arguments should match the parameters in the function definition."
   ]
  },
  {
   "cell_type": "code",
   "execution_count": null,
   "id": "f44b78f0",
   "metadata": {},
   "outputs": [],
   "source": [
    "def add(a,b=5,c=10):\n",
    "    return (a+b+c)\n",
    "\n",
    "# All parameters are given as keyword arguments, so no need to maintain the same order.\n",
    "\n",
    "print (add(b=10,c=15,a=20))\n",
    "#Output:45"
   ]
  },
  {
   "cell_type": "markdown",
   "id": "572c0be2",
   "metadata": {},
   "source": [
    "### Positional Arguments\n",
    "During a function call, values passed through arguments should be in the order of parameters in the function definition. This is called positional arguments."
   ]
  },
  {
   "cell_type": "code",
   "execution_count": null,
   "id": "19c5abab-30a2-4459-af90-eda9befd7f21",
   "metadata": {},
   "outputs": [],
   "source": [
    "def add(a,b,c):\n",
    "    return (a+b+c)"
   ]
  },
  {
   "cell_type": "markdown",
   "id": "3b9c5f38-4f46-448a-83c7-17483fb3bb5f",
   "metadata": {},
   "source": [
    "The above function can be called in two ways:\n",
    "1. During the function call, all arguments are given as positional arguments. Values passed through arguments are passed to parameters by their position. 10 is assigned to a, 20 is assigned to b and 30 is assigned to c.\n",
    "\n"
   ]
  },
  {
   "cell_type": "code",
   "execution_count": null,
   "id": "3fed700c-0be3-409b-bb94-0a3d451c9227",
   "metadata": {},
   "outputs": [],
   "source": [
    "print (add(10,20,30))\n",
    "#Output:60"
   ]
  },
  {
   "cell_type": "markdown",
   "id": "7288676c-0122-4091-91e2-7078122cbd5e",
   "metadata": {},
   "source": [
    "2. Giving a mix of positional and keyword arguments, keyword arguments should always follow positional arguments"
   ]
  },
  {
   "cell_type": "code",
   "execution_count": null,
   "id": "14a824cb",
   "metadata": {},
   "outputs": [],
   "source": [
    "print (add(10,c=30,b=20))\n",
    "#Output:60"
   ]
  },
  {
   "cell_type": "markdown",
   "id": "de81e217",
   "metadata": {},
   "source": [
    "### Important things to remember\n",
    "\n",
    "\n",
    "\n"
   ]
  },
  {
   "cell_type": "code",
   "execution_count": null,
   "id": "909ac683-1343-4bab-9065-3a48573e61cb",
   "metadata": {},
   "outputs": [],
   "source": [
    "# 1. default arguments should follow non-default arguments (non-default, default arguments)\n",
    " \n",
    "# def add(a=5,b,c):\n",
    "#     return (a+b+c)\n",
    "\n",
    "#Output:SyntaxError: non-default argument follows default argument"
   ]
  },
  {
   "cell_type": "code",
   "execution_count": null,
   "id": "112f2bb3-6feb-4921-bdf0-dfdeb8307b60",
   "metadata": {},
   "outputs": [],
   "source": [
    "# 2. keyword arguments should follow positional arguments\n",
    "\n",
    "# def add(a,b,c):\n",
    "#     return (a+b+c)\n",
    "\n",
    "# print (add(a=10,3,4))\n",
    "\n",
    "#Output:SyntaxError: positional argument follows keyword argument"
   ]
  },
  {
   "cell_type": "code",
   "execution_count": null,
   "id": "31a2da2e-d84f-42e2-8b6b-27c228760bf9",
   "metadata": {},
   "outputs": [],
   "source": [
    "# 3. All the keyword arguments passed must match one of the arguments accepted by the function and their order is not important.\n",
    "\n",
    "# def add(a,b,c):\n",
    "#     return (a+b+c)\n",
    "\n",
    "# print (add(a=10,x=5,c=12))\n",
    "\n",
    "#Output:TypeError: add() got an unexpected keyword argument 'x'"
   ]
  },
  {
   "cell_type": "code",
   "execution_count": null,
   "id": "38acf18e",
   "metadata": {},
   "outputs": [],
   "source": [
    "# 4. No argument should receive a value more than once\n",
    "\n",
    "# def add(a,b,c):\n",
    "#     return (a+b+c)\n",
    "\n",
    "# print (add(a=10,b=5,b=10,c=12))\n",
    "\n",
    "#Output:SyntaxError: keyword argument repeated"
   ]
  },
  {
   "cell_type": "markdown",
   "id": "9530fd50",
   "metadata": {},
   "source": [
    "## Variable-length arguments\n",
    "\n",
    "Variable-length arguments are also known as arbitrary arguments. If we don’t know the number of arguments needed for the function in advance, we can use arbitrary arguments\n",
    "\n",
    "### Arbitrary positional arguments (*args)\n",
    "\n",
    "For arbitrary positional argument, an asterisk (*) is placed before a parameter in function definition which can hold non-keyword variable-length arguments. These arguments will be wrapped up in a tuple.\n",
    "\n"
   ]
  },
  {
   "cell_type": "code",
   "execution_count": null,
   "id": "263f92b1",
   "metadata": {},
   "outputs": [],
   "source": [
    "def add(*b):\n",
    "    result=0\n",
    "    for i in b:\n",
    "         result=result+i\n",
    "    return result\n",
    "\n",
    "print (add(1,2,3,4,5))   # Output:15\n",
    "print (add(10,20))       # Output:30"
   ]
  },
  {
   "cell_type": "markdown",
   "id": "3eca9162",
   "metadata": {},
   "source": [
    "### Arbitrary keyword arguments (**kwargs)\n",
    "For arbitrary positional argument, a double asterisk is placed before a parameter in a function which can hold keyword variable-length arguments"
   ]
  },
  {
   "cell_type": "code",
   "execution_count": null,
   "id": "e2dfd0e1",
   "metadata": {},
   "outputs": [],
   "source": [
    "def fn(**a):\n",
    "    for i in a.items():\n",
    "        print (i)\n",
    "fn(numbers=5,colors=\"blue\",fruits=\"apple\")\n"
   ]
  },
  {
   "cell_type": "markdown",
   "id": "c3db83af",
   "metadata": {},
   "source": [
    "## Modules\n",
    "Modules refer to a file containg Python statements and definitions.\n",
    "\n",
    "A file containg Python code, for example>\n",
    "'example.py', is called a module, and its module name would be 'example'.\n",
    "\n",
    "We use modules to break down large programs into small manageable and organized files. Furthermore, modules provide reusability of code.\n",
    "\n",
    "We can define our most used functions in a module and import it, instead of copying ther definition into different programs. \n",
    "\n",
    "FMI: https://www.programiz.com/python-programming/modules"
   ]
  },
  {
   "cell_type": "markdown",
   "id": "a1bf2adf",
   "metadata": {},
   "source": [
    "## Namespace and Scope\n",
    "### Name\n",
    "**Name**, also called *identifier*, is simply a name given to objects. Everything in Python is an object. Name is a way to acces the underlying object.\n",
    "\n",
    "For example, when we do the assigmen a =2, 2 is an object store in memory and 'a' is the name we associate it with. We can get the adress in RAM of some object through the buil-in function id(). "
   ]
  },
  {
   "cell_type": "code",
   "execution_count": null,
   "id": "9b78efb5-2e39-4550-8981-4ccdbf6e05d1",
   "metadata": {},
   "outputs": [],
   "source": [
    "a = 2\n",
    "print('id(a) =', id(a))\n",
    "\n",
    "a = a+1\n",
    "print('id(a) =', id(a))\n",
    "\n",
    "print('id(3) =', id(3))\n",
    "\n",
    "b = 2\n",
    "print('id(b) =', id(b))\n",
    "print('id(2) =', id(2))"
   ]
  },
  {
   "attachments": {
    "a47cd593-69e9-492e-8fdd-974f2f01a497.png": {
     "image/png": "[encoded data removed]"
    }
   },
   "cell_type": "markdown",
   "id": "81968868-67bb-48d6-b527-4f68aedc9bef",
   "metadata": {},
   "source": [
    "![image.png](attachment:a47cd593-69e9-492e-8fdd-974f2f01a497.png)\n",
    "\n",
    "Initially, an object 2 is created and the name a is associated with it, when we do a = a + 1, a new object 3 is created and now 'a' is associated with this object.\n",
    "\n",
    "Note tha id(a) and id(3) have the same values.\n",
    "\n",
    "Furthermore, when b=2 is executed, the new name b gets associated with the previous object 2. \n",
    "\n",
    "This is efficient as Python does not have to create a new duplicate object. This dynamic nature of name binfing makes Python powerful; a name could refer to any type of object. "
   ]
  },
  {
   "cell_type": "code",
   "execution_count": null,
   "id": "c3a9b6cb-530c-4a59-b1a9-fd639fefdcd8",
   "metadata": {},
   "outputs": [],
   "source": [
    "a = 5\n",
    "a = 'Hello World!'\n",
    "a = [1,2,3]"
   ]
  },
  {
   "cell_type": "markdown",
   "id": "13f88f80-5ea5-466d-855d-7dc09589224d",
   "metadata": {},
   "source": [
    "All these are valid and 'a' will refer to three different types of objects in different instances. Functions are object too, so a name can refer to them as well. "
   ]
  },
  {
   "cell_type": "code",
   "execution_count": null,
   "id": "07bfc3f3",
   "metadata": {},
   "outputs": [],
   "source": [
    "def printHello():\n",
    "    print(\"Hello\")\n",
    "\n",
    "a = printHello\n",
    "\n",
    "a()"
   ]
  },
  {
   "attachments": {},
   "cell_type": "markdown",
   "id": "64dc8d3e",
   "metadata": {},
   "source": [
    "### Namespaces\n",
    "Now that we understand what names are, we can move on to the concept of namespaces. \n",
    "\n",
    "To simply put it, a namespace is a collection of names.\n",
    "\n",
    "In Python, you can imagine a namespace as a mapping of every name you have defined to corresponding objects.\n",
    "\n",
    "Diferrent namespaces can co-exist at a given time, but are completely isolated.\n",
    "\n",
    "A namespace containg all the built-in names is created when we start the Python interpreter and exists as long as the interpreter runs.\n",
    "\n",
    "This is the reason that built-in functions like id(), print(), etc. are always available to us from any part of the program. Each module creates its own global namespace.\n",
    "\n",
    "These different namespaces are isolated. Hence, the same name that may exist in different modules does not collide. \n",
    "\n",
    "Modules can have various functions and classes. A local namespace is created when a function is called, which has all the names defined in it. Similar is the case with class. The following diagram may help to clarify this concept\n",
    "\n"
   ]
  },
  {
   "cell_type": "markdown",
   "id": "ed790e57",
   "metadata": {},
   "source": [
    "### Variable Scope\n",
    "\n"
   ]
  },
  {
   "cell_type": "markdown",
   "id": "9d2d2132",
   "metadata": {},
   "source": [
    "### Scope of Namespaces\n",
    "\n"
   ]
  },
  {
   "cell_type": "code",
   "execution_count": null,
   "id": "d317a0a2",
   "metadata": {},
   "outputs": [],
   "source": [
    "# Write a function to compute 3x +1 \n",
    "\n",
    "def f(x):\n",
    "    return 3 * x + 1 \n",
    "\n",
    "print( f(2) ) \n",
    "\n",
    "\n",
    "lambda x: 3*x + 1\n",
    "\n",
    "g = lambda x: 3*x + 1\n",
    "\n",
    "print( g(2) )\n"
   ]
  },
  {
   "cell_type": "markdown",
   "id": "ea0cceb6",
   "metadata": {},
   "source": [
    "## Decorators\n",
    "\n",
    "Python's functions are objects.\n",
    "\n",
    "To understand decorators, you must first understand that functions are objects in Python. This has important consequences. Let's see why with a simple example: "
   ]
  },
  {
   "cell_type": "code",
   "execution_count": null,
   "id": "d5dc086c-4d4a-4f61-91da-e34a522c9574",
   "metadata": {},
   "outputs": [],
   "source": [
    "def shout(word=\"yes\"):\n",
    "    return word.capitalize() + \"!\" \n",
    "\n",
    "print(shout())\n",
    "# outputs : 'Yes!' \n",
    "\n",
    "# As an object, you can assign the function to a variable like any other object.\n",
    "\n",
    "scream = shout \n",
    "\n",
    "# Notice we don't use parentheses: we are not calling the function, we are\n",
    "# putting the function \"shout\" into the variable \"scream\"\n",
    "# This means that you can call \"shout\" from \"scream\":\n",
    "\n",
    "print(scream())\n",
    "# outputs : 'Yes!' \n",
    "\n",
    "# More than that, it means you can remove the old name 'shout'. \n",
    "# and the function will still be accsessible from 'scream'\n",
    "\n",
    "del shout\n",
    "try:\n",
    "    print(shout())\n",
    "except NameError as e: \n",
    "    print(e)\n",
    "    # outputs : \"name 'shout' is not defined\"\n",
    "\n",
    "    \n",
    "print(scream())\n",
    "# outputs: 'Yes!'"
   ]
  },
  {
   "cell_type": "markdown",
   "id": "61fc7a02-2630-4194-b34c-9d4ef3c2c60d",
   "metadata": {},
   "source": [
    "Another interesting property of Python functions is that they can be defined inside another function! "
   ]
  },
  {
   "cell_type": "code",
   "execution_count": null,
   "id": "ee551865",
   "metadata": {},
   "outputs": [],
   "source": [
    "def talk():\n",
    "    # You can define a function on the fly in \"talk\" ... \n",
    "    def whisper(word=\"yes\"):\n",
    "        return word.lower() + \"...\"\n",
    "    \n",
    "    # ... And use it right away \n",
    "    \n",
    "    print(whisper()) \n",
    "    \n",
    "# You call \"talk\", that defines \"whisper\" EVERY TIME you call it, then\n",
    "# \"whisper\" is called in \"talk\" \n",
    "talk()\n",
    "# outputs: \"yes...\" \n",
    "\n",
    "\n",
    "# But \"whisper\" DOES NOT EXISTS outside of \"talk\":\n",
    "\n",
    "try: \n",
    "    print(whisper())\n",
    "except NameError as e: \n",
    "    print(e)\n",
    "    # outputs : \"name 'whisper' is not defined\""
   ]
  },
  {
   "cell_type": "markdown",
   "id": "a059c7b4",
   "metadata": {},
   "source": [
    "### Function References\n",
    "Now the fun part... \n",
    "\n",
    "You've seen that functions are objects. Therefore, functions: \n",
    "- Can be assigned to a variable\n",
    "- Can be defined in another function\n",
    "\n",
    "That means that **a function can return another function.**"
   ]
  },
  {
   "cell_type": "code",
   "execution_count": null,
   "id": "24fb4e7e-d3a5-479c-8e40-44cf8cecb5ee",
   "metadata": {},
   "outputs": [],
   "source": [
    "def getTalk(kind=\"shout\"):\n",
    "    # We define functions on the fly\n",
    "    def shout(word=\"yes\"): \n",
    "        return word.capitalize() + \"!\"\n",
    "    \n",
    "    def whisper(word=\"yes\"):\n",
    "        return word.lower() + \"...\" \n",
    "    \n",
    "    # then we return one og them \n",
    "    \n",
    "    if kind == \"shout\": \n",
    "        # We don't use \"()\", we are not calling the function,\n",
    "        # we are returning the function object\n",
    "        return shout\n",
    "    else: \n",
    "        return whisper\n",
    "    \n",
    "# how do you use this strange beast?\n",
    "# Get the function and assign it to a variable\n",
    "\n",
    "talk = getTalk()\n",
    "\n",
    "# You can see that \"talk\" is here a function object. \n",
    "print(talk)\n",
    "# outputs : <function getTalk.<locals>.shout at 0x00000251B45D8940>\n",
    "\n",
    "\n",
    "# THe object is the one returned by the function: \n",
    "print(talk())\n",
    "# ouputs : 'Yes!'\n",
    "\n",
    "\n",
    "# And you can even use it directly if you feel wild: \n",
    "print(getTalk(\"whisper\")())\n",
    "        "
   ]
  },
  {
   "attachments": {},
   "cell_type": "markdown",
   "id": "806c7cd4-52e5-4b81-9bdd-de45df8d0611",
   "metadata": {},
   "source": [
    "There's more! \n",
    "\n",
    "If you can return a function, you can pass one as a parameter: \n",
    "\n",
    "\n"
   ]
  },
  {
   "cell_type": "code",
   "execution_count": null,
   "id": "d32f7320-48e4-4461-8842-984dad5e0e7c",
   "metadata": {},
   "outputs": [],
   "source": [
    "def doSomethingBefore(func):\n",
    "    print(\"I do something before then i call the function you gave me!\")\n",
    "    return(func())\n",
    "\n",
    "doSomethingBefore(scream)"
   ]
  },
  {
   "cell_type": "markdown",
   "id": "5baa2061",
   "metadata": {},
   "source": [
    "Well, you just have everything needed to understand decorators. You see, decorators are \"wrappers\", which means that **they let you execute code before and after the function they decorate** without modifying the function itself. \n",
    "\n"
   ]
  },
  {
   "cell_type": "markdown",
   "id": "49d22271",
   "metadata": {},
   "source": [
    "### Handcrafted decorators\n",
    "How you would do it:"
   ]
  },
  {
   "cell_type": "code",
   "execution_count": null,
   "id": "ce0ef095-1bbf-43b2-8b73-f36fc6dcfd92",
   "metadata": {},
   "outputs": [],
   "source": [
    "# A decorators is a function that expects another function as parameter.\n",
    "\n",
    "def my_shiny_new_decorator(a_function_to_decorate): \n",
    "    \n",
    "    # Inside, the decorator defines a function on the fly: the wrapper. \n",
    "    # This function is going to be wrapped around the original function\n",
    "    # so it can execute code before and after it. \n",
    "    \n",
    "    def the_wrapper_arround_the_original_function():\n",
    "        \n",
    "        # Put here the code you want to be executed BEFORE the original funcion is called\n",
    "        print(\"Before the function runs\")\n",
    "        \n",
    "        # Call the function here (using parentheses)\n",
    "        a_function_to_decorate()\n",
    "        \n",
    "        # Put here the code you want to be executed AFTER the original function is called.\n",
    "        print(\"After the function runs\")\n",
    "        \n",
    "    # At this point, \"a_function_to_decorate\" HAS NEVER BEEN EXECUTED.\n",
    "    # We return the wrapper function we have just created. \n",
    "    # The wrapper contains the function and the code to execute before and after.\n",
    "    \n",
    "    return the_wrapper_arround_the_original_function\n",
    "\n",
    "# Now imagine you create a function you don't want to ever touch again\n",
    "def a_stand_alone_function():\n",
    "    print(\"Don't you dare modify me\")\n",
    "    \n",
    "# a_stand_alone_function()\n",
    "# outputs: Don't you dare modify me. \n",
    "\n",
    "\n",
    "print(\"_______________________\")\n",
    "\n",
    "\n",
    "# Well, you can decorate it to extend its behavior. \n",
    "# Just pass it to the decorator, it will wrap it dynamically in\n",
    "# any code you want and return you a new function ready to be used\n",
    "\n",
    "# a_stand_alone_function_decorated = my_shiny_new_decorator(a_stand_alone_function)\n",
    "# a_stand_alone_function_decorated()\n",
    "    "
   ]
  },
  {
   "cell_type": "markdown",
   "id": "1174c60d-f10b-4781-ade5-ab778aa39834",
   "metadata": {},
   "source": [
    "Now, you probably want that every time you call a_stand_alone_function, a_stand_alone_function_decorated is called instead. That's easy, just overwrite a_stand_alone_function with the function returned by my_shiny_new_decorator: "
   ]
  },
  {
   "cell_type": "code",
   "execution_count": null,
   "id": "75086857",
   "metadata": {},
   "outputs": [],
   "source": [
    "a_stand_alone_function = my_shiny_new_decorator(a_stand_alone_function)\n",
    "a_stand_alone_function()\n",
    "\n",
    "# This is EXACTLY what decorator do !"
   ]
  },
  {
   "cell_type": "markdown",
   "id": "a01e6a26",
   "metadata": {},
   "source": [
    "### Decorator demystified\n",
    "The previous example, using the decorator syntax:"
   ]
  },
  {
   "cell_type": "code",
   "execution_count": null,
   "id": "d1ab68a5-bca1-4275-9056-ff18634d448e",
   "metadata": {},
   "outputs": [],
   "source": [
    "@my_shiny_new_decorator\n",
    "def another_stand_alone_function():\n",
    "    print(\"Leave me alone\")\n",
    "    \n",
    "another_stand_alone_function()"
   ]
  },
  {
   "cell_type": "markdown",
   "id": "f865e640-fbd7-457c-b7a4-14eeb13a57b8",
   "metadata": {},
   "source": [
    "Yes, that's all, it's that simple @decorator is just a shorcut to: \n",
    "\n",
    "another_stand_alone_function = my_shiny_new_decorator(another_stand_alone_function)\n",
    "\n",
    "Decorators are just a pythonic variant of the decorator design pattern. There are several classic design patterns embedded in Python to ease development (like iterators).\n",
    "\n",
    "Of course, you can accumulate decorators:"
   ]
  },
  {
   "cell_type": "code",
   "execution_count": null,
   "id": "2554298a-7765-4109-a925-892fa0aa000f",
   "metadata": {},
   "outputs": [],
   "source": [
    "def bread(func):\n",
    "    def wrapper():\n",
    "        print(\"</''''''\\>\")\n",
    "        func()\n",
    "        print(\"</''''''\\>\")\n",
    "    return wrapper \n",
    "              \n",
    "def ingredients(func):\n",
    "    def wrapper():\n",
    "        print(\"tomatoes\")\n",
    "        func()\n",
    "        print(\"~salad~\")\n",
    "    return wrapper\n",
    "              \n",
    "def sandwich(food = \"--ham--\"):\n",
    "    print(food)\n",
    "    \n",
    "    \n",
    "# sandwich()\n",
    "# outputs: --ham-- \n",
    "\n",
    "sandwich = bread(ingredients(sandwich))\n",
    "sandwich()\n",
    "\n",
    "\n",
    "              \n",
    "              "
   ]
  },
  {
   "cell_type": "markdown",
   "id": "e306efde-3f08-4cde-8761-b4b8fae6022b",
   "metadata": {},
   "source": [
    "Using the Python decorator syntax"
   ]
  },
  {
   "cell_type": "code",
   "execution_count": null,
   "id": "ccf9809c-221d-41e1-8148-1ed368ada1e1",
   "metadata": {},
   "outputs": [],
   "source": [
    "@bread\n",
    "@ingredients\n",
    "def sandwich(food =\"--ham--\"):\n",
    "    print(food)\n",
    "    \n",
    "sandwich()"
   ]
  },
  {
   "cell_type": "markdown",
   "id": "82da2ff2-8a7d-401d-a5ee-373f3663ab9a",
   "metadata": {},
   "source": [
    "As a conclusion, you can see the next example"
   ]
  },
  {
   "cell_type": "code",
   "execution_count": null,
   "id": "0558f239",
   "metadata": {},
   "outputs": [],
   "source": [
    "# The decorator to make it bold\n",
    "def makebold(fn):\n",
    "    def wrapper():\n",
    "        return \"<b>\" + fn() + \"</b>\"\n",
    "    return wrapper\n",
    "\n",
    "# The decorator to make it italic\n",
    "def makeitalic(fn):\n",
    "    def wrapper():\n",
    "        return \"<i>\" + fn() + \"</i>\"\n",
    "    return wrapper\n",
    "\n",
    "@makebold\n",
    "@makeitalic\n",
    "def say():\n",
    "    return \"hello\"\n",
    "\n",
    "print(say())\n",
    "#outputs: <b><i>hello</i></b>\n",
    "\n",
    "# This is the exact equivalent to \n",
    "def say():\n",
    "    return \"hello\"\n",
    "\n",
    "say = makebold(makeitalic(say))\n",
    "\n",
    "print(say())\n",
    "#outputs: <b><i>hello</i></b>"
   ]
  },
  {
   "cell_type": "markdown",
   "id": "ef2626e7",
   "metadata": {},
   "source": [
    "## **PENDING** Lambdas"
   ]
  },
  {
   "cell_type": "markdown",
   "id": "b4c654e2",
   "metadata": {},
   "source": [
    "## **PENDING** Setters & Getters"
   ]
  },
  {
   "cell_type": "markdown",
   "id": "7a35fddf",
   "metadata": {},
   "source": [
    "## **PENDING** Recurssion"
   ]
  },
  {
   "cell_type": "markdown",
   "id": "79937179",
   "metadata": {},
   "source": [
    "## **PENDING** Regular Expressions"
   ]
  },
  {
   "cell_type": "markdown",
   "id": "becd2288",
   "metadata": {},
   "source": [
    "## **PENDING** Higher Order Functions"
   ]
  },
  {
   "cell_type": "markdown",
   "id": "ce1d7396-4929-438b-afd2-b1bdf89768d8",
   "metadata": {
    "tags": []
   },
   "source": [
    "##Generators (yield)"
   ]
  },
  {
   "cell_type": "markdown",
   "id": "3105c81e-78e2-45d2-bd29-ad1d698e09d0",
   "metadata": {
    "tags": [],
    "toc-hr-collapsed": true
   },
   "source": [
    "Python generator functions allow you to declare a function that behaves likes an iterator.\n",
    "\n",
    "The main difference between a regular function and a generator function is that the state of the generator functions are maintained through the use of the keyword yield and works much like using return, but it has some important differences. The difference is that yield saves the state of the function. The next time the function is called, execution continues from where it left off. with the same variable values it had before yielding, whereas the return statement terminates the function completely.\n",
    "\n",
    "\n",
    "Generators are iterators, a kind of iterable you can only iterate over once. Generators do not store all values in memory, the generate the values on the fly"
   ]
  },
  {
   "cell_type": "code",
   "execution_count": null,
   "id": "3b16ddc0",
   "metadata": {},
   "outputs": [],
   "source": [
    "mygenerator = (x*x for x in range(3))\n",
    "\n",
    "for i in mygenerator:\n",
    "    print(i)\n"
   ]
  },
  {
   "cell_type": "markdown",
   "id": "5778e6f1",
   "metadata": {},
   "source": [
    "### Yield\n",
    "Yield is a keyword that is used like return, except the function will return a generator."
   ]
  },
  {
   "cell_type": "code",
   "execution_count": null,
   "id": "d7d4881e-9080-4f93-a33d-e3d94cb196e9",
   "metadata": {},
   "outputs": [],
   "source": [
    "def create_generator():\n",
    "    my_list = range(3)\n",
    "    for i in my_list:\n",
    "        yield i*i\n",
    "            \n",
    "mygenerator = create_generator()\n",
    "print(mygenerator)\n",
    "\n",
    "for i in mygenerator:\n",
    "    print(i)\n"
   ]
  },
  {
   "cell_type": "markdown",
   "id": "156ea9c7-1def-46e6-a15d-64b500925785",
   "metadata": {
    "tags": [],
    "toc-hr-collapsed": true
   },
   "source": [
    "To master yield, you must understand that **when you call the function, the code you have written in the function body does not run.** The function only returns the generator object.\n",
    "\n",
    "The first time the for calls the generator object created from your function, it will run the code in your function from the beginning until it hits yield, then it'll return the first value of the loop. Then, each subsequent call will run another iteration of the loop you have written in the function and return the next value. This will continue until the generator is considered empty, which happens when the function runs withouth hitting yield."
   ]
  },
  {
   "cell_type": "code",
   "execution_count": null,
   "id": "ffbc81af-4490-4e9f-895e-3c9876ebc9bf",
   "metadata": {},
   "outputs": [],
   "source": []
  },
  {
   "cell_type": "code",
   "execution_count": null,
   "id": "1bfe6a18",
   "metadata": {},
   "outputs": [],
   "source": [
    "import memory_profiler as mem_profile\n",
    "import random\n",
    "import time\n",
    "\n",
    "names = [\"John\", 'Corey', 'Adam', 'Steve', 'Rick', 'Thomas']\n",
    "majors = ['Math', 'Engineering', 'CompSci', 'Arts', 'Business']\n",
    "print('Memory (before): {}Mb'.format(mem_profile.memory_usage()))\n",
    "\n",
    "def people_list(num_people):\n",
    "    result = []\n",
    "    for i in range(num_people):\n",
    "        person = {\n",
    "            'id': i,\n",
    "            'name': random.choice(names),\n",
    "            'major': random.choice(majors)\n",
    "        }\n",
    "        result.append(person)\n",
    "    return result\n",
    "\n",
    "def people_generator(num_people):\n",
    "    for i in range(num_people):\n",
    "        person = {\n",
    "            'id': i,\n",
    "            'name': random.choice(names),\n",
    "            'major': random.choice(majors)\n",
    "        }\n",
    "        yield person\n",
    "        \n",
    "t1 = time.perf_counter()\n",
    "people = people_list(1000000)\n",
    "t2 = time.perf_counter()\n",
    "\n",
    "# t1 = time.perf_counter()\n",
    "# people = people_generator(1000000)\n",
    "# t2 = time.perf_counter()\n",
    "\n",
    "print('Memory (after): {}Mb'.format(mem_profile.memory_usage()))\n",
    "print('Took {} seconds'.format(t2-t1))\n",
    "\n"
   ]
  },
  {
   "cell_type": "markdown",
   "id": "04657f01",
   "metadata": {},
   "source": [
    "## **PENDING** Docstring\n",
    "https://www.programiz.com/python-programming/docstrings, https://peps.python.org/pep-0257/"
   ]
  },
  {
   "cell_type": "markdown",
   "id": "b30514f5",
   "metadata": {},
   "source": []
  },
  {
   "cell_type": "markdown",
   "id": "4e198369",
   "metadata": {},
   "source": [
    "# Python - OOP"
   ]
  },
  {
   "cell_type": "markdown",
   "id": "de196500",
   "metadata": {},
   "source": [
    "## Introduction to OOP in Python\n",
    "Python is a multi-paradigm programming language. It supports different programming approaches.\n",
    "One of the popular approaches to solve a programming problem is by creating objects. This is known as Object-Oriented Programming (OOP).\n",
    "An object has two characteristics:\n",
    "- Attributes\n",
    "- Behavior\n",
    "\n",
    "Let's take an example:\n",
    "A parrot is an object, as it has the following properties:\n",
    "- Attributes: name, age, color \n",
    "- Behavior: singing, dancing "
   ]
  },
  {
   "cell_type": "markdown",
   "id": "9c3b0cd3",
   "metadata": {},
   "source": [
    "### Example 1 - Attributes\n",
    "Note: The __init__() function is called automatically every time the class is being used to create a new object."
   ]
  },
  {
   "cell_type": "code",
   "execution_count": null,
   "id": "fb62de0b",
   "metadata": {},
   "outputs": [],
   "source": [
    "# First we create a class named Parrot\n",
    "\n",
    "class Parrot:\n",
    "\n",
    "    # class attribute\n",
    "    species = \"bird\"\n",
    "\n",
    "    # instance attribute\n",
    "    def __init__(self, name, age):   \n",
    "        self.name = name\n",
    "        self.age = age\n",
    "        \n",
    "# instantiate the Parrot class\n",
    "blu = Parrot(\"Blu\", 10)\n",
    "woo = Parrot(\"Woo\", 15)\n",
    "\n",
    "# access the class attributes\n",
    "print(\"Blu is a\", blu.species)\n",
    "print(\"Woo is also a\", woo.species)\n",
    "\n",
    "# access the instance attributes\n",
    "print(f\"{blu.name} is {blu.age} years old\")\n",
    "\n",
    "print(f\"{woo.name} is {woo.age} years old\")\n",
    "\n",
    "### FMI on attributes see: Class attributes vs Instance attributes. ###\n",
    "\n",
    "\n"
   ]
  },
  {
   "cell_type": "markdown",
   "id": "e8030733",
   "metadata": {},
   "source": [
    "### Example 2 - Methods (Behavior)\n",
    "Methods are functions defined inside the body of a class. They are used to define the behaviors of an object."
   ]
  },
  {
   "cell_type": "code",
   "execution_count": null,
   "id": "0d807dd8",
   "metadata": {},
   "outputs": [],
   "source": [
    "class Parrot: \n",
    "    # Instance attributes\n",
    "    def __init__(self, name, age):\n",
    "        self.name = name\n",
    "        self.age = age\n",
    "    \n",
    "    # Instance methods\n",
    "    def sing(self, song):\n",
    "        print (f\"{self.name} sings {song}\")\n",
    "    \n",
    "    def dance(self):\n",
    "        print (f\"{self.name} is dancing\")\n",
    "    \n",
    "pato = Parrot(\"pato\", 3)\n",
    "pato.sing(\"macarena\")\n",
    "pato.dance()\n",
    "    \n",
    "    "
   ]
  },
  {
   "cell_type": "markdown",
   "id": "8a80cfe7",
   "metadata": {},
   "source": [
    "### Example 3 - Inheritance\n",
    "Inheritance is a way of creating a new class for using details of an existing class without modifying it. The newly formed class is a derived class (or child class). Similarly, the existing class is a base class (or parent class).\n",
    "\n",
    "A polygon is a closed figure with 3 or more sides. Say, we have a class called Polygon defined as follows."
   ]
  },
  {
   "cell_type": "code",
   "execution_count": null,
   "id": "901e73cb-e06b-4601-94c8-9ac0080a7411",
   "metadata": {},
   "outputs": [],
   "source": [
    "# class Polygon:\n",
    "#     # Creates a Polygon with the specified amount of sides\n",
    "#     # Each side it's given the default value 0 \n",
    "#     # So it looks like this \n",
    "#     # shape = Polygon(4) \n",
    "#     # >>> shape.sides = [0,0,0,0]  \n",
    "#     def __init__(self, no_of_sides):\n",
    "#         self.n = no_of_sides\n",
    "#         self.sides = [0 for i in range(no_of_sides)]\n",
    "\n",
    "        \n",
    "#     # Defines each side's longitude \n",
    "#     def input_sides(self):\n",
    "#         self.sides = [float(input(\"Enter side \" + str(i + 1) + \":\")) for i in range(self.n)]\n",
    "\n",
    "#     # Displays the longitude of each side\n",
    "#     def disp_sides(self):\n",
    "#         for i in range(self.n):\n",
    "#             print(\"Side\", i + 1, \"is\", self.sides[i])\n",
    "            \n",
    "# t = Polygon(3)\n",
    "# print(t.sides)\n",
    "# t.input_sides()\n",
    "# t.disp_sides()"
   ]
  },
  {
   "cell_type": "markdown",
   "id": "9a837fa9-c1b3-4bc4-bcd3-97784ef25225",
   "metadata": {},
   "source": [
    "A triangle is a polygon with 3 sides. So, we can create a class called Triangle which inherits from Polygon. This makes all the attributes of Polygon class available to the Triangle class.\n",
    "We don't need to define them again (code reusability). Triangle can be defined as follows."
   ]
  },
  {
   "cell_type": "code",
   "execution_count": null,
   "id": "706788cb",
   "metadata": {},
   "outputs": [],
   "source": [
    "# class Polygon:\n",
    "#     # Creates a Polygon with the specified amount of sides\n",
    "#     # Each side it's given the default value 0 \n",
    "#     # So it looks like this \n",
    "#     # shape = Polygon(4) \n",
    "#     # >>> shape.sides = [0,0,0,0]  \n",
    "#     def __init__(self, no_of_sides):\n",
    "#         self.n = no_of_sides\n",
    "#         self.sides = [0 for i in range(no_of_sides)]\n",
    "        \n",
    "#     # Defines each side's longitude \n",
    "#     # Rewrites the \n",
    "#     def input_sides(self):\n",
    "#         self.sides = [float(input(\"Enter side \" + str(i + 1) + \":\")) for i in range(self.n)]\n",
    "\n",
    "#     # Displays the longitude of each side\n",
    "#     def disp_sides(self):\n",
    "#         for i in range(self.n):\n",
    "#             print(\"Side\", i + 1, \"is\", self.sides[i])\n",
    "\n",
    "\n",
    "# class Triangle(Polygon):\n",
    "#     def __init__(self):\n",
    "#         Polygon.__init__(self, 3)\n",
    "\n",
    "#     def find_area(self):\n",
    "#         a, b, c = self.sides  ### FMI: See Packing & Unpacking\n",
    "        \n",
    "#         # FMI on Area of a Triangle using it's perimter, see: https://www.cuemath.com/measurement/area-of-triangle-with-3-sides/\n",
    "        \n",
    "#         # Formula: Area = sqrt( s(s-a)(s-b)(s-c) ) \n",
    "#         # Where: Semi Perimeter, s = (a + b + c) / 2 \n",
    "#         # and: a, b, c are the sides of the triangle.\n",
    "        \n",
    "#         # calculate the semi-perimeter\n",
    "#         s = (a + b + c) / 2\n",
    "#         area = ( s*(s-a)*(s-b)*(s-c) ) ** 0.5 # ** it's the Exponentiation operator \n",
    "#         ### FMI on operators, see: https://www.w3schools.com/python/python_operators.asp ###\n",
    "        \n",
    "#         print('The area of the triangle is %0.2f' %area)\n",
    "        \n",
    "# some_triangle = Triangle() \n",
    "# some_triangle.input_sides()\n",
    "# some_triangle.find_area()\n",
    "\n",
    "        \n",
    "        "
   ]
  },
  {
   "cell_type": "markdown",
   "id": "c100c30d",
   "metadata": {},
   "source": [
    "### Example 4 - Encapsulation\n",
    "Using OOP in Python, we can restrict access to methods and variables. This prevents data from direct modification which is called encapsulation. In Python, we denote private attributes using underscore as the prefix i.e single _ or double __"
   ]
  },
  {
   "cell_type": "code",
   "execution_count": null,
   "id": "48821012",
   "metadata": {},
   "outputs": [],
   "source": [
    "class Computer:\n",
    "\n",
    "    def __init__(self):\n",
    "        self.__price = 900\n",
    "\n",
    "    def show_selling_price(self):\n",
    "        print(f\"Selling Price: {self.__price}\")\n",
    "\n",
    "    def set_price(self, selling_price):\n",
    "        self.__price = selling_price\n",
    "\n",
    "        \n",
    "# We instanciate a Computer object.        \n",
    "c = Computer()\n",
    "c.show_selling_price()\n",
    "\n",
    "# Here, we have tried to modify the value of __maxprice outside of the class. \n",
    "# However, since __max_price is a private variable, this modification is not seen on the output.\n",
    "c.__max_price = 1500\n",
    "c.show_selling_price()\n",
    "\n",
    "# So the only way to chance the __max_price variable it's to use a setter function\n",
    "c.set_price(1000)\n",
    "c.show_selling_price()"
   ]
  },
  {
   "cell_type": "markdown",
   "id": "e8d7f88c",
   "metadata": {},
   "source": [
    "### ***RABBIT HOLE*** Example 5 - Polymorphism"
   ]
  },
  {
   "cell_type": "markdown",
   "id": "5355b502-6f7a-46fb-b499-dac9fdd4c8c3",
   "metadata": {},
   "source": []
  },
  {
   "cell_type": "markdown",
   "id": "58a9af6c-a8a2-4392-b652-de8c5882e7fa",
   "metadata": {},
   "source": []
  },
  {
   "cell_type": "markdown",
   "id": "b4470279",
   "metadata": {},
   "source": []
  },
  {
   "cell_type": "markdown",
   "id": "81b6758b",
   "metadata": {},
   "source": [
    "## Python Class\n",
    "Python is an object-oriented programming language. Unlike procedure-oriented programming, where the main emphasis is on functions, object-oriented programming stresses on objects.\n",
    "\n",
    "An object is simply a collection of data (variables) and methods (functions) that act on those data. Similarly, a class is a blueprint for that object.\n",
    "\n",
    "We can think of a class as a sketch (prototype) of a house. It contains all the details about the floors, doors, windows, etc. Based on these descriptions we build the house. House is the object.\n",
    "\n",
    "As many houses can be made from a house's blueprint, we can create many objects from a class. An object is also called an instance of a class and the process of creating this object is called instantiation."
   ]
  },
  {
   "cell_type": "markdown",
   "id": "a1b1fb7d",
   "metadata": {},
   "source": [
    "### Defining a Class in Python\n",
    "Like function definitions begin with the def keyword in Python, class definitions begin with a class keyword.\n",
    "\n",
    "The first string inside the class is called docstring and has a brief description of the class. Although not mandatory, this is highly recommended. FMI: https://www.programiz.com/python-programming/docstrings, https://peps.python.org/pep-0257/\n",
    "\n",
    "Here is a simple class definition."
   ]
  },
  {
   "cell_type": "code",
   "execution_count": null,
   "id": "6e073c1f-941d-40c3-815b-608a48d1be62",
   "metadata": {},
   "outputs": [],
   "source": [
    "class MyNewClass:\n",
    "    '''This is a docstring. I have created a new class'''\n",
    "    pass"
   ]
  },
  {
   "cell_type": "markdown",
   "id": "30efa216-24c2-4d84-8d6f-9e2976d91643",
   "metadata": {},
   "source": []
  },
  {
   "cell_type": "markdown",
   "id": "34b64c9f",
   "metadata": {},
   "source": []
  },
  {
   "cell_type": "markdown",
   "id": "9d66908a",
   "metadata": {},
   "source": [
    "## Class Inheritance\n",
    "Inheritance is a powerful feature in object oriented programming.\n",
    "\n",
    "It refers to defining a new class with little or no modification to an existing class. The new class is called derived (or child) class, and the one from which it inherits is called the base (or parent) class. \n",
    "\n",
    "**Python Inheritance Syntax**"
   ]
  },
  {
   "cell_type": "code",
   "execution_count": null,
   "id": "d04757fc",
   "metadata": {},
   "outputs": [],
   "source": [
    "class BaseClass:\n",
    "    # Body of base class\n",
    "    pass\n",
    "\n",
    "class DerivedClass(BaseClass):\n",
    "    # Body of derived class\n",
    "    pass"
   ]
  },
  {
   "cell_type": "markdown",
   "id": "dfecbfe7",
   "metadata": {},
   "source": [
    "### Method Overriding\n",
    "To demonstrate the use of inheritance, let us re-use the previous inheritance example.\n"
   ]
  },
  {
   "cell_type": "code",
   "execution_count": null,
   "id": "5ba99e78-a6d9-40c1-837f-e420df5c7259",
   "metadata": {},
   "outputs": [],
   "source": [
    "# class Polygon:\n",
    "#     # Creates a Polygon with the specified amount of sides\n",
    "#     # Each side it's given the default value 0 \n",
    "#     # So it looks like this \n",
    "#     # shape = Polygon(4) \n",
    "#     # >>> shape.sides = [0,0,0,0]  \n",
    "#     def __init__(self, no_of_sides):\n",
    "#         self.n = no_of_sides\n",
    "#         self.sides = [0 for i in range(no_of_sides)]\n",
    "        \n",
    "#     # Defines each side's longitude \n",
    "#     # Rewrites the \n",
    "#     def input_sides(self):\n",
    "#         self.sides = [float(input(\"Enter side \" + str(i + 1) + \":\")) for i in range(self.n)]\n",
    "\n",
    "#     # Displays the longitude of each side\n",
    "#     def disp_sides(self):\n",
    "#         for i in range(self.n):\n",
    "#             print(\"Side\", i + 1, \"is\", self.sides[i])\n",
    "\n",
    "\n",
    "# class Triangle(Polygon):\n",
    "#     def __init__(self):\n",
    "#         Polygon.__init__(self, 3)\n",
    "\n",
    "#     def find_area(self):\n",
    "#         a, b, c = self.sides  ### FMI: See Packing & Unpacking\n",
    "        \n",
    "#         # FMI on Area of a Triangle using it's perimter, see: https://www.cuemath.com/measurement/area-of-triangle-with-3-sides/\n",
    "        \n",
    "#         # Formula: Area = sqrt( s(s-a)(s-b)(s-c) ) \n",
    "#         # Where: Semi Perimeter, s = (a + b + c) / 2 \n",
    "#         # and: a, b, c are the sides of the triangle.\n",
    "        \n",
    "#         # calculate the semi-perimeter\n",
    "#         s = (a + b + c) / 2\n",
    "#         area = ( s*(s-a)*(s-b)*(s-c) ) ** 0.5 # ** it's the Exponentiation operator \n",
    "#         ### FMI on operators, see: https://www.w3schools.com/python/python_operators.asp ###\n",
    "        \n",
    "#         print('The area of the triangle is %0.2f' %area)\n",
    "        \n",
    "# some_triangle = Triangle() \n",
    "# some_triangle.input_sides()\n",
    "# some_triangle.find_area()"
   ]
  },
  {
   "cell_type": "raw",
   "id": "62ca19a8-fb5c-48de-a8ae-219af60f05a9",
   "metadata": {},
   "source": [
    "In the above example, notice that __init__() method was defined in both classes, Triangle as well Polygon. \n",
    "\n",
    "When this happens, the method in the derived class overrides that in the base class. This is to say, __init__() in Triangle gets preference over the __init__ in Polygon. \n",
    "\n",
    "Generally when overriding a base method, we tend to extend the definition rather than simply replace it. The same is being donde by calling the method in base class from the one in derived class ( calling Polygon.__init__() from __init__() in Triangle) \n",
    "\n",
    "A better option would be to use the buil-in function super(). So, super().__init__(3) is equivaent to Polygon.__init__(self, 3) and is preferred.\n",
    "\n",
    "Two built-in functions isinstance() and issubclass() are used to check inheritances. \n",
    "\n",
    "The function isinstance() return True if the object is an instance of the class or other classes derived from it. Each and every class in Python inherits from the base class object.\n",
    "\n"
   ]
  },
  {
   "cell_type": "code",
   "execution_count": null,
   "id": "a11754f8",
   "metadata": {},
   "outputs": [],
   "source": [
    "# isinstance(some_triangle, Triangle)\n",
    "\n",
    "# isinstance(some_triangle, Polygon)\n",
    "\n",
    "# isinstance(some_triangle, object)\n",
    "\n",
    "# # Similarly, issubclass() is used to check for class inheritance. \n",
    "\n",
    "# issubclass(Polygon,Triangle)\n",
    "\n",
    "# issubclass(Triangle, Polygon)"
   ]
  },
  {
   "cell_type": "markdown",
   "id": "fc81cac1",
   "metadata": {},
   "source": [
    "## Multiple Inheritance"
   ]
  },
  {
   "cell_type": "markdown",
   "id": "cbd91fd3-b340-4fb9-af33-77367054f098",
   "metadata": {},
   "source": [
    "A clas can be derived from more than one base class in Python, similar to C++. This is called multiple inheritnace.\n",
    "\n",
    "In multiple inheritance, the features of all the base classes are inherited into the derived class. The syntax for multiple inheritance is similar to single inheritance.\n",
    "\n",
    "Example:"
   ]
  },
  {
   "cell_type": "code",
   "execution_count": null,
   "id": "c44c11b5-3fe3-49e4-924e-d8cfa2067293",
   "metadata": {},
   "outputs": [],
   "source": [
    "class Base1:\n",
    "    pass\n",
    "\n",
    "class Base2:\n",
    "    pass\n",
    "\n",
    "class MultiDerived(Base1, Base2):\n",
    "    pass"
   ]
  },
  {
   "attachments": {
    "1947fef7-f6f7-4720-926a-d477eba3a52b.png": {
     "image/png": "[encoded data removed]"
    }
   },
   "cell_type": "markdown",
   "id": "ca3586e7",
   "metadata": {},
   "source": [
    "![image.png](attachment:1947fef7-f6f7-4720-926a-d477eba3a52b.png)"
   ]
  },
  {
   "cell_type": "markdown",
   "id": "a9df6693",
   "metadata": {},
   "source": [
    "### Multilevel Inheritance\n",
    "We can also inherit from a derived class. This is calles multilevel inheritance. It can be og any depth in Python.\n",
    "\n",
    "In multilevel inheritance, features of the base class and the derived class are inherited into the new derived class.\n",
    "\n",
    "An example with corresponding visualization is given below. "
   ]
  },
  {
   "cell_type": "code",
   "execution_count": null,
   "id": "ccc92656-f541-46ac-ab4e-58ffb0ea2f37",
   "metadata": {},
   "outputs": [],
   "source": [
    "class Base:\n",
    "    pass\n",
    "\n",
    "class Derived1(Base):\n",
    "    pass\n",
    "\n",
    "class Derived2(Derived1):\n",
    "    pass"
   ]
  },
  {
   "attachments": {
    "82709f76-5efd-402b-953c-8c722910d630.png": {
     "image/png": "[encoded data removed]"
    }
   },
   "cell_type": "markdown",
   "id": "a1618ba2",
   "metadata": {},
   "source": [
    "Here, the Derived1  class is derived from the Base class, and the Derived2 class is derived from the Derived1 class.\n",
    "![image.png](attachment:82709f76-5efd-402b-953c-8c722910d630.png)\n"
   ]
  },
  {
   "cell_type": "markdown",
   "id": "b04a5e59",
   "metadata": {},
   "source": [
    "### Method Resolution Order in Python\n",
    "\n",
    "Every class in Python is derived from the *object* class. It is the most base type in Python.\n",
    "\n",
    "So technically, all other classes, either built-in or user-defined, are derived classes and all objects are instances of the *object* class"
   ]
  },
  {
   "cell_type": "code",
   "execution_count": null,
   "id": "1559d34c",
   "metadata": {},
   "outputs": [],
   "source": [
    "print(issubclass(list,object))\n",
    "\n",
    "print(isinstance(5.5,object))\n",
    "\n",
    "print(isinstance(\"Hello\",object))"
   ]
  },
  {
   "cell_type": "markdown",
   "id": "81df924b",
   "metadata": {},
   "source": [
    "### ***RABBIT HOLE*** - Monotonicity."
   ]
  },
  {
   "cell_type": "markdown",
   "id": "34cbd173",
   "metadata": {},
   "source": [
    "## Operator Overloading"
   ]
  },
  {
   "cell_type": "markdown",
   "id": "0a363e24-b34e-4e27-bc2f-4092cd0a8e94",
   "metadata": {},
   "source": [
    "You can change the meaning of an operator in Python depending upon the operands used. \n",
    "\n",
    "Python operators work for built-in classes. But the same operator behaves differently with different types. For example, the + operator will perform arithmetic addition on two number, merge two lists, or concatenate two strings.\n",
    "\n",
    "This feature in Python that allows the same operator to have different meaning according to the context is called operator overloading.\n",
    "\n",
    "So what happens when we use them with objects of a user-defined class? Let us consider the following class, which tries to simulate a point in 2-D coordinate system.\n",
    "\n"
   ]
  },
  {
   "cell_type": "code",
   "execution_count": null,
   "id": "cad3851e",
   "metadata": {},
   "outputs": [],
   "source": [
    "class Point:\n",
    "    def __init__(self, x=0, y=0):\n",
    "        self.x = x\n",
    "        self.y = y\n",
    "        \n",
    "p1 = Point(1, 2)\n",
    "p2 = Point(3, 4) \n",
    "\n",
    "# print(p1 + p2)\n",
    "# will print: \n",
    "# TypeError: unsupported operand type(s) for +: 'Point' and 'Point'"
   ]
  },
  {
   "cell_type": "markdown",
   "id": "111d2c35",
   "metadata": {},
   "source": [
    "Here, we can see that a TypeError was raised, since Python didn't know how to add two Point objects together.\n",
    "\n",
    "However, we can achieve this task in Python through operator overloading. But firs, let's get a notion about special functions. \n",
    "\n",
    "### Python Special Functions\n",
    "Class functions that begin with double underscore are called special functions in Python.\n",
    "\n",
    "These functions are not the typical functions that we define for a class. the __ init __ () function we defined above is one of them. It gets called every time we create a ne object of that class. \n",
    "\n",
    "FMI on Python Special Functions: \n",
    "https://docs.python.org/3/reference/datamodel.html#special-method-names\n",
    "\n",
    "Using special functions, we can make our class compatible with built-in functions"
   ]
  },
  {
   "cell_type": "code",
   "execution_count": null,
   "id": "1ffeda55-e2a8-4360-ae37-12ccc7802830",
   "metadata": {},
   "outputs": [],
   "source": [
    "p1 = Point(2,3)\n",
    "print(p1)"
   ]
  },
  {
   "cell_type": "markdown",
   "id": "8d14a27f-31df-488d-9faa-a4163fa63a50",
   "metadata": {},
   "source": [
    "Suppose we want the print() function to print the coordinates of the Point object instead of what we got. We can define a __ str __ () method in our class that controls how the object gets printed. Let's look at how we can achieve this."
   ]
  },
  {
   "cell_type": "code",
   "execution_count": null,
   "id": "78637876",
   "metadata": {},
   "outputs": [],
   "source": [
    "class Point: \n",
    "    def __init__(self, x = 0, y = 0):\n",
    "        self.x = x\n",
    "        self.y = y\n",
    "    def __str__(self):\n",
    "        return f\"({self.x}, {self.y})\"\n",
    "    \n",
    "p1 = Point(2, 3)\n",
    "print(p1)"
   ]
  },
  {
   "cell_type": "markdown",
   "id": "b2143b42",
   "metadata": {},
   "source": [
    "Now back to operator Overloading.\n",
    "### Overloading the + Operator\n",
    "\n",
    "To overload the + operator, we will need to implement __ add __ () function. \n",
    "\n",
    "**With great power comes great responsibility. We can do whatever we like inside this function.**\n",
    "\n",
    "But, it makes more sense to return a Point object of the coordinate sum."
   ]
  },
  {
   "cell_type": "code",
   "execution_count": null,
   "id": "ee7e9f19-707a-4886-930f-db1985b1685c",
   "metadata": {},
   "outputs": [],
   "source": [
    "class Point:\n",
    "    def __init__(self, x=0, y=0):\n",
    "        self.x = x\n",
    "        self.y = y\n",
    "    \n",
    "    def __str__(self):\n",
    "        return f\"({self.x}, {self.y})\"\n",
    "    \n",
    "    def __add__(self, other):\n",
    "        x = self.x + other.x\n",
    "        y = self.y + other.y\n",
    "        return Point(x, y)\n",
    "    \n",
    "p1 = Point(1, 2)\n",
    "p2 = Point(2, 3)\n",
    "\n",
    "print(p1+p2)"
   ]
  },
  {
   "cell_type": "raw",
   "id": "fd21e6f4-a617-4dc5-952e-3ae28ffc9e5a",
   "metadata": {},
   "source": [
    "What actualy happens is that, when you use p1 + p2, Python calls p1.__add__(p2) which in turn is a Point.__add__(p1, p2). After this, the addition operation is carried out the way we specified. \n",
    "\n",
    "Similarly, we can overload other operators as well. The special function that we need to implement is tabulated bellow. "
   ]
  },
  {
   "cell_type": "markdown",
   "id": "217c100b",
   "metadata": {},
   "source": [
    "<div class=\"table-responsive\">\n",
    "\t<table border=\"0\"><tbody><tr><th>Operator</th>\n",
    "\t\t\t\t<th>Expression</th>\n",
    "\t\t\t\t<th>Internally</th>\n",
    "\t\t\t</tr><tr><td>Addition</td>\n",
    "\t\t\t\t<td><code>p1 + p2</code></td>\n",
    "\t\t\t\t<td><code>p1.__add__(p2)</code></td>\n",
    "\t\t\t</tr><tr><td>Subtraction</td>\n",
    "\t\t\t\t<td><code>p1 - p2</code></td>\n",
    "\t\t\t\t<td><code>p1.__sub__(p2)</code></td>\n",
    "\t\t\t</tr><tr><td>Multiplication</td>\n",
    "\t\t\t\t<td><code>p1 * p2</code></td>\n",
    "\t\t\t\t<td><code>p1.__mul__(p2)</code></td>\n",
    "\t\t\t</tr><tr><td>Power</td>\n",
    "\t\t\t\t<td><code>p1 ** p2</code></td>\n",
    "\t\t\t\t<td><code>p1.__pow__(p2)</code></td>\n",
    "\t\t\t</tr><tr><td>Division</td>\n",
    "\t\t\t\t<td><code>p1 / p2</code></td>\n",
    "\t\t\t\t<td><code>p1.__truediv__(p2)</code></td>\n",
    "\t\t\t</tr><tr><td>Floor Division</td>\n",
    "\t\t\t\t<td><code>p1 // p2</code></td>\n",
    "\t\t\t\t<td><code>p1.__floordiv__(p2)</code></td>\n",
    "\t\t\t</tr><tr><td>Remainder (modulo)</td>\n",
    "\t\t\t\t<td><code>p1 % p2</code></td>\n",
    "\t\t\t\t<td><code>p1.__mod__(p2)</code></td>\n",
    "\t\t\t</tr><tr><td>Bitwise Left Shift</td>\n",
    "\t\t\t\t<td><code>p1 &lt;&lt; p2</code></td>\n",
    "\t\t\t\t<td><code>p1.__lshift__(p2)</code></td>\n",
    "\t\t\t</tr><tr><td>Bitwise Right Shift</td>\n",
    "\t\t\t\t<td><code>p1 &gt;&gt; p2</code></td>\n",
    "\t\t\t\t<td><code>p1.__rshift__(p2)</code></td>\n",
    "\t\t\t</tr><tr><td>Bitwise AND</td>\n",
    "\t\t\t\t<td><code>p1 &amp; p2</code></td>\n",
    "\t\t\t\t<td><code>p1.__and__(p2)</code></td>\n",
    "\t\t\t</tr><tr><td>Bitwise OR</td>\n",
    "\t\t\t\t<td><code>p1 | p2</code></td>\n",
    "\t\t\t\t<td><code>p1.__or__(p2)</code></td>\n",
    "\t\t\t</tr><tr><td>Bitwise XOR</td>\n",
    "\t\t\t\t<td><code>p1 ^ p2</code></td>\n",
    "\t\t\t\t<td><code>p1.__xor__(p2)</code></td>\n",
    "\t\t\t</tr><tr><td>Bitwise NOT</td>\n",
    "\t\t\t\t<td><code>~p1</code></td>\n",
    "\t\t\t\t<td><code>p1.__invert__()</code></td>\n",
    "\t\t\t</tr></tbody></table></div>"
   ]
  },
  {
   "cell_type": "markdown",
   "id": "6c219ef5",
   "metadata": {},
   "source": [
    "## Concepts & Details"
   ]
  },
  {
   "cell_type": "markdown",
   "id": "94b51338",
   "metadata": {},
   "source": [
    "### Class attributes vs Instance attributes"
   ]
  },
  {
   "cell_type": "markdown",
   "id": "9110d895-29e0-4c92-a8ee-2cddb304a1a1",
   "metadata": {
    "tags": []
   },
   "source": [
    "- Class attributes are the variables defined directly in the class that are shared by all objects of the class.\n",
    "\n",
    "- Instance attributes are attributes or properties attached to an instance of a class. Instance attributes are defined in the constructor.\n",
    "\n",
    "<table >\n",
    "                <thead>\n",
    "                    <tr>\n",
    "                        <th class=\"w-50\">\n",
    "                            Class Attribute\n",
    "                        </th>\n",
    "                        <th class=\"w-50\">\n",
    "                            Instance Attribute\n",
    "                        </th>\n",
    "                    </tr>\n",
    "                </thead>\n",
    "                <tbody>\n",
    "                    <tr>\n",
    "                        <td>\n",
    "                            Defined directly inside a class.\n",
    "                        </td>\n",
    "                        <td>\n",
    "                            Defined inside a constructor using the <code>self</code> parameter.\n",
    "                        </td>\n",
    "                    </tr>\n",
    "                    <tr>\n",
    "                        <td>\n",
    "                            Shared across all objects.\n",
    "                        </td>\n",
    "                        <td>\n",
    "                            Specific to object.\n",
    "                        </td>\n",
    "                    </tr>\n",
    "                    <tr>\n",
    "                        <td>\n",
    "                            Accessed using class name as well as using object with dot notation, e.g. <code>classname.class_attribute</code> or <code>object.class_attribute</code>\n",
    "                        </td>\n",
    "                        <td>\n",
    "                            Accessed using object dot notation e.g. <code>object.instance_attribute</code>\n",
    "                        </td>\n",
    "                    </tr>\n",
    "                    <tr>\n",
    "                        <td>Changing value by using <code>classname.class_attribute = value</code> will be reflected to all the objects.</td>\n",
    "                        <td>Changing value of instance attribute will not be reflected to other objects.</td>\n",
    "                    </tr>\n",
    "                    </tbody>\n",
    "                </table>"
   ]
  },
  {
   "cell_type": "code",
   "execution_count": null,
   "id": "0a9da55c",
   "metadata": {},
   "outputs": [],
   "source": [
    "# Example: \n",
    "# first: We define a Student class with a class attribute called 'count' which will keep the ammount of students.  \n",
    "# then: Everytime we create a new Student object the count will be increased by one.\n",
    "class Student:\n",
    "    count = 0\n",
    "    def __init__(self):\n",
    "        Student.count += 1 \n",
    "\n",
    "std1=Student()\n",
    "print(Student.count)\n",
    "\n",
    "std2 = Student()\n",
    "print(Student.count)"
   ]
  },
  {
   "cell_type": "markdown",
   "id": "522b5930",
   "metadata": {},
   "source": [
    "### Instance Methods"
   ]
  },
  {
   "cell_type": "markdown",
   "id": "a26e56ed",
   "metadata": {},
   "source": [
    "### Static Methods\n"
   ]
  },
  {
   "cell_type": "markdown",
   "id": "d236d25c",
   "metadata": {},
   "source": [
    "### Class methods\n"
   ]
  },
  {
   "cell_type": "markdown",
   "id": "804ca110",
   "metadata": {},
   "source": [
    "### Abstract Class\n"
   ]
  },
  {
   "cell_type": "markdown",
   "id": "65bc6443",
   "metadata": {},
   "source": [
    "### First Class Objects\n"
   ]
  },
  {
   "cell_type": "markdown",
   "id": "0f24ff84",
   "metadata": {},
   "source": [
    "## OOP Example 1\n"
   ]
  },
  {
   "cell_type": "markdown",
   "id": "7e276d36",
   "metadata": {},
   "source": []
  },
  {
   "cell_type": "markdown",
   "id": "64902aca",
   "metadata": {},
   "source": [
    "# Python - Pandas"
   ]
  },
  {
   "cell_type": "markdown",
   "id": "d356b7c4",
   "metadata": {},
   "source": [
    "## Introduction\n",
    "Pandas is a Python library used for working with data sets.\n",
    "It has functions for analyzing, cleaning, exploring, and manipulating data.\n",
    "\n",
    "The name \"Pandas\" has a reference to both \"Panel Data\" and \"Python Data Analysis\".\n",
    "\n",
    "Pandas allows to analyze big data and make conclusions based on statistical theories.\n",
    "Pandas can clean messy data sets, and make them readable and relevant.\n",
    "\n",
    "**Relevant data is very important in data science**\n",
    "\n",
    "Install pandas:\n",
    "C:\\Users\\Your Name>pip install pandas"
   ]
  },
  {
   "cell_type": "markdown",
   "id": "45fcfd74",
   "metadata": {},
   "source": [
    "## Pandas Series\n",
    "A Pandas Series is like a column in a table.\n",
    "\n",
    "It is a one-dimensional array holding data of any type. \n",
    "Example:"
   ]
  },
  {
   "cell_type": "code",
   "execution_count": null,
   "id": "97ad0a42",
   "metadata": {},
   "outputs": [],
   "source": [
    "import pandas as pd\n",
    "a = [1, 7, 2]\n",
    "myvar = pd.Series(a)\n",
    "print(myvar)"
   ]
  },
  {
   "cell_type": "markdown",
   "id": "66d20458",
   "metadata": {},
   "source": [
    "### Lables\n",
    "If nothing else is specified, the values are labeled with their index number. First value has index 0, second value has index 1, etc.\n",
    "\n",
    "This label can be used to access a specified value.\n",
    "\n",
    "With the _index_ argument, you can name your own labels.\n",
    "\n",
    "Example:\n"
   ]
  },
  {
   "cell_type": "code",
   "execution_count": null,
   "id": "68850c7c-af7b-40a8-8653-d6eb9fac6719",
   "metadata": {},
   "outputs": [],
   "source": [
    "import pandas as pd \n",
    "\n",
    "a = [1, 7, 2]\n",
    "\n",
    "myvar = pd.Series(a, index = [\"x\", \"y\", \"z\"])\n",
    "\n",
    "print(myvar)\n",
    "\n",
    "# When you have created labels, you can access an item by referring to the label. \n",
    "\n",
    "print(myvar[\"y\"])\n",
    "\n"
   ]
  },
  {
   "cell_type": "markdown",
   "id": "f8bbe824-442b-4c4e-ac6c-55a5ef069aba",
   "metadata": {},
   "source": [
    "**Key/Value Objects as Series**\n",
    "\n",
    "You can also use a key/value object, like a dictionary, when creating a Series.\n"
   ]
  },
  {
   "cell_type": "code",
   "execution_count": null,
   "id": "644dc318-6888-46f9-9cee-8e90b3d6cc11",
   "metadata": {},
   "outputs": [],
   "source": [
    "import pandas as pd \n",
    "\n",
    "calories = {\"day1\": 420, \"day2\": 380, \"day3\": 390}\n",
    "\n",
    "myvar = pd.Series(calories)\n",
    "\n",
    "print(myvar)\n",
    "\n",
    "# THe kets of the dictionary become the labels. "
   ]
  },
  {
   "cell_type": "markdown",
   "id": "96a068ec-aa1f-4aa6-95d3-a287b1623848",
   "metadata": {},
   "source": [
    "To select only some of the items in the dictionary, use the index argument and specify only the items you want to include in the Series."
   ]
  },
  {
   "cell_type": "code",
   "execution_count": null,
   "id": "ae8365ca",
   "metadata": {},
   "outputs": [],
   "source": [
    "import pandas as pd \n",
    "\n",
    "calories = {\"day1\": 420, \"day2\": 380, \"day3\": 390}\n",
    "\n",
    "myvar = pd.Series(calories, index = [\"day1\",\"day3\"])\n",
    "\n",
    "print(myvar)"
   ]
  },
  {
   "cell_type": "markdown",
   "id": "d8cff8fc",
   "metadata": {},
   "source": [
    "## DataFrames\n",
    "Data sets in Pandas are usually multi-dimensional tables, called DataFrames. \n",
    "\n",
    "Series is like a column, a DataFrame is the whole table. \n",
    "\n",
    "Example: "
   ]
  },
  {
   "cell_type": "code",
   "execution_count": null,
   "id": "145473bd",
   "metadata": {},
   "outputs": [],
   "source": [
    "import pandas as pd\n",
    "\n",
    "data = {\n",
    "  \"calories\": [420, 380, 390],\n",
    "  \"duration\": [50, 40, 45]\n",
    "}\n",
    "\n",
    "df = pd.DataFrame(data)\n",
    "\n",
    "print(df)\n"
   ]
  },
  {
   "cell_type": "markdown",
   "id": "026e3a40",
   "metadata": {},
   "source": [
    "### Locate Row\n",
    "As you can see from the result above, the DataFrame is like a table with rows and columns.\n",
    "\n",
    "Pandas use the __loc__ attribute to return one or more specified row(s)\n",
    "\n",
    "Example: \n"
   ]
  },
  {
   "cell_type": "code",
   "execution_count": null,
   "id": "385d66b5",
   "metadata": {},
   "outputs": [],
   "source": [
    "# refer to the row index:\n",
    "print(df.loc[0])\n",
    "\n",
    "print(\"---------------------\")\n",
    "\n",
    "# Return row 0 and 1:\n",
    "print(df.loc[[0, 1]])\n",
    "\n",
    "# When using [], the result is a Pandas DataFrame\n"
   ]
  },
  {
   "cell_type": "markdown",
   "id": "5db7ed90",
   "metadata": {},
   "source": [
    "### Named Indexes\n",
    "With the index argument, you can name your own indexes. "
   ]
  },
  {
   "cell_type": "code",
   "execution_count": null,
   "id": "890654a6",
   "metadata": {},
   "outputs": [],
   "source": [
    "import pandas as pd\n",
    "\n",
    "data = {\n",
    "  \"calories\": [420, 380, 390],\n",
    "  \"duration\": [50, 40, 45]\n",
    "}\n",
    "\n",
    "df = pd.DataFrame(data, index = [\"day1\", \"day2\", \"day3\"])\n",
    "\n",
    "print(df) "
   ]
  },
  {
   "cell_type": "markdown",
   "id": "e4ac55a9",
   "metadata": {},
   "source": [
    "### Locate Named INdexes\n",
    "Use the named index in the loc attribute to return the specified row(s) "
   ]
  },
  {
   "cell_type": "code",
   "execution_count": null,
   "id": "81fffec5",
   "metadata": {},
   "outputs": [],
   "source": [
    "# Return day2 \n",
    "print(df.loc[\"day2\"])"
   ]
  },
  {
   "cell_type": "markdown",
   "id": "3b0da879",
   "metadata": {},
   "source": [
    "### Load Files into a Data Frame\n",
    "If your data sets are stored in a file, Pandas can load them into a DataFrame. "
   ]
  },
  {
   "cell_type": "code",
   "execution_count": null,
   "id": "4dad15ac",
   "metadata": {},
   "outputs": [],
   "source": [
    "import pandas as pd \n",
    "\n",
    "df = pd.read_csv('Materials/calories_data.csv')\n",
    "\n",
    "print(df)"
   ]
  },
  {
   "cell_type": "markdown",
   "id": "7d64236c",
   "metadata": {},
   "source": [
    "## Pandas Read CSV\n",
    "A simple way to store big data sets is to use CSV files. \n",
    "\n",
    "CSV files contains plain text and is a wel know format that can be read by everyone including Pandas.\n",
    "\n",
    "In the next examples we will be using a CSV file called 'calories_data.csv'\n",
    "\n",
    "Example"
   ]
  },
  {
   "cell_type": "code",
   "execution_count": null,
   "id": "5b0f24d7",
   "metadata": {},
   "outputs": [],
   "source": [
    "import pandas as pd \n",
    "\n",
    "df = pd.read_csv('Materials/calories_data.csv')\n",
    "\n",
    "# print(df.to_string())   # This prints the entire DataFrame\n",
    "print(df.head())          # This prints only the first five rows\n"
   ]
  },
  {
   "cell_type": "markdown",
   "id": "3ab76464",
   "metadata": {},
   "source": [
    "## Read JSON\n",
    "Big data sts are often store, or extracted as JSON.\n",
    "\n",
    "JSON is plain text, but has the format of an object, and is well known in the world of programming, including Pandas.\n",
    "\n",
    "In the next examples we'll be using a JSON file called 'calories_data.json'\n"
   ]
  },
  {
   "cell_type": "code",
   "execution_count": null,
   "id": "afad013c",
   "metadata": {},
   "outputs": [],
   "source": [
    "import pandas as pd \n",
    "\n",
    "df = pd.read_json('Materials/calories_data.json')\n",
    "\n",
    "print(df.head())"
   ]
  },
  {
   "cell_type": "markdown",
   "id": "69670f18",
   "metadata": {},
   "source": [
    "## Analyzing DataFrames\n",
    "One of the most useds methods for getting a quick overview of the DataFrame is the head() method.\n",
    "\n",
    "The head() method return the headers and a specified number of rows, starting from the top. \n",
    "\n",
    "There's also a tail() method for viewing the last rows of the DataFrame. \n",
    "\n",
    "The tail() method returns the headers and a specified number of rows, starting from the bottom. \n",
    "\n",
    "examples: "
   ]
  },
  {
   "cell_type": "code",
   "execution_count": null,
   "id": "731cb243-0fbd-436e-a58c-10fa2097d706",
   "metadata": {},
   "outputs": [],
   "source": [
    "import pandas as pd \n",
    "df = pd.read_csv('Materials/calories_data.csv') \n",
    "\n",
    "print(df.head())\n",
    "print(df.tail())"
   ]
  },
  {
   "cell_type": "markdown",
   "id": "11464593-2d50-49c0-a050-c92d64afb4d4",
   "metadata": {},
   "source": [
    "***Info About the Data*** \n",
    "The DataFrames object has a method called info(), that gives you more information about the data set. \n",
    "Example: "
   ]
  },
  {
   "cell_type": "code",
   "execution_count": null,
   "id": "a3d666c7-1b3b-423c-b9cf-9d55828de3a3",
   "metadata": {},
   "outputs": [],
   "source": [
    "print(df.info())"
   ]
  },
  {
   "cell_type": "raw",
   "id": "118e5634-eb10-451b-8cdf-c8fe429ad95b",
   "metadata": {},
   "source": [
    "The result tells us there are 169 rows and for columns: \n",
    "\n",
    "''' \n",
    "RangeIndex: 169 entries, 0 to 168\n",
    "Data columns (total 4 columns):\n",
    "''' \n",
    "\n",
    "And the name of each column, with the data type: \n",
    "\n",
    "''' \n",
    "   #   Column    Non-Null Count  Dtype  \n",
    "  ---  ------    --------------  -----  \n",
    "   0   Duration  169 non-null    int64  \n",
    "   1   Pulse     169 non-null    int64  \n",
    "   2   Maxpulse  169 non-null    int64  \n",
    "   3   Calories  164 non-null    float64\n",
    "'''"
   ]
  },
  {
   "cell_type": "markdown",
   "id": "cd26c8a7",
   "metadata": {},
   "source": [
    "***Null Values***\n",
    "The info() method also tells us how many Non-Null values therer are present in each column, and in our data set it seems like there are 164 of 169 Non-Null values in the \"Calories\" column.\n",
    "\n",
    "Whitch means that there are 5 rows with no value at all, in the \"Calories\" column, for whatever reason.\n",
    "\n",
    "Empty values, or Null values can be bad when analyzing data, and you should consider removing rows with empty values. This is a step towards what is called _cleaning data_."
   ]
  },
  {
   "cell_type": "markdown",
   "id": "ef7d8d80",
   "metadata": {},
   "source": [
    "## Data Cleaning\n",
    "\n",
    "Data cleaning means fixing bad data in your data set.\n",
    "\n",
    "Bad data could be: \n",
    "- Empty cells \n",
    "- Data in wrong format\n",
    "- Wrong data\n",
    "- Duplicates\n",
    "- NaN values "
   ]
  },
  {
   "cell_type": "raw",
   "id": "aa8b8d2c-8b63-458e-bf1f-0c03189a09ec",
   "metadata": {},
   "source": [
    "The data set that we'll be using: \n",
    "\n",
    "      Duration          Date  Pulse  Maxpulse  Calories\n",
    "  0         60  '2020/12/01'    110       130     409.1\n",
    "  1         60  '2020/12/02'    117       145     479.0\n",
    "  2         60  '2020/12/03'    103       135     340.0\n",
    "  3         45  '2020/12/04'    109       175     282.4\n",
    "  4         45  '2020/12/05'    117       148     406.0\n",
    "  5         60  '2020/12/06'    102       127     300.0\n",
    "  6         60  '2020/12/07'    110       136     374.0\n",
    "  7        450  '2020/12/08'    104       134     253.3\n",
    "  8         30  '2020/12/09'    109       133     195.1\n",
    "  9         60  '2020/12/10'     98       124     269.0\n",
    "  10        60  '2020/12/11'    103       147     329.3\n",
    "  11        60  '2020/12/12'    100       120     250.7\n",
    "  12        60  '2020/12/12'    100       120     250.7\n",
    "  13        60  '2020/12/13'    106       128     345.3\n",
    "  14        60  '2020/12/14'    104       132     379.3\n",
    "  15        60  '2020/12/15'     98       123     275.0\n",
    "  16        60  '2020/12/16'     98       120     215.2\n",
    "  17        60  '2020/12/17'    100       120     300.0\n",
    "  18        45  '2020/12/18'     90       112       NaN\n",
    "  19        60  '2020/12/19'    103       123     323.0\n",
    "  20        45  '2020/12/20'     97       125     243.0\n",
    "  21        60  '2020/12/21'    108       131     364.2\n",
    "  22        45           NaN    100       119     282.0\n",
    "  23        60  '2020/12/23'    130       101     300.0\n",
    "  24        45  '2020/12/24'    105       132     246.0\n",
    "  25        60  '2020/12/25'    102       126     334.5\n",
    "  26        60    2020/12/26    100       120     250.0\n",
    "  27        60  '2020/12/27'     92       118     241.0\n",
    "  28        60  '2020/12/28'    103       132       NaN\n",
    "  29        60  '2020/12/29'    100       132     280.0\n",
    "  30        60  '2020/12/30'    102       129     380.3\n",
    "  31        60  '2020/12/31'     92       115     243.0"
   ]
  },
  {
   "cell_type": "markdown",
   "id": "65587d5b",
   "metadata": {},
   "source": [
    "- The data set contains some empty cells (\"Date\" in row 22, and \"Calories\" in row 18 and 28).\n",
    "\n",
    "- The data set contains wrong format (\"Date\" in row 26).\n",
    "\n",
    "- The data set contains wrong data (\"Duration\" in row 7).\n",
    "\n",
    "- The data set contains duplicates (row 11 and 12)."
   ]
  },
  {
   "cell_type": "markdown",
   "id": "88205b2d",
   "metadata": {},
   "source": [
    "### Cleaning Empty Cells\n",
    "#### Remove Rows with dropna()\n",
    "One wat to deal with empty cells is to remove rows that contain empty cells. \n",
    "\n",
    "This is usually ok, since data sets can be very big, and removing a few rows will not have big impact on the result.\n",
    "\n",
    "Example - Return a new DataFrame wirh no empty cells: "
   ]
  },
  {
   "cell_type": "code",
   "execution_count": null,
   "id": "840f855d",
   "metadata": {},
   "outputs": [],
   "source": [
    "import pandas as pd \n",
    "\n",
    "df = pd.read_csv('Materials/unclean_data_example.csv')\n",
    "\n",
    "new_df = df.dropna()\n",
    "\n",
    "print(new_df.info())\n",
    "\n",
    "# By default, the dropna() method returns a new \n",
    "# DataFrame, and will not change the original.\n",
    "\n",
    "# If you wanted to change the original DataFrame, you could\n",
    "# use the inplace = True argument\n",
    "#\n",
    "# df.dropna(inplace = True)\n",
    "# \n",
    "# will NOT return a new DataFrame, but remove rows from the \n",
    "# original."
   ]
  },
  {
   "cell_type": "markdown",
   "id": "774db144",
   "metadata": {},
   "source": [
    "#### Replace Empty Values with fillna()\n",
    "\n",
    "Another way of dealing with empty cells is to insert a new value instead.\n",
    "\n",
    "This way you do not have to delete entire rows jus because some empty cells. \n",
    "\n",
    "The fillna() method allows us to replace emty cells with a value: \n",
    "\n",
    "Example:"
   ]
  },
  {
   "cell_type": "code",
   "execution_count": null,
   "id": "ec92aae0",
   "metadata": {},
   "outputs": [],
   "source": [
    "import pandas as pd \n",
    "\n",
    "df = pd.read_csv('Materials/unclean_data_example.csv')\n",
    "\n",
    "df.fillna(130, inplace = True) \n",
    "df.info()"
   ]
  },
  {
   "cell_type": "markdown",
   "id": "7ecedca7",
   "metadata": {},
   "source": [
    "#### Replace only for specified columns\n",
    "To only replace empry values for one column, specify the column name for the DataFrame: \n"
   ]
  },
  {
   "cell_type": "code",
   "execution_count": null,
   "id": "9e3f52a1",
   "metadata": {},
   "outputs": [],
   "source": [
    "# Replace NULL values in the \"Calories\" column with the number 130: \n",
    "import pandas as pd \n",
    "\n",
    "df = pd.read_csv('Materials/unclean_data_example.csv')\n",
    "\n",
    "df[\"Calories\"].fillna(130, inplace = True)\n",
    "\n",
    "df[\"Calories\"]"
   ]
  },
  {
   "cell_type": "markdown",
   "id": "b4bddf4e",
   "metadata": {},
   "source": [
    "#### Replace Using Mean, Median or Mode\n",
    "\n",
    "A common way way to replace emptycells is to calculate the mean, median or mode value of the column.\n",
    "\n",
    "Pandas uses the mean(), median(), and mode() methods to calculate the respective values for a specified column: \n",
    "\n",
    "Example:\n",
    "\n",
    "Calculate the MEAN, and replace any emty values with it: "
   ]
  },
  {
   "cell_type": "code",
   "execution_count": null,
   "id": "ea7faa93",
   "metadata": {},
   "outputs": [],
   "source": [
    "df = pd.read_csv('Materials/unclean_data_example.csv')\n",
    "\n",
    "calories_mean = df[\"Calories\"].mean() \n",
    "\n",
    "df[\"Calories\"].fillna(calories_mean, inplace = True) \n",
    "\n",
    "print(\"Calories mean:\", calories_mean)\n",
    "\n",
    "print(df[\"Calories\"])"
   ]
  },
  {
   "cell_type": "markdown",
   "id": "dd23e9e5",
   "metadata": {},
   "source": [
    "### Cleaning Data of Wrong Format\n",
    "\n",
    "Cells with data of wrong format can make it difficult, or even impossible to analyze data.\n",
    "\n",
    "To fix it, you have two options: Remove the rows, or convert all cellss in the columns to the same format.\n",
    "\n",
    "### Convert into a correct format\n",
    "\n",
    "In our data Frame, we have two cells with the wrong format. Row 22 and row 26\n",
    "\n",
    "Pandas has a to_datetime() method for this. \n",
    "\n",
    "Example:\n",
    "\n"
   ]
  },
  {
   "cell_type": "code",
   "execution_count": null,
   "id": "34886fbc-a0fb-4ccc-ad61-e87ace4d9bf9",
   "metadata": {},
   "outputs": [],
   "source": [
    "import pandas as pd\n",
    "\n",
    "df = pd.read_csv('Materials/unclean_data_example.csv')\n",
    "\n",
    "df['Date'] = pd.to_datetime(df['Date'])\n",
    "\n",
    "print(df.to_string())"
   ]
  },
  {
   "cell_type": "markdown",
   "id": "101a4fbc-d131-4863-b440-4443d54342f6",
   "metadata": {},
   "source": [
    "This will fix the row 26, but the 22 has a NaT value (Not a Time), which can be handled as a NULL value, and we can remove the row by using the dropna() method"
   ]
  },
  {
   "cell_type": "code",
   "execution_count": null,
   "id": "3a294e75",
   "metadata": {},
   "outputs": [],
   "source": [
    "df.dropna(subset=['Date'], inplace = True)"
   ]
  },
  {
   "cell_type": "markdown",
   "id": "0e9004e3",
   "metadata": {},
   "source": [
    "### Fixing wrong data\n",
    "\n",
    "\"Wrong data\" does not have to be \"empty cells\" or \"wrong format\", it can just be wrong, like if someone registered \"199\" instead of \"1.99\".\n",
    "\n",
    "Sometimes you can spot wrong data by looking at the data set, because you have an expectation of what it should be.\n",
    "\n",
    "If you take a look at our data set, you can see that in row 7, the duration is 450, but for all the other rows the duration is between 30 and 60.\n",
    "\n",
    "It doesn't have to be wrong, but taking in consideration that this is the data set of someone's workout sessions, we conclude with the fact that this person did not work out in 450 minutes.\n",
    "\n",
    "#### Replacing values\n",
    "\n",
    "One way to fix wrong values is to replace them with something else. \n",
    "\n",
    "In our example, it is mot likely a typo, and the value should be \"45\" instead of \"450\", and we could just insert 45 in row 7"
   ]
  },
  {
   "cell_type": "code",
   "execution_count": null,
   "id": "39df262a-3694-4944-9d82-6444ab24b3b7",
   "metadata": {},
   "outputs": [],
   "source": [
    "df.loc[7, 'Duration'] = 45"
   ]
  },
  {
   "cell_type": "markdown",
   "id": "deea2faf-0559-4be2-952b-e51460084065",
   "metadata": {},
   "source": [
    "To replace wrong data for larger data sets you can create som rules, and replace any values that are outside of the boundaries\n",
    "\n",
    "Example: \n",
    "\n",
    "Loop through all values in the \"Duration\" column. \n",
    "\n",
    "If the value is higher than 120, set it 120:"
   ]
  },
  {
   "cell_type": "code",
   "execution_count": null,
   "id": "a285eec3",
   "metadata": {},
   "outputs": [],
   "source": [
    "for row in df.index: \n",
    "    if df.loc[row, \"Duration\"] > 120: \n",
    "        df.loc[row, \"Duration\"] = 120"
   ]
  },
  {
   "cell_type": "markdown",
   "id": "e258b469",
   "metadata": {},
   "source": [
    "#### Removing Rows\n",
    "Another way of handling wrong data is to remove the rows that contains wrong data"
   ]
  },
  {
   "cell_type": "code",
   "execution_count": null,
   "id": "56ac58bd",
   "metadata": {},
   "outputs": [],
   "source": [
    "for x in df.index:\n",
    "  if df.loc[x, \"Duration\"] > 120:\n",
    "    df.drop(x, inplace = True)"
   ]
  },
  {
   "cell_type": "markdown",
   "id": "6603b4aa",
   "metadata": {},
   "source": [
    "### Finding and Removing Duplicates\n",
    "\n",
    "To discover duplicates, we can use the duplicated() method.\n",
    "This method returns a boolean value for each row. \n"
   ]
  },
  {
   "cell_type": "code",
   "execution_count": null,
   "id": "251020b0-198a-4bd9-ba38-3de5625469d2",
   "metadata": {},
   "outputs": [],
   "source": [
    "print(df.duplicated())"
   ]
  },
  {
   "cell_type": "markdown",
   "id": "bdf74afa-99d7-407b-a394-e55198f84be6",
   "metadata": {},
   "source": [
    "To remove duplicates, use the drop_duplicates() method"
   ]
  },
  {
   "cell_type": "code",
   "execution_count": null,
   "id": "1f254ba1",
   "metadata": {},
   "outputs": [],
   "source": [
    "df.drop_duplicates(inplace = True)\n",
    "print(df.duplicated())"
   ]
  },
  {
   "cell_type": "markdown",
   "id": "5c80f2d8",
   "metadata": {},
   "source": [
    "## Data Correlations\n"
   ]
  },
  {
   "cell_type": "markdown",
   "id": "205e64da-81d7-4d86-8880-02282304d401",
   "metadata": {},
   "source": [
    "**Finding Relationships**\n",
    "A great aspect of the Pandas module is the corr() method. \n",
    "\n",
    "The corr)= method calculates the relationship between each column in your data set.\n"
   ]
  },
  {
   "cell_type": "code",
   "execution_count": null,
   "id": "b43e01ef-26c7-42cb-978b-43cefa48e2ee",
   "metadata": {},
   "outputs": [],
   "source": [
    "import pandas as pd\n",
    "df = pd.read_csv(\"Materials/correlation_example_data.csv\")\n",
    "df.corr()"
   ]
  },
  {
   "cell_type": "markdown",
   "id": "87bf5cca",
   "metadata": {},
   "source": [
    "**Result Explained**\n",
    "The Result of the corr() method is a table with a lot of numbers that represents how well relationship is between two columns. \n",
    "\n",
    "The number varies from -1 to 1. \n",
    "\n",
    "1 means that there is a 1 to 1 relationship, and for this data set, each time a value went up in the first column, the other one went up as well.\n",
    "\n",
    "0.9 is also a good relationship, and if you increase one value, the other will probably increase as well.\n",
    "\n",
    "-0.9 would be just as good relationship as 0.9, but if you increase one value, the other will probably go down. \n",
    "\n",
    "0.2 means NOT a good relationship, meaning that if one value goes up does not mean that the other will. \n"
   ]
  },
  {
   "cell_type": "markdown",
   "id": "0eaeabaa",
   "metadata": {},
   "source": [
    "## Pandas Plotting\n",
    "Pandas uses the plot() method to create diagrams. \n",
    "\n",
    "We can use Pyplot, a submodule of the Matplotlib library to visualize the diagram on the screen.\n",
    "\n",
    "Example: \n",
    "\n",
    "Import pyplot from Matplotlib and visualize our DataFrame:"
   ]
  },
  {
   "cell_type": "code",
   "execution_count": null,
   "id": "cb5c7fec",
   "metadata": {},
   "outputs": [],
   "source": [
    "import pandas as pd \n",
    "import matplotlib.pyplot as plt\n",
    "\n",
    "df = pd.read_csv('Materials/calories_data.csv') \n",
    "\n",
    "df.plot()\n",
    "plt.show()\n",
    "\n"
   ]
  },
  {
   "cell_type": "markdown",
   "id": "b789eef1",
   "metadata": {},
   "source": [
    "### Scatter Plot"
   ]
  },
  {
   "cell_type": "code",
   "execution_count": null,
   "id": "08ce2e0a",
   "metadata": {},
   "outputs": [],
   "source": [
    "import pandas as pd\n",
    "import matplotlib.pyplot as plt\n",
    "\n",
    "df = pd.read_csv('Materials/calories_data.csv')\n",
    "\n",
    "df.plot(kind = 'scatter', x = 'Duration', y = 'Calories')\n",
    "\n",
    "plt.show()"
   ]
  },
  {
   "cell_type": "markdown",
   "id": "2e481c93",
   "metadata": {},
   "source": [
    "### Histogram"
   ]
  },
  {
   "cell_type": "code",
   "execution_count": null,
   "id": "864e148a-4d71-4d4b-8558-80608fc086c1",
   "metadata": {},
   "outputs": [],
   "source": [
    "df[\"Duration\"].plot(kind = 'hist')"
   ]
  },
  {
   "cell_type": "markdown",
   "id": "fc5a34fe-9f5b-45a1-9054-b1e16cf6833f",
   "metadata": {
    "jp-MarkdownHeadingCollapsed": true,
    "tags": [],
    "toc-hr-collapsed": true
   },
   "source": []
  },
  {
   "cell_type": "markdown",
   "id": "cf90b678",
   "metadata": {},
   "source": []
  },
  {
   "cell_type": "markdown",
   "id": "e7952d21",
   "metadata": {},
   "source": [
    "# Python - NumPy"
   ]
  },
  {
   "cell_type": "markdown",
   "id": "8e118ee8",
   "metadata": {},
   "source": [
    "NumPy is a Python library used for working with arrays.\n",
    "\n",
    "It also has functions for working in domain of linear algebra, fourier transform, and matrices.\n",
    "\n",
    "NumPy stands for Numerical Python.\n",
    "\n",
    "**Why use NumPy?**\n",
    "\n",
    "In Python we have lists thtat serve the purpose of arrays, but they are slow to process.\n",
    "\n",
    "NumPy aims to provide an array object that is up to 50x faster than traditional Python lists.\n",
    "\n",
    "The array object in NumPy is called ___ndarray___, it provides a ot of supporting functions that make working with ___ndarray___ very easy. \n",
    "\n",
    "Arrays are very frequently used in data science, where speed and resources are very important.\n",
    "\n",
    "**Why is NumPy faster thab lists?**\n",
    "NumPy arrays are stored at one continuos place in memory unlike lists, so processes can access and manipulate them very efficiently. \n",
    "\n",
    "This behavior is called locality of reference in computer science.\n",
    "\n",
    "This is the main reason why NumPy is faster than lists. Also it is optimized to work with latests CPU architectures."
   ]
  },
  {
   "cell_type": "markdown",
   "id": "5430b944",
   "metadata": {},
   "source": [
    "## Creating Arrays\n",
    "We can create a NumPy ___ndarray___ object using the array() function. "
   ]
  },
  {
   "cell_type": "markdown",
   "id": "d483bea2-2f1d-4b56-bd23-a645e11afa10",
   "metadata": {
    "tags": []
   },
   "source": []
  },
  {
   "cell_type": "code",
   "execution_count": null,
   "id": "61ece343",
   "metadata": {},
   "outputs": [],
   "source": [
    "import numpy as np\n",
    "\n",
    "arr = np.array([1, 2, 3, 4, 5])\n",
    "\n",
    "print(arr)\n",
    "print(type(arr))"
   ]
  },
  {
   "cell_type": "markdown",
   "id": "09ad387e",
   "metadata": {},
   "source": [
    "To create an ___ndarray___, we can pass a list, tuple or any array-like object into the array() method, and it will be converted into an ndarray\n",
    "\n",
    "### Dimensions in Arrays\n",
    "A dimension in arrays is one level of array depth (nested arrays). \n",
    "\n",
    "#### 0-D Arrays\n",
    "\n",
    "0-D arrays, or Scalars, are the elements in an array. Each value in an array is a 0-D array.\n",
    "\n",
    "Example of 0-D array:"
   ]
  },
  {
   "cell_type": "code",
   "execution_count": null,
   "id": "6c185401",
   "metadata": {},
   "outputs": [],
   "source": [
    "import numpy as np\n",
    "\n",
    "arr = np.array(42)\n",
    "\n",
    "print(arr)\n"
   ]
  },
  {
   "cell_type": "markdown",
   "id": "9c324fbe",
   "metadata": {},
   "source": [
    "#### 1-D Arrays\n",
    "An array that has 0-D arrays as its elements is called uni-dimensional or 1-D array.\n",
    "\n",
    "These are the most common and basic arrays. \n",
    "\n",
    "Example of a 1-D array:"
   ]
  },
  {
   "cell_type": "code",
   "execution_count": null,
   "id": "dc069dfe",
   "metadata": {},
   "outputs": [],
   "source": [
    "import numpy as np\n",
    "\n",
    "arr = np.array([1, 2, 3, 4, 5])\n",
    "\n",
    "print(arr)"
   ]
  },
  {
   "cell_type": "markdown",
   "id": "9842cbe2",
   "metadata": {},
   "source": [
    "#### 2-D Arrays\n",
    "An array that has 1-D arrays as its elements is called a 2-D array.\n",
    "\n",
    "These are often used to represent matrix or 2nd order tensor\n",
    "\n",
    "- **Note:** NumPy has a whole sub module dedicated towards matrix operations called numpy.mat\n",
    "\n",
    "Example of a 2-D array: "
   ]
  },
  {
   "cell_type": "code",
   "execution_count": null,
   "id": "f7d2ecf5",
   "metadata": {},
   "outputs": [],
   "source": [
    "import numpy as np\n",
    "\n",
    "arr = np.array([[1, 2, 3], [4, 5, 6]])\n",
    "\n",
    "print(arr)"
   ]
  },
  {
   "cell_type": "markdown",
   "id": "797577f3",
   "metadata": {},
   "source": [
    "#### 3-D Arrays\n",
    "An array that has 2-D arrays (matrices) as its elements is called 3-D array.\n",
    "\n",
    "These are often used to represent a 3rd order tensor\n",
    "\n",
    "Example: "
   ]
  },
  {
   "cell_type": "code",
   "execution_count": null,
   "id": "9fa70580",
   "metadata": {},
   "outputs": [],
   "source": [
    "import numpy as np\n",
    "\n",
    "arr = np.array([[[1, 2, 3], [4, 5, 6]], [[1, 2, 3], [4, 5, 6]]])\n",
    "\n",
    "print(arr)"
   ]
  },
  {
   "cell_type": "markdown",
   "id": "387dc59f",
   "metadata": {},
   "source": [
    "### Check number of dimensions?\n",
    "NumPy Arrays provides the ndim attribute that returns an integer that tells us how many dimensions the array have. \n",
    "\n",
    "Example: "
   ]
  },
  {
   "cell_type": "code",
   "execution_count": null,
   "id": "a1f14c9f",
   "metadata": {},
   "outputs": [],
   "source": [
    "import numpy as np\n",
    "\n",
    "a = np.array(42)\n",
    "b = np.array([1, 2, 3, 4, 5])\n",
    "c = np.array([[1, 2, 3], [4, 5, 6]])\n",
    "d = np.array([[[1, 2, 3], [4, 5, 6]], [[1, 2, 3], [4, 5, 6]]])\n",
    "\n",
    "print(a.ndim)\n",
    "print(b.ndim)\n",
    "print(c.ndim)\n",
    "print(d.ndim)"
   ]
  },
  {
   "cell_type": "markdown",
   "id": "ed2f0d94",
   "metadata": {},
   "source": [
    "### Higher Dimensional Arrays\n",
    "An array can have any number of dimensions. \n",
    "\n",
    "When the array is created, you can define the number of dimensions by using the ___ndmin___ argument. \n",
    "\n",
    "Example: Create an arrat with 5 dimensions and verify that it has 5 dimensions. "
   ]
  },
  {
   "cell_type": "code",
   "execution_count": null,
   "id": "75e21c58",
   "metadata": {},
   "outputs": [],
   "source": [
    "import numpy as np\n",
    "\n",
    "arr = np.array([1, 2, 3, 4], ndmin=5)\n",
    "\n",
    "print(arr)\n",
    "print('number of dimensions :', arr.ndim)"
   ]
  },
  {
   "cell_type": "markdown",
   "id": "170b7fe7",
   "metadata": {},
   "source": [
    "## Array Indexing\n",
    "Array indexing is the same as accesing an array element. \n",
    "\n",
    "You can access an array element by referring to its index number.\n",
    "\n",
    "The indexes in NumPy arrays start with 0, meaning that the first element has a index 0, and the second has index 1, etc. \n",
    "\n",
    "### Access 1-D Arrays\n",
    "\n",
    "Example:"
   ]
  },
  {
   "cell_type": "code",
   "execution_count": null,
   "id": "2d98f5a3",
   "metadata": {},
   "outputs": [],
   "source": [
    "import numpy as np \n",
    "\n",
    "arr = np.array([1, 2, 3, 4])\n",
    "\n",
    "print(arr[0])\n",
    "print(arr[2])\n",
    "print(arr[1] + arr[3]) \n"
   ]
  },
  {
   "cell_type": "markdown",
   "id": "86222303",
   "metadata": {},
   "source": [
    "### Access 2-D Arrays.\n",
    "To access elements from 2-D arrays we can use comma separated integers representing the dimension and the index of the element. \n",
    "\n",
    "Think of 2-D arrays like a table with rows and columns, where the row represents the dimension and the index represents the column. \n",
    "\n",
    "Example:"
   ]
  },
  {
   "cell_type": "code",
   "execution_count": null,
   "id": "4bbdbc21",
   "metadata": {},
   "outputs": [],
   "source": [
    "import numpy as np\n",
    "\n",
    "arr = np.array([\n",
    "    [1,2,3,4,5],\n",
    "    [6,7,8,9,10]\n",
    "    ])\n",
    "\n",
    "\n",
    "\n",
    "print('2nd element on 1st row:', arr[0, 1])\n",
    "print('5th element on 2nd row:', arr[1, 4])"
   ]
  },
  {
   "cell_type": "markdown",
   "id": "01729691",
   "metadata": {},
   "source": [
    "### Access 3-D Arrays.\n",
    "To access elements from 3-D arrays we can use comma separated integers representing the dimensions and the index of the element. "
   ]
  },
  {
   "cell_type": "code",
   "execution_count": null,
   "id": "5fc14e09-4d48-40c3-81ba-bdc90ba1bf90",
   "metadata": {},
   "outputs": [],
   "source": [
    "import numpy as np \n",
    "\n",
    "arr = np.array([[[1,2,3],[4,5,6]],[[7,8,9],[10,11,12]]])\n",
    "\n",
    "print(arr[0,1,2])\n"
   ]
  },
  {
   "cell_type": "raw",
   "id": "6d9a0096",
   "metadata": {},
   "source": [
    "Example explained: \n",
    "\n",
    "[ [[1,2,3],[4,5,6]],  [[7,8,9],[10,11,12]] ]\n",
    "\n",
    "The first number represents the first dimension, which contains two arrays: \n",
    "[[1,2,3],[4,5,6]] and [[7,8,9],[10,11,12]]\n",
    "\n",
    "Since we selected 0, we are left with the first array: \n",
    "[[1,2,3],[4,5,6]]\n",
    "\n",
    "The second number represents the second dimension, which also contains two arrays: \n",
    "[1,2,3] and [4,5,6]\n",
    "\n",
    "Since we selected 1, we are left with the second array: \n",
    "[4,5,6]\n",
    "\n",
    "The third number represents the third dimension, which contains three values: \n",
    "4 .., 5 .., 6\n",
    "\n",
    "Since we selected 2, we end up with the third value: \n",
    "6.\n"
   ]
  },
  {
   "cell_type": "markdown",
   "id": "6a0a26e5",
   "metadata": {},
   "source": [
    "### Negative Indexing\n",
    "Use negative indexing to acces an array from the end. \n",
    "\n",
    "Example: "
   ]
  },
  {
   "cell_type": "code",
   "execution_count": null,
   "id": "b22acd92",
   "metadata": {},
   "outputs": [],
   "source": [
    "import numpy as np \n",
    "\n",
    "arr = np.array([ [1,2,3,4,5], [6,7,8,9,10] ])\n",
    "\n",
    "print('Last element from 2nd dim: ', arr[1, -1])"
   ]
  },
  {
   "cell_type": "markdown",
   "id": "caf98709",
   "metadata": {},
   "source": [
    "## Array Slicing\n",
    "Slicing in python means taking elements from one given index to another given index.\n",
    "\n",
    "We pass slice instead of index like this ___[start:end]___\n",
    "\n",
    "We can also define the step, like thid: ___[start:end:step]___\n",
    "\n",
    "If we don't pass start its considered 0. \n",
    "\n",
    "If we don't pass end its considered the lenght of array in that dimension.\n",
    "\n",
    "If we don't pass step its considered 1. "
   ]
  },
  {
   "cell_type": "markdown",
   "id": "758c41d8",
   "metadata": {},
   "source": [
    "### Slicing Arrays\n",
    "Example:"
   ]
  },
  {
   "cell_type": "markdown",
   "id": "9f9bcede-646b-4d21-a3da-19dc08665725",
   "metadata": {},
   "source": []
  },
  {
   "cell_type": "code",
   "execution_count": null,
   "id": "3abebc47",
   "metadata": {},
   "outputs": [],
   "source": [
    "import numpy as np \n",
    "\n",
    "arr = np.array([1, 2, 3, 4, 5, 6, 7])\n",
    "\n",
    "# the result includes the start index, but excludes the end index. #\n",
    "\n",
    "# Slice elements from index 1 to index 5\n",
    "print(arr[1:5])\n",
    "\n",
    "# Slice elements from index 4 to the end of the array\n",
    "print(arr[4:])\n",
    "\n",
    "# Slice elements from the beginning to index 4 \n",
    "\n",
    "print(arr[:4])\n"
   ]
  },
  {
   "cell_type": "markdown",
   "id": "ebdcc6cc",
   "metadata": {},
   "source": [
    "### Negative Slicing\n",
    "Using the minus operator to refer to an index from the end: \n",
    "\n",
    "Example: "
   ]
  },
  {
   "cell_type": "code",
   "execution_count": null,
   "id": "8d35dd33",
   "metadata": {},
   "outputs": [],
   "source": [
    "import numpy as np\n",
    "\n",
    "arr = np.array([1, 2, 3, 4, 5, 6, 7])\n",
    "\n",
    "# Slice from the index 3 from the end to index 1 from the end:\n",
    "print(arr[-3:-1])\n"
   ]
  },
  {
   "cell_type": "markdown",
   "id": "2fc3def8",
   "metadata": {},
   "source": [
    "### STEP slicing\n",
    "Use the step value to determine the step of the slicing: \n",
    "\n",
    "Example: "
   ]
  },
  {
   "cell_type": "code",
   "execution_count": null,
   "id": "3d0cf1ce",
   "metadata": {},
   "outputs": [],
   "source": [
    "import numpy as np \n",
    "\n",
    "arr = np.array([1, 2, 3, 4, 5, 6, 7])\n",
    "\n",
    "\n",
    "print(arr[1:5:2])\n",
    "\n",
    "print(arr[::2])"
   ]
  },
  {
   "cell_type": "markdown",
   "id": "d7ee40f7",
   "metadata": {},
   "source": [
    "### Slicing 2-D Arrays\n",
    "Example:\n"
   ]
  },
  {
   "cell_type": "code",
   "execution_count": null,
   "id": "90d234bb",
   "metadata": {},
   "outputs": [],
   "source": [
    "import numpy as np\n",
    "\n",
    "arr = np.array([ [1, 2, 3, 4, 5], [6, 7, 8, 9, 10] ])\n",
    "\n",
    "# From the second element, slice elements from index 1 to index 4 (not included)\n",
    "print(arr[1, 1:4])\n",
    "\n",
    "# From both elements, return index 2: \n",
    "print(arr[0:2, 2])\n",
    "\n",
    "# From both elements, slice index 1 to index 4 (not included), this will return \n",
    "# a 2-D array\n",
    "\n",
    "print(arr[0:2, 1:4])\n"
   ]
  },
  {
   "cell_type": "markdown",
   "id": "cfd24fb6",
   "metadata": {},
   "source": [
    "## NumPy Data Types\n",
    "By default Python have these data typesÑ\n",
    "- ___strings___: Used to represent text data, the text is given under quote marks. e.g \"abCD\"\n",
    "- ___integer___: Used to represent integer numbers. e.g. -1, 3, 5\n",
    "- ___float___: Used to represent real number. e.g 1.2, -3.4, 42.42. \n",
    "- ___boolean___: used to represent True or False.\n",
    "- ___comples___: used to represent complex number. e.g. 1.0 + 2.0j \n",
    "\n",
    "Numpy has some extra data types, and refer to data types with one character, like ___i___ for integers, ___u___ for unsigned integers etc. \n",
    "\n",
    "Below is a list of all data types in NumPy and the characters used to represent them. \n",
    "\n",
    "- ___i___ - integer\n",
    "- ___b___ - boolean\n",
    "- ___u___ - unsigned integer\n",
    "- ___f___ - float\n",
    "- ___c___ - complex float\n",
    "- ___m___ - timedelta\n",
    "- ___M___ - datetime\n",
    "- ___O___ - object\n",
    "- ___S___ - string\n",
    "- ___U___ - unicode string\n",
    "- ___V___ - fixed chunk of memory for other type ( void )\n",
    "\n",
    "### Checking the Data Type of an Array\n",
    "The NumPy array object has a propery called ___dtype___ that returns the data type of the array:"
   ]
  },
  {
   "cell_type": "code",
   "execution_count": null,
   "id": "48668a5c",
   "metadata": {},
   "outputs": [],
   "source": [
    "import numpy as np \n",
    "\n",
    "arr = np.array([1, 2, 3, 4])\n",
    "arr2 = np.array(['apple', 'banana', 'cherry'])\n",
    "\n",
    "# Get the data type of an array object\n",
    "print(arr.dtype)\n",
    "print(arr2.dtype)"
   ]
  },
  {
   "cell_type": "markdown",
   "id": "48383ebd",
   "metadata": {},
   "source": [
    "### Creating Arrays with a Defined Data Type\n",
    "We use the array() function to create arrays, this function can take an optional argument dtype that allows us to define the expected data type of the array elements: \n"
   ]
  },
  {
   "cell_type": "code",
   "execution_count": null,
   "id": "8b5d4f9b",
   "metadata": {},
   "outputs": [],
   "source": [
    "import numpy as np \n",
    "\n",
    "# Create an array with data type string:\n",
    "arr = np.array([1, 2, 3, 4], dtype='S')\n",
    "\n",
    "print(arr)\n",
    "print(arr.dtype)\n",
    "\n",
    "# For i, u, f, S and U we can define size as well. \n",
    "\n",
    "# Create an array with data type 4 bytes integer:\n",
    "arr = np.array([1, 2, 3, 4], dtype='i4')\n",
    "\n",
    "print(arr)\n",
    "print(arr.dtype)"
   ]
  },
  {
   "cell_type": "markdown",
   "id": "66f7aab8",
   "metadata": {},
   "source": [
    "## Array Copy vs View\n",
    "The main difference between a copy and a view of an array is that the copy is a new array, and the view is just a view of the original array.\n",
    "\n",
    "The copy _owns_ the data and any changes made to the copy will not affect the original array, and any changes made to the original array will not affect the copy. \n",
    "\n",
    "The view _dows not own_ the data and any changes made to the view will affect the original array, and any changes made to the original array will afect the view."
   ]
  },
  {
   "cell_type": "markdown",
   "id": "7dc7125f",
   "metadata": {},
   "source": [
    "### Copy Example\n",
    "Make a copy, change the original array, and display both arrays:"
   ]
  },
  {
   "cell_type": "code",
   "execution_count": null,
   "id": "888160e4",
   "metadata": {},
   "outputs": [],
   "source": [
    "import numpy as np\n",
    "\n",
    "arr = np.array( [1, 2, 3, 4, 5] )\n",
    "x = arr.copy()\n",
    "arr[0] = 42\n",
    "\n",
    "print(arr)\n",
    "print(x)"
   ]
  },
  {
   "cell_type": "markdown",
   "id": "c5fdfa1d",
   "metadata": {},
   "source": [
    "### View Example\n",
    "Make a view, change the original array, and display both arrays:"
   ]
  },
  {
   "cell_type": "code",
   "execution_count": null,
   "id": "1fddead8",
   "metadata": {},
   "outputs": [],
   "source": [
    "import numpy as np\n",
    "\n",
    "arr = np.array([1, 2, 3, 4, 5])\n",
    "x = arr.view()\n",
    "arr[0] = 42\n",
    "\n",
    "print(arr)\n",
    "print(x)"
   ]
  },
  {
   "cell_type": "markdown",
   "id": "c40452cf",
   "metadata": {},
   "source": [
    "### Check if Array owns its Data\n",
    "As mentioned above, copies owns the data, and vies does not own the data, but how can we check this? \n",
    "\n",
    "Every Numpy array has the attribute ___base___ that returns ___None___ if the array owns the data.\n",
    "\n",
    "Otherwise, the base attribute refers to the original object."
   ]
  },
  {
   "cell_type": "code",
   "execution_count": null,
   "id": "a068262c",
   "metadata": {},
   "outputs": [],
   "source": [
    "import numpy as np \n",
    "\n",
    "arr = np.array([1, 2, 3, 4, 5])\n",
    "\n",
    "x = arr.copy()\n",
    "y = arr.view()\n",
    "\n",
    "print(x.base)\n",
    "print(y.base)"
   ]
  },
  {
   "cell_type": "markdown",
   "id": "fdebe7f5",
   "metadata": {},
   "source": [
    "## NumPy Array Shape\n",
    "The shape of an array is the number of elements in each dimension.\n",
    "\n",
    "Numpy arrays have an attribute called ___shape___ that return a tuple with each index having the number of corresponding elements. "
   ]
  },
  {
   "cell_type": "code",
   "execution_count": null,
   "id": "078308ce-c178-4d99-9496-d13ec31038ba",
   "metadata": {},
   "outputs": [],
   "source": [
    "import numpy as np \n",
    "\n",
    "arr = np.array([ [1, 2, 3, 4], [5, 6, 7, 8] ])\n",
    "\n",
    "print(arr.shape)"
   ]
  },
  {
   "cell_type": "markdown",
   "id": "d22ad78d-9d8e-4f69-bdaf-09f76fd07180",
   "metadata": {},
   "source": [
    "The example above returns ___(2,4)___, which means that the array has 2 dimensions, where the first dimensions has 2 elements, and the second has 4. \n",
    "\n",
    "Example: \n",
    "\n",
    "create an array with 5 dimensions using ndmin using a vector with values 1,2,3,4 and verify that last dimensions has value 4: "
   ]
  },
  {
   "cell_type": "code",
   "execution_count": null,
   "id": "2a9b429a-6358-4c58-9325-51b814f6c151",
   "metadata": {},
   "outputs": [],
   "source": [
    "import numpy as np\n",
    "\n",
    "arr = np.array([1, 2, 3, 4], ndmin=5)\n",
    "\n",
    "print(arr)\n",
    "print('Shape:', arr.shape)"
   ]
  },
  {
   "cell_type": "markdown",
   "id": "39865656",
   "metadata": {},
   "source": [
    "Integers at every index tells about the number of elements the corresponding dimension has. \n",
    "\n",
    "In the example above at index 4 we hav value 4, so we can say that 5th (4 + 1th) dimension has 4 elements. "
   ]
  },
  {
   "cell_type": "markdown",
   "id": "bb0005ad",
   "metadata": {},
   "source": [
    "## Array Reshaping\n",
    "Reshaping means changing the shape of an array.\n",
    "\n",
    "The shape of an array is the number of elements in each dimension.\n",
    "\n",
    "By reshaping we can add or remove dimensions or change number of elements in each dimension. \n"
   ]
  },
  {
   "cell_type": "markdown",
   "id": "c10c5fb8",
   "metadata": {},
   "source": [
    "### Reshape from 1-D to 2-D\n",
    "\n",
    "Example:\n",
    "\n",
    "Convert the following 1-D array with 12 elements into a 2-D array.\n",
    "\n",
    "The outermost dimension will have 4 arrays, each with 3 elements. "
   ]
  },
  {
   "cell_type": "code",
   "execution_count": null,
   "id": "6762e69e",
   "metadata": {},
   "outputs": [],
   "source": [
    "import numpy as np \n",
    "\n",
    "arr = np.array([1, 2, 3, 4, 5, 6, 7, 8, 9, 10, 11, 12])\n",
    "\n",
    "new_arr = arr.reshape(4, 3) \n",
    "\n",
    "print(new_arr)"
   ]
  },
  {
   "cell_type": "markdown",
   "id": "89ac14e3",
   "metadata": {},
   "source": [
    "### Reshape from 1-d to 3-D\n",
    "Convert the following 1-D array with 12 elements into a 3-D array.\n",
    "\n",
    "The outermost dimension will have 2 arrays that contains 3 arrays, each with 2 elements:"
   ]
  },
  {
   "cell_type": "code",
   "execution_count": null,
   "id": "f5abc93d",
   "metadata": {},
   "outputs": [],
   "source": [
    "import numpy as np \n",
    "\n",
    "arr = np.array([1, 2, 3, 4, 5, 6, 7, 8, 9, 10, 11, 12])\n",
    "\n",
    "new_arr = arr.reshape(2, 3, 2)\n",
    "\n",
    "print(new_arr)"
   ]
  },
  {
   "cell_type": "markdown",
   "id": "04095f4c",
   "metadata": {},
   "source": [
    "### Can we reshape into any shape?\n",
    "As long as the elements required for reshaing are equal in both shapes.\n",
    "\n",
    "We can reshape 8 elements 1D array into 4 elements in 2 rows 2D array, but we cannot reshape it into a 3 elements 3 rows 2D array as that would require 3x3 = 9 elements."
   ]
  },
  {
   "cell_type": "markdown",
   "id": "887ee22a",
   "metadata": {},
   "source": [
    "### Unknown Dimension\n",
    "You are allowed to have one \"unkown\" dimension.\n",
    "\n",
    "Meaning that you do not have to specify an exact number for one of the dimensions in the reshape method.\n",
    "\n",
    "Pass ___-1___ as the value, and NumPy will calculate this number for you. "
   ]
  },
  {
   "cell_type": "code",
   "execution_count": null,
   "id": "f91c0d15",
   "metadata": {},
   "outputs": [],
   "source": [
    "import numpy as np\n",
    "\n",
    "arr = np.array([1, 2, 3, 4, 5, 6, 7, 8])\n",
    "\n",
    "new_arr = arr.reshape(2, 2, -1)\n",
    "\n",
    "print(new_arr)"
   ]
  },
  {
   "cell_type": "markdown",
   "id": "119aca47",
   "metadata": {},
   "source": [
    "### Flattening the Arrays\n",
    "Flattening an array means converting a multidimensional array into a 1D array.\n",
    "\n",
    "We can use ___reshape(-1)___ to do this.\n",
    "\n",
    "Example: "
   ]
  },
  {
   "cell_type": "code",
   "execution_count": null,
   "id": "e416f7d9-264b-4c56-9859-ea802be45892",
   "metadata": {},
   "outputs": [],
   "source": [
    "import numpy as np\n",
    "\n",
    "arr = np.array([[1, 2, 3], [4, 5, 6]])\n",
    "\n",
    "newarr = arr.reshape(-1)\n",
    "\n",
    "print(newarr)"
   ]
  },
  {
   "cell_type": "markdown",
   "id": "e2238118",
   "metadata": {},
   "source": [
    "There are a lot of functions for changing the shapes of arrays in numpy ___flatten___, ___ravel___ and also for rearranging the elements ___rot90___, ___flip___, ___fliplr___, ___flipud___, etc. "
   ]
  },
  {
   "cell_type": "markdown",
   "id": "671c2ba4",
   "metadata": {},
   "source": [
    "## Array Iterating\n",
    "Iterating means going through elements one by one.\n",
    "\n",
    "As we deal with multi-dimensional arrays in numpy, we can do this using basic ___for___ loop of python. \n",
    "\n"
   ]
  },
  {
   "cell_type": "markdown",
   "id": "8ce3c7c3",
   "metadata": {},
   "source": [
    "### Iterating 1D arrays\n",
    "If we iterate on a 1D array it will go through each element one by one. \n",
    "Example: "
   ]
  },
  {
   "cell_type": "code",
   "execution_count": null,
   "id": "6de469c3",
   "metadata": {},
   "outputs": [],
   "source": [
    "import numpy as np\n",
    "\n",
    "arr = np.array([1,2,3])\n",
    "\n",
    "for x in arr:\n",
    "    print(x)"
   ]
  },
  {
   "cell_type": "markdown",
   "id": "90a733fb",
   "metadata": {},
   "source": [
    "### Iterating 2D arrays.\n",
    "In a 2D array it will go through all the rows."
   ]
  },
  {
   "cell_type": "code",
   "execution_count": null,
   "id": "d11114c5",
   "metadata": {},
   "outputs": [],
   "source": [
    "import numpy as np \n",
    "\n",
    "arr = np.array([[1, 2, 3], [4, 5, 6]])\n",
    "\n",
    "for x in arr:\n",
    "  print(x)\n",
    "\n",
    "# To return the actual values, the scalars, we have to \n",
    "# iterate the arrays in each dimension\n",
    "\n",
    "for x in arr:\n",
    "    for y in x: \n",
    "        print(y)"
   ]
  },
  {
   "cell_type": "markdown",
   "id": "4d571da8",
   "metadata": {},
   "source": [
    "### Iterating 3D arrays\n",
    "In a 3D array it will go through all the 2D arrays "
   ]
  },
  {
   "cell_type": "code",
   "execution_count": null,
   "id": "02007d83",
   "metadata": {},
   "outputs": [],
   "source": [
    "import numpy as np\n",
    "\n",
    "arr = np.array([[[1, 2, 3], [4, 5, 6]], [[7, 8, 9], [10, 11, 12]]])\n",
    "\n",
    "for x in arr:\n",
    "  print(x)\n",
    "\n",
    "# To return the actual values, we have to iterate the arrays in each dimension. \n",
    "for x in arr:\n",
    "  for y in x:\n",
    "    for z in y:\n",
    "      print(z)\n"
   ]
  },
  {
   "cell_type": "markdown",
   "id": "1500dc75",
   "metadata": {},
   "source": [
    "### Iterating Arrays Using nditer()\n",
    "The function ___nditer()___ is a helping functino that can be used from very basic to very advanced iterations. It solves some basic issues which we face in iteration. "
   ]
  },
  {
   "cell_type": "markdown",
   "id": "cea25a1f",
   "metadata": {},
   "source": [
    "#### Iterating on Each Scalar element.\n",
    "In basic ___for___ loops, iterating through each scalar of an array we need to use n ___for___ loops which can be difficult to write for arrays with vey high dimensionality. "
   ]
  },
  {
   "cell_type": "code",
   "execution_count": null,
   "id": "d0d51ae1",
   "metadata": {},
   "outputs": [],
   "source": [
    "import numpy as np\n",
    "\n",
    "arr = np.array([[[1, 2], [3, 4]], [[5, 6], [7, 8]]])\n",
    "\n",
    "for x in np.nditer(arr):\n",
    "    print(x)"
   ]
  },
  {
   "cell_type": "markdown",
   "id": "a7c7c762",
   "metadata": {},
   "source": [
    "#### Iterating Array with different Data Types\n",
    "We can use ___op_dtuypes___ argument and pass it the expected datatype to change the datatype of elements while iterating.\n",
    "\n",
    "NumPy does not change the data type of the element in-place (where the element is in array) so it needs some other space to perform this acction, that extra space is called buffer, and in order to enable it in nditer() we pass ___flags=['buffered']___"
   ]
  },
  {
   "cell_type": "code",
   "execution_count": null,
   "id": "22a53eb2",
   "metadata": {},
   "outputs": [],
   "source": [
    "import numpy as np \n",
    "\n",
    "arr = np.array([1,2,3])\n",
    "\n",
    "for x in np.nditer(arr, flags=['buffered'], op_dtypes=['S']):\n",
    "    print(x)"
   ]
  },
  {
   "cell_type": "markdown",
   "id": "a5696321",
   "metadata": {},
   "source": [
    "#### Iterating with different Step Size\n",
    "We can use filtering and followed by iteration."
   ]
  },
  {
   "cell_type": "code",
   "execution_count": null,
   "id": "a1720f41",
   "metadata": {},
   "outputs": [],
   "source": [
    "import numpy as np\n",
    "\n",
    "arr = np.array([ [1, 2, 3, 4], [5, 6, 7, 8] ])\n",
    "\n",
    "for x in np.nditer(arr[:, ::2]):\n",
    "    print(x)"
   ]
  },
  {
   "cell_type": "markdown",
   "id": "f191ca3b",
   "metadata": {},
   "source": [
    "#### Enumrated Iteration using ndenumerate()\n",
    "Enumeration means mentioning sequence number of somethings one by one. \n",
    "\n",
    "Sometimes we require corresponding index of the element while iteratin, the ndenumerate() method can be used for those usecases."
   ]
  },
  {
   "cell_type": "code",
   "execution_count": null,
   "id": "0a37a95d",
   "metadata": {},
   "outputs": [],
   "source": [
    "import numpy as np \n",
    "\n",
    "# For 1D arrays\n",
    "arr = np.array([1, 2, 3])\n",
    "for idx, x in np.ndenumerate(arr):\n",
    "    print(idx, x)\n",
    "    \n",
    "# For 2D arrays\n",
    "arr = np.array([[1, 2, 3, 4], [5, 6, 7, 8]])\n",
    "for idx, x in np.ndenumerate(arr):\n",
    "    print(idx, x)"
   ]
  },
  {
   "cell_type": "markdown",
   "id": "20e12e3e",
   "metadata": {},
   "source": [
    "## Joining Arrays\n",
    "Joining means putting contents of two or more arrays ina single array.\n",
    "\n",
    "In SQL we join tables based on a key, whereas in NumPy we join arrays by axis.\n",
    "\n",
    "Wepass a sequence of arrays that we want to join to the ___concatenate()___ function, along with the axis. If axis is not explicitly passed, it is taken as 0."
   ]
  },
  {
   "cell_type": "markdown",
   "id": "9de33b27",
   "metadata": {},
   "source": [
    "### using concatenate()"
   ]
  },
  {
   "cell_type": "code",
   "execution_count": null,
   "id": "4ad5da2a-ed18-41e1-801e-8bf6d84b1a3a",
   "metadata": {},
   "outputs": [],
   "source": [
    "import numpy as np \n",
    "\n",
    "arr1 = np.array([1, 2, 3])\n",
    "arr2 = np.array([4, 5, 6])\n",
    "\n",
    "arr = np.concatenate((arr1, arr2))\n",
    "\n",
    "print(arr)"
   ]
  },
  {
   "cell_type": "code",
   "execution_count": null,
   "id": "8ffeaf39",
   "metadata": {},
   "outputs": [],
   "source": [
    "import numpy as np\n",
    "\n",
    "arr1 = np.array([[1, 2], [3, 4]])\n",
    "\n",
    "arr2 = np.array([[5, 6], [7, 8]])\n",
    "\n",
    "arr = np.concatenate((arr1, arr2), axis=1)\n",
    "\n",
    "print(arr)"
   ]
  },
  {
   "cell_type": "markdown",
   "id": "de86579c",
   "metadata": {},
   "source": [
    "### Using stack()\n",
    "Stacking is same as concatenation, the only difference is that stacking is done along a new axis.\n",
    "\n",
    "We can concatenate two 1D arrays along the second axis which would result in putting them one over the ther. ie. stacking.\n",
    "\n",
    "We pass a sequence of arrays that we want to join to the stack() method along with the axis. If axis is not explicitly passed it is taken as 0. "
   ]
  },
  {
   "cell_type": "code",
   "execution_count": null,
   "id": "160af6cf",
   "metadata": {},
   "outputs": [],
   "source": [
    "import numpy as np\n",
    "\n",
    "arr1 = np.array([1, 2, 3])\n",
    "\n",
    "arr2 = np.array([4, 5, 6])\n",
    "\n",
    "arr = np.stack((arr1, arr2), axis=1)\n",
    "\n",
    "print(arr)"
   ]
  },
  {
   "cell_type": "markdown",
   "id": "2edc9f94",
   "metadata": {},
   "source": [
    "#### Stacking Along Rows\n",
    "NumPy provides a helper function: ___hstack()___ to stack along rows."
   ]
  },
  {
   "cell_type": "code",
   "execution_count": null,
   "id": "fabc5b8c",
   "metadata": {},
   "outputs": [],
   "source": [
    "import numpy as np\n",
    "\n",
    "arr1 = np.array([1, 2, 3])\n",
    "\n",
    "arr2 = np.array([4, 5, 6])\n",
    "\n",
    "arr = np.hstack((arr1, arr2))\n",
    "\n",
    "print(arr)"
   ]
  },
  {
   "cell_type": "markdown",
   "id": "b649aa6d",
   "metadata": {},
   "source": [
    "#### Stacking along Columns"
   ]
  },
  {
   "cell_type": "code",
   "execution_count": null,
   "id": "1e48cc73",
   "metadata": {},
   "outputs": [],
   "source": [
    "import numpy as np\n",
    "\n",
    "arr1 = np.array([1, 2, 3])\n",
    "\n",
    "arr2 = np.array([4, 5, 6])\n",
    "\n",
    "arr = np.vstack((arr1, arr2))\n",
    "\n",
    "print(arr)"
   ]
  },
  {
   "cell_type": "markdown",
   "id": "148a0725",
   "metadata": {},
   "source": [
    "#### Stacking along Height (depth)\n",
    "dstack() to stack along height, which is the same as depth."
   ]
  },
  {
   "cell_type": "code",
   "execution_count": null,
   "id": "572b9aa6",
   "metadata": {},
   "outputs": [],
   "source": [
    "import numpy as np\n",
    "\n",
    "arr1 = np.array([1, 2, 3])\n",
    "\n",
    "arr2 = np.array([4, 5, 6])\n",
    "\n",
    "arr = np.dstack((arr1, arr2))\n",
    "\n",
    "print(arr)"
   ]
  },
  {
   "cell_type": "markdown",
   "id": "b1da9edb",
   "metadata": {},
   "source": [
    "## Splitting Arrays\n",
    "Splitting is reverse operation of Joining.\n",
    "\n",
    "We use ___array_split()___ for splitting arrays, we pass it the array we cant to split and the number of splits. "
   ]
  },
  {
   "cell_type": "code",
   "execution_count": null,
   "id": "fc806068",
   "metadata": {},
   "outputs": [],
   "source": [
    "import numpy as np \n",
    "\n",
    "arr = np.array([1, 2, 3, 4, 5, 6])\n",
    "\n",
    "new_arr = np.array_split(arr, 3)\n",
    "\n",
    "# The return value is an array containing three arrays.\n",
    "print(new_arr)\n",
    "\n",
    "# If the array has less elements than required, it will adjust form the end accordingly\n",
    "\n",
    "new_arr = np.array_split(arr, 4)\n",
    "\n",
    "print(new_arr)\n"
   ]
  },
  {
   "cell_type": "markdown",
   "id": "6c50ef32",
   "metadata": {},
   "source": [
    "### Split Into Arrays\n",
    "The return value of the ___array_split()___ method is an array containing each of the split as an array.\n",
    "\n",
    "If you split an array into 3 arrays, you can access them from the result just like any array element:"
   ]
  },
  {
   "cell_type": "code",
   "execution_count": null,
   "id": "50d0edc8",
   "metadata": {},
   "outputs": [],
   "source": [
    "import numpy as np\n",
    "\n",
    "arr = np.array([1, 2, 3, 4, 5, 6])\n",
    "\n",
    "new_arr = np.array_split(arr, 3)\n",
    "\n",
    "print(new_arr[0])\n",
    "print(new_arr[1])\n",
    "print(new_arr[2])\n"
   ]
  },
  {
   "cell_type": "markdown",
   "id": "49c14297",
   "metadata": {},
   "source": [
    "### Splitting 2-D arrays\n",
    "Use the same syntax when splitting 2D arrays.\n",
    "\n",
    "Use the array_split() method, pass in the array you want to split and the number of splits you want to do. "
   ]
  },
  {
   "cell_type": "code",
   "execution_count": null,
   "id": "5a5346bc",
   "metadata": {},
   "outputs": [],
   "source": [
    "import numpy as np\n",
    "\n",
    "arr = np.array([[1, 2], [3, 4], [5, 6], [7, 8], [9, 10], [11, 12]])\n",
    "\n",
    "newarr = np.array_split(arr, 3)\n",
    "\n",
    "# Returns three 2D arrays\n",
    "print(newarr)\n",
    "\n",
    "\n",
    "\n",
    "\n",
    "# In addition, you can specify which axix you want to do the split around.\n",
    "\n",
    "arr = np.array([[1, 2, 3], [4, 5, 6], [7, 8, 9], [10, 11, 12], [13, 14, 15], [16, 17, 18]])\n",
    "\n",
    "\n",
    "newarr = np.array_split(arr, 3, axis=1)\n",
    "\n",
    "print(newarr)\n"
   ]
  },
  {
   "cell_type": "markdown",
   "id": "7f5aa9d1",
   "metadata": {},
   "source": [
    "## Searching Arrays\n",
    "You can search an array for a certain value, and return the indexes that get a match\n",
    "\n",
    "To search an array, use the ___where()___ method.\n",
    "\n",
    "Example:"
   ]
  },
  {
   "cell_type": "code",
   "execution_count": null,
   "id": "fec202fc-867c-414e-8af8-a2ba4e9c366d",
   "metadata": {},
   "outputs": [],
   "source": [
    "import numpy as np \n",
    "\n",
    "arr = np.array([1, 2, 3, 4, 5, 4, 4])\n",
    "\n",
    "\n",
    "# Find the indexes where the value is 4\n",
    "x = np.where(arr == 4)\n",
    "\n",
    "# Find the indexes where the value is even \n",
    "y = np.where(arr%2 == 0)\n",
    "\n",
    "# Find the indexes where the values are odd\n",
    "z = np.where(arr%2 == 1)\n",
    "\n",
    "\n",
    "print(x)\n",
    "print(y)\n",
    "print(z)"
   ]
  },
  {
   "cell_type": "code",
   "execution_count": null,
   "id": "77faaa62",
   "metadata": {},
   "outputs": [],
   "source": [
    "import numpy as np\n",
    "\n",
    "arr = np.array([1, 2, 3, 4, 5, 6, 7, 8])\n",
    "\n",
    "\n",
    "x = np.where(arr%2 == 0)\n",
    "\n",
    "print(x)"
   ]
  },
  {
   "cell_type": "markdown",
   "id": "b6a5615c",
   "metadata": {},
   "source": [
    "### Search Sorted\n",
    "\n",
    "There is a method called ___searchsorted()___ which performs a binary search in the array, and returns the index where the specified value would be inserted to maintain the search order. "
   ]
  },
  {
   "cell_type": "code",
   "execution_count": null,
   "id": "15107b4a-814a-4ec6-91de-ea9f9bc69291",
   "metadata": {},
   "outputs": [],
   "source": [
    "import numpy as np \n",
    "\n",
    "arr = np.array([6, 7, 8, 9])\n",
    "\n",
    "x = np.searchsorted(arr, 7)\n",
    "\n",
    "print(x)"
   ]
  },
  {
   "cell_type": "markdown",
   "id": "fbeafd75-314f-4354-86ea-ae05ee5c6ab7",
   "metadata": {},
   "source": [
    "Example explained: \n",
    "\n",
    "The number 7 should be inserted on index 1 to remain the sort order. \n",
    "\n",
    "The method starts the search from the left and returns the first index where the number 7 is no longer larger than the next value.\n",
    "\n",
    "**Search From the Right Side**\n",
    "\n",
    "By default the left most index is returned, but we can give ___side='right'___ to return the right most index instead"
   ]
  },
  {
   "cell_type": "code",
   "execution_count": null,
   "id": "acb36dce-c34a-4918-9b1a-47bab9103066",
   "metadata": {},
   "outputs": [],
   "source": [
    "import numpy as np\n",
    "\n",
    "arr = np.array([6, 7, 8, 9])\n",
    "\n",
    "x = np.searchsorted(arr, 7, side='right')\n",
    "\n",
    "print(x)"
   ]
  },
  {
   "cell_type": "markdown",
   "id": "baf0aa8e-1dd7-4b91-8b27-cc42f32caf4e",
   "metadata": {},
   "source": [
    "Example explained:\n",
    "\n",
    "The number 7 should be inserted on index 2 to remain the sort order.\n",
    "\n",
    "The method starts the search from the right and returns the first index where the number 7 is no longer less than the next value."
   ]
  },
  {
   "cell_type": "markdown",
   "id": "a39c859a-9a5c-4435-91b3-18633e32d5a6",
   "metadata": {},
   "source": [
    "**Multiple Values**\n",
    "\n",
    "To search for more than one value, we can use an array with the specified values.\n",
    "\n",
    "Example - Find the indexes where the values 2, 4, and 6 should be inserted:"
   ]
  },
  {
   "cell_type": "code",
   "execution_count": null,
   "id": "64f803fe",
   "metadata": {},
   "outputs": [],
   "source": [
    "import numpy as np\n",
    "\n",
    "arr = np.array([1, 3, 5, 7])\n",
    "\n",
    "x = np.searchsorted(arr, [2, 4, 6])\n",
    "\n",
    "# The return value is an array, containing the three indexes \n",
    "# where 2, 4, 6 would be inserted in the original array\n",
    "print(x)"
   ]
  },
  {
   "cell_type": "markdown",
   "id": "0bbfac57",
   "metadata": {},
   "source": [
    "## Sorting Arrays\n",
    "Sorting means putting elements in an _ordered sequence_\n",
    "\n",
    "_Ordered Sequence_ is any sequence that has an order corresponding to elements, like numeric or alphabetical, ascending or descending. \n",
    "\n",
    "The NumPy ndarray object has a function called ___sort()___, that will sort a specified. "
   ]
  },
  {
   "cell_type": "code",
   "execution_count": null,
   "id": "157d5507-1d9b-4c02-a07e-4447ab34b125",
   "metadata": {},
   "outputs": [],
   "source": [
    "import numpy as np\n",
    "\n",
    "arr = np.array([3, 2, 0, 1])\n",
    "\n",
    "print(np.sort(arr))"
   ]
  },
  {
   "cell_type": "markdown",
   "id": "4efe66d6-909f-4c57-afd9-11460879acec",
   "metadata": {},
   "source": [
    "You can also sort arrays of strings, or any other data type: "
   ]
  },
  {
   "cell_type": "code",
   "execution_count": null,
   "id": "0e9139c4-1bfb-419e-89a1-f4350bda4b3b",
   "metadata": {},
   "outputs": [],
   "source": [
    "import numpy as np\n",
    "\n",
    "arr = np.array(['banana','cherry','apple'])\n",
    "\n",
    "print(np.sort(arr))"
   ]
  },
  {
   "cell_type": "markdown",
   "id": "634346f8-1799-43b8-a1e5-5b4f7ad4f206",
   "metadata": {},
   "source": [
    "Sort a boolean array"
   ]
  },
  {
   "cell_type": "code",
   "execution_count": null,
   "id": "2d06bf49",
   "metadata": {},
   "outputs": [],
   "source": [
    "import numpy as np \n",
    "\n",
    "arr = np.array([True, False, True])\n",
    "\n",
    "print(np.sort(arr))"
   ]
  },
  {
   "cell_type": "markdown",
   "id": "d32608f0",
   "metadata": {},
   "source": [
    "### Sorting a 2D array\n",
    "\n",
    "If you use the sort() method on a 2d array, both arrays will be sorted:"
   ]
  },
  {
   "cell_type": "code",
   "execution_count": null,
   "id": "9c25389a",
   "metadata": {},
   "outputs": [],
   "source": [
    "import numpy as np \n",
    "\n",
    "arr = np.array([ [3, 2, 4], [5, 0, 1] ])\n",
    "\n",
    "print(np.sort(arr))"
   ]
  },
  {
   "cell_type": "markdown",
   "id": "62aa02b8",
   "metadata": {},
   "source": [
    "## Filtering Arrays\n",
    "Getting some elements out of an existing array and creating  a new array out of them is called filtering.\n",
    "\n",
    "In NumPy, you filter an array using a __boolean index list__\n",
    "\n",
    "___\n",
    "A boolean index list is a list of booleans correspondig to indexes in the array\n",
    "___\n",
    "\n",
    "If the value ar an index is ___True___ that element is contained in the filtered array, if the value at that index is ___False___ that element is excluded from the filtered array.\n"
   ]
  },
  {
   "cell_type": "code",
   "execution_count": null,
   "id": "df8c6c75-8026-4dfc-b1dc-f101edd0f6e2",
   "metadata": {},
   "outputs": [],
   "source": [
    "import numpy as np\n",
    "\n",
    "arr = np.array([41, 42, 43, 44])\n",
    "\n",
    "x = [True, False, True, False]\n",
    "\n",
    "new_arr = arr[x]\n",
    "\n",
    "print(new_arr)\n"
   ]
  },
  {
   "cell_type": "markdown",
   "id": "324fb5ba",
   "metadata": {},
   "source": []
  },
  {
   "cell_type": "markdown",
   "id": "610f3c18",
   "metadata": {},
   "source": [
    "### Creating the Filter Array\n",
    "In the example above we hard-coded the True and False values, but the common use is to create a filter array based on conditions.\n",
    "\n",
    "Example - Create a filter array that will return only values higher than 42:"
   ]
  },
  {
   "cell_type": "code",
   "execution_count": null,
   "id": "ac235514-1bf5-41d6-84f8-e1ff40c68e6d",
   "metadata": {},
   "outputs": [],
   "source": [
    "import numpy as np\n",
    "\n",
    "arr = np.array([41, 42, 43, 44])\n",
    "\n",
    "# Create an empty list\n",
    "filter_arr = []\n",
    "\n",
    "# Go through each element in arr\n",
    "for element in arr: \n",
    "    if element > 42: \n",
    "        filter_arr.append(True)\n",
    "    else: \n",
    "        filter_arr.append(False)\n",
    "\n",
    "new_arr = arr[filter_arr]\n",
    "\n",
    "print(arr)\n",
    "print(filter_arr)\n",
    "print(new_arr)"
   ]
  },
  {
   "cell_type": "markdown",
   "id": "87ad46d6-136a-4fe5-b675-f95d638983ae",
   "metadata": {},
   "source": [
    "Example - Create a filter array that will return only even elements from the original array\n"
   ]
  },
  {
   "cell_type": "code",
   "execution_count": null,
   "id": "099e136c",
   "metadata": {},
   "outputs": [],
   "source": [
    "import numpy as np\n",
    "\n",
    "arr = np.array([1, 2, 3, 4, 5, 6, 7])\n",
    "\n",
    "filter_arr = []\n",
    "\n",
    "for element in arr:\n",
    "    if element % 2 == 0:\n",
    "        filter_arr.append(True)\n",
    "    else:\n",
    "        filter_arr.append(False)\n",
    "\n",
    "new_arr = arr[filter_arr]\n",
    "\n",
    "print(arr)\n",
    "print(filter_arr)\n",
    "print(new_arr)\n"
   ]
  },
  {
   "cell_type": "markdown",
   "id": "2aab229b",
   "metadata": {},
   "source": [
    "### Creating Filter Directly From Array\n",
    "The above example is quite a common task in NumPy and NumPy provides a nice way to tackle it. \n",
    "\n",
    "We can directly substitue the array instead of the iterable variable in our condition and it will work just as we expect it to"
   ]
  },
  {
   "cell_type": "code",
   "execution_count": null,
   "id": "29be1101",
   "metadata": {},
   "outputs": [],
   "source": [
    "import numpy as np \n",
    "\n",
    "arr = np.array([41, 42, 43, 44])\n",
    "\n",
    "filter_arr = arr > 42\n",
    "\n",
    "new_arr = arr[filter_arr]\n",
    "\n",
    "print(filter_arr)\n",
    "print(new_arr)"
   ]
  },
  {
   "cell_type": "markdown",
   "id": "ca9d2c61",
   "metadata": {},
   "source": [
    "## NumPy - ufunc\n",
    "ufuncs stands for \"Universal Functions\" and the are NumPy functions that operate on the ___ndarray___ objects. \n",
    "\n",
    "ufuncs are used to implement _vectorazation_ in NumPy which is way faster than iterating over elements. \n",
    "\n",
    "They also provide broadcasting and additional methods like reduce, accumulate, etc. that are very helpful for computation. \n",
    "\n",
    "ufuncs also take additional arguments, like: \n",
    "\n",
    "___where___ boolean array or condition defining where the operations should take place.\n",
    "\n",
    "___dtype___ defining the return type of elements.\n",
    "\n",
    "___out___ output array where the return value should be copied. \n",
    "\n",
    "**What is Vectorization?**\n",
    "\n",
    "Converting iterative statements into a vector based operation is called vectorization.\n",
    "\n",
    "It is faster as modern CPUs are optimized for such operations."
   ]
  },
  {
   "cell_type": "code",
   "execution_count": null,
   "id": "64383898-e92c-4231-9cb0-25b35b778a4f",
   "metadata": {},
   "outputs": [],
   "source": [
    "# Example without ufunc, we can use Python's built-in zip() method. \n",
    "\n",
    "x = [1, 2, 3, 4]\n",
    "y = [4, 5, 6, 7]\n",
    "z = []\n",
    "\n",
    "for i, j in zip(x, y):\n",
    "    z.append(i + j)\n",
    "print(z)\n"
   ]
  },
  {
   "cell_type": "markdown",
   "id": "89e75e08-3a3f-48f9-ac4b-1b351e9b8399",
   "metadata": {},
   "source": [
    "NumPy has a ufunc for this, called ___add(x, y)___ that will produce the same result"
   ]
  },
  {
   "cell_type": "code",
   "execution_count": null,
   "id": "f17da00c",
   "metadata": {},
   "outputs": [],
   "source": [
    "import numpy as np\n",
    "\n",
    "x = [1, 2, 3, 4]\n",
    "y = [5, 6, 7, 8]\n",
    "z = np.add(x, y)\n",
    "\n",
    "print(z)"
   ]
  },
  {
   "cell_type": "markdown",
   "id": "4bcb6458",
   "metadata": {},
   "source": [
    "### Simple Arithmetic\n",
    "You could use arithmetic operators directly between NumPy arrays, but this section discusses an extension of the same where we have function that can take any array-like objects e.g lists, tuples, etc. and perform ***arithmetic conditionally***.\n",
    "\n",
    "Arithmetic Conditionally: Means that we can define conditions where the arithmetic operation should happen. \n",
    "\n",
    "All of the discussed arithmetic functions take a ___where___ parameter in which we can specify that condition"
   ]
  },
  {
   "cell_type": "code",
   "execution_count": null,
   "id": "57a4d6e7",
   "metadata": {},
   "outputs": [],
   "source": [
    "import numpy as np\n",
    "\n",
    "arr1 = np.array([10, 11, 12, 13, 14, 15])\n",
    "arr2 = np.array([20, 21, 22, 23, 24, 25])\n",
    "\n",
    "# Addition\n",
    "new_arr = np.add(arr1, arr2)\n",
    "print(\"Addition: \",new_arr)\n",
    "\n",
    "# Subtraction \n",
    "new_arr = np.subtract(arr1, arr2)\n",
    "print(\"Subtraction:\", new_arr)\n",
    "\n",
    "# Multiplication\n",
    "new_arr = np.multiply(arr1, arr2)\n",
    "print(\"Multiplication:\", new_arr)\n",
    "\n",
    "# There's also: Division, Power, Remainder, Quotient and Mod and Absolute Values"
   ]
  },
  {
   "cell_type": "markdown",
   "id": "42a2dc3c",
   "metadata": {},
   "source": [
    "### Rounding Decimals\n",
    "There are primarly five ways of round off decimals in NumPy:\n",
    "- Truncation\n",
    "- Fix\n",
    "- Rounding\n",
    "- Floor\n",
    "- Ceil"
   ]
  },
  {
   "cell_type": "code",
   "execution_count": null,
   "id": "fb6e3b1a",
   "metadata": {},
   "outputs": [],
   "source": [
    "import numpy as np\n",
    "\n",
    "arr = np.array([-3.1666, 3.6667])\n",
    "print(arr)\n",
    "\n",
    "# trunc() | fix() - Remove the decimals, and return the float number closest to zero.\n",
    "print(np.trunc(arr))\n",
    "print(np.fix(arr))\n",
    "\n",
    "# around() increments preceding digit or decimal by 1 if >= 5 else do nothing\n",
    "print(np.around(arr))\n",
    "\n",
    "# floor() rounds off decimal to nearest lower integer. \n",
    "print(np.floor(arr))\n",
    "\n",
    "# ceil() rounds off decimal to nearest upper inteer.\n",
    "print(np.ceil(arr))"
   ]
  },
  {
   "cell_type": "markdown",
   "id": "94cf483d",
   "metadata": {},
   "source": [
    "### Logs\n",
    "NumPy procides functions to perform log at the base 2, e and 10.\n",
    "\n",
    "All of the los gunctions will place -inf or inf in the elements if the log can not be computed."
   ]
  },
  {
   "cell_type": "code",
   "execution_count": null,
   "id": "18ff6a70",
   "metadata": {},
   "outputs": [],
   "source": [
    "import numpy as np\n",
    "\n",
    "arr = np.arange(1, 10) # Returns an array with integers starting from 1 to 10(not included)\n",
    "\n",
    "# Log base 2\n",
    "print(np.log2(arr))\n",
    "\n",
    "# Log base 10\n",
    "print(np.log10(arr))\n",
    "\n",
    "# Natural Log\n",
    "print(np.log(arr))\n"
   ]
  },
  {
   "cell_type": "markdown",
   "id": "c0abf2cd",
   "metadata": {},
   "source": [
    "# Python - Scipy"
   ]
  },
  {
   "cell_type": "markdown",
   "id": "ed4172da",
   "metadata": {},
   "source": [
    "Scypy is  a scientific computation library that uses NumPy underneath. \n",
    "\n",
    "SciPy stands for Scientific Python.\n",
    "\n",
    "It provides more utility functions for optimization, stats and signal processing."
   ]
  },
  {
   "cell_type": "markdown",
   "id": "c2fef004",
   "metadata": {},
   "source": [
    "## Constants in SciPy\n",
    "As Scipy is more focused on scientific implementations, it provides many built-in scientific constans. \n",
    "\n",
    "These constants can be helpful when you are working with Data Science. \n",
    "\n",
    "Example:"
   ]
  },
  {
   "cell_type": "code",
   "execution_count": null,
   "id": "32b61b27-b6db-4b56-987b-79b5a5392f15",
   "metadata": {},
   "outputs": [],
   "source": [
    "from scipy import constants\n",
    "\n",
    "print(constants.pi)"
   ]
  },
  {
   "cell_type": "markdown",
   "id": "04b36d15",
   "metadata": {},
   "source": [
    "A list of all units under the constants module can be seen using the ___dir()___ function."
   ]
  },
  {
   "cell_type": "markdown",
   "id": "74f28ece",
   "metadata": {},
   "source": [
    "### Constant Units"
   ]
  },
  {
   "cell_type": "code",
   "execution_count": null,
   "id": "2c1e13d7",
   "metadata": {},
   "outputs": [],
   "source": [
    "from scipy import constants\n",
    "\n",
    "print(dir(constants))"
   ]
  },
  {
   "cell_type": "markdown",
   "id": "1bb94b09",
   "metadata": {},
   "source": [
    "### Unit Categories\n",
    "The units are placed under these categories:\n",
    "- Metric\n",
    "- Binary\n",
    "- Mass\n",
    "- Angle\n",
    "- Time\n",
    "- Lenght\n",
    "- Pressure\n",
    "- Volume\n",
    "- Speed\n",
    "- Temperature\n",
    "- Energy\n",
    "- Force"
   ]
  },
  {
   "cell_type": "markdown",
   "id": "c6f589e2",
   "metadata": {},
   "source": [
    "### Metric Prefixes\n",
    "Return the specified unit in meter"
   ]
  },
  {
   "cell_type": "code",
   "execution_count": null,
   "id": "53c4e0c2",
   "metadata": {},
   "outputs": [],
   "source": [
    "print(constants.yotta)    #1e+24\n",
    "print(constants.zetta)    #1e+21\n",
    "print(constants.exa)      #1e+18\n",
    "print(constants.peta)     #1000000000000000.0\n",
    "print(constants.tera)     #1000000000000.0\n",
    "print(constants.giga)     #1000000000.0\n",
    "print(constants.mega)     #1000000.0\n",
    "print(constants.kilo)     #1000.0\n",
    "print(constants.hecto)    #100.0\n",
    "print(constants.deka)     #10.0\n",
    "print(constants.deci)     #0.1\n",
    "print(constants.centi)    #0.01\n",
    "print(constants.milli)    #0.001\n",
    "print(constants.micro)    #1e-06\n",
    "print(constants.nano)     #1e-09\n",
    "print(constants.pico)     #1e-12\n",
    "print(constants.femto)    #1e-15\n",
    "print(constants.atto)     #1e-18\n",
    "print(constants.zepto)    #1e-21"
   ]
  },
  {
   "cell_type": "markdown",
   "id": "9ec49119",
   "metadata": {},
   "source": [
    "### Binary Prefixes\n",
    "Return the specified unit in bytes"
   ]
  },
  {
   "cell_type": "code",
   "execution_count": null,
   "id": "7d08b8cc",
   "metadata": {},
   "outputs": [],
   "source": [
    "from scipy import constants\n",
    "\n",
    "print(constants.kibi)    #1024\n",
    "print(constants.mebi)    #1048576\n",
    "print(constants.gibi)    #1073741824\n",
    "print(constants.tebi)    #1099511627776\n",
    "print(constants.pebi)    #1125899906842624\n",
    "print(constants.exbi)    #1152921504606846976\n",
    "print(constants.zebi)    #1180591620717411303424\n",
    "print(constants.yobi)    #1208925819614629174706176"
   ]
  },
  {
   "cell_type": "markdown",
   "id": "7d25f3e7",
   "metadata": {},
   "source": [
    "### Mass\n",
    "Returns the specified unit in kg"
   ]
  },
  {
   "cell_type": "code",
   "execution_count": null,
   "id": "490ba362",
   "metadata": {},
   "outputs": [],
   "source": [
    "from scipy import constants\n",
    "\n",
    "print(constants.gram)        #0.001\n",
    "print(constants.metric_ton)  #1000.0\n",
    "print(constants.grain)       #6.479891e-05\n",
    "print(constants.lb)          #0.45359236999999997\n",
    "print(constants.pound)       #0.45359236999999997\n",
    "print(constants.oz)          #0.028349523124999998\n",
    "print(constants.ounce)       #0.028349523124999998\n",
    "print(constants.stone)       #6.3502931799999995\n",
    "print(constants.long_ton)    #1016.0469088\n",
    "print(constants.short_ton)   #907.1847399999999\n",
    "print(constants.troy_ounce)  #0.031103476799999998\n",
    "print(constants.troy_pound)  #0.37324172159999996\n",
    "print(constants.carat)       #0.0002\n",
    "print(constants.atomic_mass) #1.66053904e-27\n",
    "print(constants.m_u)         #1.66053904e-27\n",
    "print(constants.u)           #1.66053904e-27"
   ]
  },
  {
   "cell_type": "markdown",
   "id": "0177f542",
   "metadata": {},
   "source": [
    "### Angle\n",
    "Returns the specified unit in radians"
   ]
  },
  {
   "cell_type": "code",
   "execution_count": null,
   "id": "811e11bb",
   "metadata": {},
   "outputs": [],
   "source": [
    "from scipy import constants\n",
    "\n",
    "print(constants.degree)     #0.017453292519943295\n",
    "print(constants.arcmin)     #0.0002908882086657216\n",
    "print(constants.arcminute)  #0.0002908882086657216\n",
    "print(constants.arcsec)     #4.84813681109536e-06\n",
    "print(constants.arcsecond)  #4.84813681109536e-06"
   ]
  },
  {
   "cell_type": "markdown",
   "id": "b2489d66",
   "metadata": {},
   "source": [
    "### Time\n",
    "Returns the specified unit in seconds\n"
   ]
  },
  {
   "cell_type": "code",
   "execution_count": null,
   "id": "c89f794a",
   "metadata": {},
   "outputs": [],
   "source": [
    "from scipy import constants\n",
    "\n",
    "print(constants.minute)      #60.0\n",
    "print(constants.hour)        #3600.0\n",
    "print(constants.day)         #86400.0\n",
    "print(constants.week)        #604800.0\n",
    "print(constants.year)        #31536000.0\n",
    "print(constants.Julian_year) #31557600.0"
   ]
  },
  {
   "cell_type": "markdown",
   "id": "f0c319b8",
   "metadata": {},
   "source": [
    "### Lenght\n",
    "Returns the specified unit in meters"
   ]
  },
  {
   "cell_type": "code",
   "execution_count": null,
   "id": "84ee6045",
   "metadata": {},
   "outputs": [],
   "source": [
    "from scipy import constants\n",
    "\n",
    "print(constants.inch)              #0.0254\n",
    "print(constants.foot)              #0.30479999999999996\n",
    "print(constants.yard)              #0.9143999999999999\n",
    "print(constants.mile)              #1609.3439999999998\n",
    "print(constants.mil)               #2.5399999999999997e-05\n",
    "print(constants.pt)                #0.00035277777777777776\n",
    "print(constants.point)             #0.00035277777777777776\n",
    "print(constants.survey_foot)       #0.3048006096012192\n",
    "print(constants.survey_mile)       #1609.3472186944373\n",
    "print(constants.nautical_mile)     #1852.0\n",
    "print(constants.fermi)             #1e-15\n",
    "print(constants.angstrom)          #1e-10\n",
    "print(constants.micron)            #1e-06\n",
    "print(constants.au)                #149597870691.0\n",
    "print(constants.astronomical_unit) #149597870691.0\n",
    "print(constants.light_year)        #9460730472580800.0\n",
    "print(constants.parsec)            #3.0856775813057292e+16"
   ]
  },
  {
   "cell_type": "markdown",
   "id": "63eda9c3",
   "metadata": {},
   "source": [
    "### Pressure\n",
    "Returns the specified unit in pascals\n"
   ]
  },
  {
   "cell_type": "code",
   "execution_count": null,
   "id": "56fd325d",
   "metadata": {},
   "outputs": [],
   "source": [
    "from scipy import constants\n",
    "\n",
    "print(constants.atm)         #101325.0\n",
    "print(constants.atmosphere)  #101325.0\n",
    "print(constants.bar)         #100000.0\n",
    "print(constants.torr)        #133.32236842105263\n",
    "print(constants.mmHg)        #133.32236842105263\n",
    "print(constants.psi)         #6894.757293168361"
   ]
  },
  {
   "cell_type": "markdown",
   "id": "c4bbafe4",
   "metadata": {},
   "source": [
    "### Area\n",
    "Returns the specified unit in square meters\n"
   ]
  },
  {
   "cell_type": "code",
   "execution_count": null,
   "id": "51b114c2",
   "metadata": {},
   "outputs": [],
   "source": [
    "from scipy import constants\n",
    "\n",
    "print(constants.hectare) #10000.0\n",
    "print(constants.acre)    #4046.8564223999992"
   ]
  },
  {
   "cell_type": "markdown",
   "id": "4ce0d360",
   "metadata": {},
   "source": [
    "### Volume\n",
    "Return the specified unit in cubic meters\n"
   ]
  },
  {
   "cell_type": "code",
   "execution_count": null,
   "id": "debc916e",
   "metadata": {},
   "outputs": [],
   "source": [
    "from scipy import constants\n",
    "\n",
    "print(constants.liter)            #0.001\n",
    "print(constants.litre)            #0.001\n",
    "print(constants.gallon)           #0.0037854117839999997\n",
    "print(constants.gallon_US)        #0.0037854117839999997\n",
    "print(constants.gallon_imp)       #0.00454609\n",
    "print(constants.fluid_ounce)      #2.9573529562499998e-05\n",
    "print(constants.fluid_ounce_US)   #2.9573529562499998e-05\n",
    "print(constants.fluid_ounce_imp)  #2.84130625e-05\n",
    "print(constants.barrel)           #0.15898729492799998\n",
    "print(constants.bbl)              #0.15898729492799998"
   ]
  },
  {
   "cell_type": "markdown",
   "id": "fc0c546e",
   "metadata": {},
   "source": [
    "### Speed\n",
    "Return the specified unit in meters per seconds \n"
   ]
  },
  {
   "cell_type": "code",
   "execution_count": null,
   "id": "097840de",
   "metadata": {},
   "outputs": [],
   "source": [
    "from scipy import constants\n",
    "\n",
    "print(constants.kmh)            #0.2777777777777778\n",
    "print(constants.mph)            #0.44703999999999994\n",
    "print(constants.mach)           #340.5\n",
    "print(constants.speed_of_sound) #340.5\n",
    "print(constants.knot)           #0.5144444444444445"
   ]
  },
  {
   "cell_type": "markdown",
   "id": "9d8ef658",
   "metadata": {},
   "source": [
    "### Temperature\n",
    "Return the specified unit in Kelvin\n"
   ]
  },
  {
   "cell_type": "code",
   "execution_count": null,
   "id": "88d898cf",
   "metadata": {},
   "outputs": [],
   "source": [
    "from scipy import constants\n",
    "\n",
    "print(constants.zero_Celsius)      #273.15\n",
    "print(constants.degree_Fahrenheit) #0.5555555555555556"
   ]
  },
  {
   "cell_type": "markdown",
   "id": "1a97b856",
   "metadata": {},
   "source": [
    "### Energy\n",
    "Return the specified unit in joules"
   ]
  },
  {
   "cell_type": "code",
   "execution_count": null,
   "id": "f088f741",
   "metadata": {},
   "outputs": [],
   "source": [
    "from scipy import constants\n",
    "\n",
    "print(constants.eV)            #1.6021766208e-19\n",
    "print(constants.electron_volt) #1.6021766208e-19\n",
    "print(constants.calorie)       #4.184\n",
    "print(constants.calorie_th)    #4.184\n",
    "print(constants.calorie_IT)    #4.1868\n",
    "print(constants.erg)           #1e-07\n",
    "print(constants.Btu)           #1055.05585262\n",
    "print(constants.Btu_IT)        #1055.05585262\n",
    "print(constants.Btu_th)        #1054.3502644888888\n",
    "print(constants.ton_TNT)       #4184000000.0"
   ]
  },
  {
   "cell_type": "markdown",
   "id": "72bdf000",
   "metadata": {},
   "source": [
    "### Power\n",
    "Returns the specified unit in watts\n"
   ]
  },
  {
   "cell_type": "code",
   "execution_count": null,
   "id": "94582c51",
   "metadata": {},
   "outputs": [],
   "source": [
    "from scipy import constants\n",
    "\n",
    "print(constants.hp)         #745.6998715822701\n",
    "print(constants.horsepower) #745.6998715822701"
   ]
  },
  {
   "cell_type": "markdown",
   "id": "49f3bbae",
   "metadata": {},
   "source": [
    "### Force\n",
    "Return specified unit in newton\n"
   ]
  },
  {
   "cell_type": "code",
   "execution_count": null,
   "id": "7b3873f9",
   "metadata": {},
   "outputs": [],
   "source": [
    "from scipy import constants\n",
    "\n",
    "print(constants.dyn)             #1e-05\n",
    "print(constants.dyne)            #1e-05\n",
    "print(constants.lbf)             #4.4482216152605\n",
    "print(constants.pound_force)     #4.4482216152605\n",
    "print(constants.kgf)             #9.80665\n",
    "print(constants.kilogram_force)  #9.80665"
   ]
  },
  {
   "cell_type": "markdown",
   "id": "518df6dc",
   "metadata": {},
   "source": [
    "## Scipy Optimizers\n",
    "Optimizers are a set of procedures defined in SciPy that either find the minimun value of a function, or the root of an ecuation. \n",
    "\n",
    "Essentially, all of the algorithms in Machine Learning are nothing more than a complex equation that needs to be minimized with the help of given data. \n",
    "\n",
    "### Roots of an Equation\n",
    "NumPy is capable of finding roots for polynomials and linear equations, but it can not find roots for non linear equations, like this one:\n",
    "__x + cos(x)__ \n",
    "\n",
    "For that you can use SciPy's ___optimize.root___ function. \n",
    "\n",
    "This function takes two required arguments: \n",
    "\n",
    "- __fun__ - a function representing an equation. \n",
    "\n",
    "- __x0__ - an initial guess for the root\n",
    "\n",
    "The function returns an object with information regarding the solution.\n",
    "\n",
    "The actual solution is given under attribute ___x___ of the returned object.\n",
    "\n",
    "Example - Find root of the ecuation ___x + cos(x)___: "
   ]
  },
  {
   "cell_type": "code",
   "execution_count": null,
   "id": "77f3bfc9",
   "metadata": {},
   "outputs": [],
   "source": [
    "from scipy.optimize import root\n",
    "from math import cos\n",
    "\n",
    "def eqn(x):\n",
    "    return x + cos(x) \n",
    "\n",
    "myroot = root(eqn, 0) \n",
    "\n",
    "print(\"Root: \", myroot.x)\n",
    "print(\"------------------------\")\n",
    "print(myroot)"
   ]
  },
  {
   "cell_type": "markdown",
   "id": "2e855fd0",
   "metadata": {},
   "source": [
    "### Minimizing a Function\n",
    "A function, in this context, represents a curve, curves have high points and low points.\n",
    "\n",
    "High points are called __maxima__\n",
    "\n",
    "Low points are called __minima__ \n",
    "\n",
    "The highest point in the whole curve is called __global maxima__, whereas the rest of them are called __local maxima__. \n",
    "\n",
    "The lowest point in the whole curve is called __global minima__, whereas the rest of them are called __local minima__ \n",
    "\n",
    "### Finding Minima\n",
    "We can use ___scipy.optimize.minimize()___ function to minimize the function\n",
    "\n",
    "The ___minimize___ function takes the following arguments: \n",
    "\n",
    "- ___fun___ - a function representing an equation. \n",
    "- ___x0___ - an initial guess for the root. \n",
    "- ___method___ - name of the method to use. Legal values: \n",
    "    'CG',\n",
    "    'BFGS',\n",
    "    'Newton-CG',\n",
    "    'L-BFGS-B',\n",
    "    'TNC',\n",
    "    'COBYLA',\n",
    "    'SLSQP'\n",
    "- ___callback___ - function called after each iteration of optimization.\n",
    "- ___options___ - a dictionary defining extra params: \n",
    "\n",
    "Example - Minimize the function x^2 + x + 2 with BFGS: \n"
   ]
  },
  {
   "cell_type": "code",
   "execution_count": null,
   "id": "1d63f78d",
   "metadata": {},
   "outputs": [],
   "source": [
    "from scipy.optimize import minimize \n",
    "\n",
    "def eqn(x):\n",
    "    return x**2 + x + 2 \n",
    "\n",
    "mymin = minimize(eqn, 0, method='BFGS')\n",
    "\n",
    "print(mymin)"
   ]
  },
  {
   "cell_type": "markdown",
   "id": "69d4a3b1",
   "metadata": {},
   "source": [
    "# Python - Data Visualization"
   ]
  },
  {
   "cell_type": "markdown",
   "id": "7391c2d8",
   "metadata": {},
   "source": [
    "## Matplotlib"
   ]
  },
  {
   "cell_type": "markdown",
   "id": "7947e81d",
   "metadata": {},
   "source": [
    "Matplotlib is a low level graph plotting library in python that serves as a visualization utility. \n",
    "\n",
    "### Pyplot\n",
    "Most of the Matplotlib utilities lies under the ___pyplot___ submodule, and are usually imported under the ___plt___ alias.\n",
    "\n",
    "Example - Draw a line in a diagram from position (0,0) to position (6,250)"
   ]
  },
  {
   "cell_type": "code",
   "execution_count": null,
   "id": "bd505ca5",
   "metadata": {},
   "outputs": [],
   "source": [
    "import matplotlib.pyplot as plt\n",
    "import numpy as np \n",
    "\n",
    "x_points = np.array([0, 6])\n",
    "y_points = np.array([0, 250])\n",
    "\n",
    "plt.plot(x_points, y_points)\n",
    "plt.show()"
   ]
  },
  {
   "cell_type": "markdown",
   "id": "7b5c3d51",
   "metadata": {},
   "source": [
    "### Plotting\n",
    "The ___plot()___ function is used to draw points in a diagram.\n",
    "\n",
    "By default, the ___plot()___ function draws a line from point to point. \n",
    "\n",
    "The function takes parameters for specifying points in the diagram. \n",
    "\n",
    "Parameter 1 is an array containing the points on the x-axis.\n",
    "\n",
    "Parameter 2 is an array containing the points on the y-axis.\n",
    "\n",
    "If we need to plot a line from (1,3) to (8,10), we have to pass two arrays [1,8] and [3,10] to the plot function.\n",
    "\n",
    "Example - Draw a line in a diagram from position (1,3) to position (8,10). "
   ]
  },
  {
   "cell_type": "code",
   "execution_count": null,
   "id": "d4f63f51",
   "metadata": {},
   "outputs": [],
   "source": [
    "import matplotlib.pyplot as plt\n",
    "import numpy as np\n",
    "\n",
    "xpoints = np.array([1,8])\n",
    "ypoints = np.array([3,10])\n",
    "\n",
    "plt.plot(xpoints, ypoints)\n",
    "plt.show()"
   ]
  },
  {
   "cell_type": "markdown",
   "id": "2e35bed2",
   "metadata": {},
   "source": [
    "#### Plotting points\n",
    "To plot only the markers, you can use shortcut string notation paramter 'o', which means 'rings'\n",
    "\n",
    "Example - Draw two points in the diagram, one at position (1,3) and one in position (8,10)"
   ]
  },
  {
   "cell_type": "code",
   "execution_count": null,
   "id": "0286ee65",
   "metadata": {},
   "outputs": [],
   "source": [
    "import matplotlib.pyplot as plt\n",
    "import numpy as np\n",
    "\n",
    "xpoints = np.array([1,8])\n",
    "ypoints = np.array([3,10])\n",
    "\n",
    "plt.plot(xpoints, ypoints, 'o')\n",
    "plt.show()"
   ]
  },
  {
   "cell_type": "markdown",
   "id": "9cb6d895",
   "metadata": {},
   "source": [
    "#### Multiple Points\n",
    "You can plot as many points as you like, just make sure youhave the same number of points on both axis.\n",
    "\n",
    "Example - Draw a line in a diagram from position (1,3) to (2,8) then to (6,1) and finally to position (8,10):"
   ]
  },
  {
   "cell_type": "code",
   "execution_count": null,
   "id": "1a99f5c2",
   "metadata": {},
   "outputs": [],
   "source": [
    "import matplotlib.pyplot as plt\n",
    "import numpy as np\n",
    "\n",
    "xpoints = np.array([1, 2, 6, 8])\n",
    "ypoints = np.array([3, 8, 1, 10])\n",
    "\n",
    "plt.plot(xpoints, ypoints)\n",
    "plt.show()"
   ]
  },
  {
   "cell_type": "markdown",
   "id": "547eea74",
   "metadata": {},
   "source": [
    "#### Default X-Points\n",
    "If we do not specify the points in the x-axis, the will get the default values 0,1,2,3 and so on. \n",
    "\n",
    "So if we take the same example as above, and leave out the x-points, the diagram will look like this."
   ]
  },
  {
   "cell_type": "code",
   "execution_count": null,
   "id": "340a5692",
   "metadata": {},
   "outputs": [],
   "source": [
    "import matplotlib.pyplot as plt\n",
    "import numpy as np\n",
    "\n",
    "ypoints = np.array([3, 8,1,10,5,7])\n",
    "\n",
    "plt.plot(ypoints)\n",
    "plt.show()"
   ]
  },
  {
   "cell_type": "markdown",
   "id": "85e9463e",
   "metadata": {},
   "source": [
    "### Markers\n",
    "You can use the keyword argument ___marker___ to emphasize each point with a specified marker. "
   ]
  },
  {
   "cell_type": "code",
   "execution_count": null,
   "id": "0b987c7f",
   "metadata": {},
   "outputs": [],
   "source": [
    "import matplotlib.pyplot as plt\n",
    "import numpy as np\n",
    "\n",
    "ypoints = np.array([3, 8, 1, 10])\n",
    "\n",
    "plt.plot(ypoints, marker = 'o')\n",
    "plt.show()\n",
    "\n",
    "plt.plot(ypoints, marker = '*')\n",
    "plt.show()"
   ]
  },
  {
   "cell_type": "markdown",
   "id": "49b7e632",
   "metadata": {},
   "source": [
    "#### Format Strings\n",
    "You can use also use the _shortcut string notation_ parameter to specify the marker. \n",
    "\n",
    "This parameter is also called ___fmt___, and is written with this syntax:\n",
    "\n",
    "___marker|line|color___\n",
    "\n",
    "Example: "
   ]
  },
  {
   "cell_type": "code",
   "execution_count": null,
   "id": "a3ace70b",
   "metadata": {},
   "outputs": [],
   "source": [
    "import matplotlib.pyplot as plt \n",
    "import numpy as np\n",
    "\n",
    "ypoints = np.array([3, 8, 1, 10])\n",
    "\n",
    "plt.plot(ypoints, 'o:r')\n",
    "plt.show()"
   ]
  },
  {
   "cell_type": "markdown",
   "id": "d70ba6ad",
   "metadata": {},
   "source": [
    "#### Marker Size\n",
    "You can use the keyword argument ___markersize___ or the shorter version, ___ms___ to set the size of the markers:"
   ]
  },
  {
   "cell_type": "code",
   "execution_count": null,
   "id": "625376d7",
   "metadata": {},
   "outputs": [],
   "source": [
    "import matplotlib.pyplot as plt\n",
    "import numpy as np\n",
    "\n",
    "ypoints = np.array([3, 8, 1, 10])\n",
    "\n",
    "plt.plot(ypoints, marker = 'o', ms = 20)\n",
    "plt.show()\n",
    "\n",
    "# You can use markeredgecolor ot mec to set the color of the edge\n",
    "\n",
    "plt.plot(ypoints, marker = 'o', ms = 20, mec = 'r')\n",
    "plt.show()\n",
    "\n",
    "# You can also use the markerfacecolor or mfc to set the color inside the\n",
    "# edge of the marker.\n",
    "\n",
    "plt.plot(ypoints, marker = 'o', ms = 20, mfc = 'r')\n",
    "plt.show()\n",
    "\n",
    "# You can also use Hexadecimal color values\n",
    "plt.plot(ypoints, marker = 'o', ms = 20, mec = '#4CAF50', mfc = '#4CAF50')\n",
    "plt.show()"
   ]
  },
  {
   "cell_type": "markdown",
   "id": "1bce67f6",
   "metadata": {},
   "source": [
    "### Linestyle\n",
    "You can use the keyword argument ___linestyle__, or shorter ___ls___, to change the style of the plotted line:\n",
    "\n",
    "Example - Use a dotted line:"
   ]
  },
  {
   "cell_type": "code",
   "execution_count": null,
   "id": "e7623606",
   "metadata": {},
   "outputs": [],
   "source": [
    "import matplotlib.pyplot as plt\n",
    "import numpy as np\n",
    "\n",
    "ypoints = np.array([3, 8, 1, 10])\n",
    "\n",
    "plt.plot(ypoints, linestyle = 'dotted')\n",
    "plt.show()\n",
    "\n",
    "# Use a dashed line\n",
    "\n",
    "plt.plot(ypoints, linestyle = 'dashed')\n",
    "plt.show()"
   ]
  },
  {
   "cell_type": "markdown",
   "id": "b3c2f8f2",
   "metadata": {},
   "source": [
    "#### Line Color\n",
    "You can use the keyword argument ___color___ or the shorter ___c___ to set the color of the line: "
   ]
  },
  {
   "cell_type": "code",
   "execution_count": null,
   "id": "d61bb0eb",
   "metadata": {},
   "outputs": [],
   "source": [
    "import matplotlib.pyplot as plt \n",
    "import numpy as np\n",
    "\n",
    "ypoints = np.array([3, 8, 1, 10])\n",
    "\n",
    "plt.plot(ypoints, color = 'r')\n",
    "plt.show()\n"
   ]
  },
  {
   "cell_type": "markdown",
   "id": "5aa32819",
   "metadata": {},
   "source": [
    "#### Line Width\n",
    "You can use the keyword argument ___linewidth___ or ___lw___ to change the width of the line. \n",
    "\n",
    "The value is a floating number, in points. \n",
    "\n",
    "Example - Plot with a 20.5pt wide line"
   ]
  },
  {
   "cell_type": "code",
   "execution_count": null,
   "id": "cf12e223",
   "metadata": {},
   "outputs": [],
   "source": [
    "import matplotlib.pyplot as plt\n",
    "import numpy as np\n",
    "\n",
    "ypoints = np.array([3, 8, 1, 10])\n",
    "\n",
    "plt.plot(ypoints, linewidth='20.5')\n",
    "plt.show()"
   ]
  },
  {
   "cell_type": "markdown",
   "id": "3022e93a",
   "metadata": {},
   "source": [
    "### Multilpe Lines\n",
    "You can plot as many lines as you like simply adding more ___plt.plot()___ functions: "
   ]
  },
  {
   "cell_type": "code",
   "execution_count": null,
   "id": "895761a7",
   "metadata": {},
   "outputs": [],
   "source": [
    "import matplotlib.pyplot as plt\n",
    "import numpy as np\n",
    "\n",
    "y1 = np.array([3, 8, 1, 10])\n",
    "y2 = np.array([6, 2, 7, 11])\n",
    "\n",
    "plt.plot(y1)\n",
    "plt.plot(y2)\n",
    "\n",
    "plt.show()"
   ]
  },
  {
   "cell_type": "markdown",
   "id": "9ad0fe84",
   "metadata": {},
   "source": [
    "### Create Labels for Plot\n",
    "With Pyplot, you can use the ___xlabel()___ and ___ylabel()___ functions to set a label for x- and y-axis "
   ]
  },
  {
   "cell_type": "code",
   "execution_count": null,
   "id": "e3e2bac8",
   "metadata": {},
   "outputs": [],
   "source": [
    "import numpy as np\n",
    "import matplotlib.pyplot as plt\n",
    "\n",
    "x = np.array([80, 85, 90, 95, 100, 105, 110, 115, 120, 125])\n",
    "y = np.array([240, 250, 260, 270, 280, 290, 300, 310, 320, 330])\n",
    "\n",
    "plt.plot(x, y)\n",
    "\n",
    "plt.xlabel(\"Average Pulse\")\n",
    "plt.ylabel(\"Calorie Burnage\")\n",
    "\n",
    "plt.show()"
   ]
  },
  {
   "cell_type": "markdown",
   "id": "907ad32b",
   "metadata": {},
   "source": [
    "#### Create a Title for a plot\n",
    "You can use the ___title()___ function to set a title for the plot. "
   ]
  },
  {
   "cell_type": "code",
   "execution_count": null,
   "id": "f10cc08f",
   "metadata": {},
   "outputs": [],
   "source": [
    "import numpy as np\n",
    "import matplotlib.pyplot as plt\n",
    "\n",
    "x = np.array([80, 85, 90, 95, 100, 105, 110, 115, 120, 125])\n",
    "y = np.array([240, 250, 260, 270, 280, 290, 300, 310, 320, 330])\n",
    "\n",
    "plt.plot(x, y)\n",
    "\n",
    "plt.title(\"Sports Watch Data\")\n",
    "plt.xlabel(\"Average Pulse\")\n",
    "plt.ylabel(\"Calorie Burnage\")\n",
    "\n",
    "plt.show()"
   ]
  },
  {
   "cell_type": "markdown",
   "id": "b78279c2",
   "metadata": {},
   "source": [
    "#### Set Font properties for title and lables\n",
    "You can use the ___fontdict___ parameter in ___xlabel(), ylabel()___ and ___title()___ to set font properties for the title and lables. \n",
    "\n",
    "Example: "
   ]
  },
  {
   "cell_type": "code",
   "execution_count": null,
   "id": "9dad673a",
   "metadata": {},
   "outputs": [],
   "source": [
    "import numpy as np\n",
    "import matplotlib.pyplot as plt\n",
    "\n",
    "x = np.array([80, 85, 90, 95, 100, 105, 110, 115, 120, 125])\n",
    "y = np.array([240, 250, 260, 270, 280, 290, 300, 310, 320, 330])\n",
    "\n",
    "font1 = {'family':'serif','color':'blue','size':20}\n",
    "font2 = {'family':'serif','color':'darkred','size':15}\n",
    "\n",
    "plt.title(\"Sports Watch Data\", fontdict = font1)\n",
    "plt.xlabel(\"Average Pulse\", fontdict = font2)\n",
    "plt.ylabel(\"Calorie Burnage\", fontdict = font2)\n",
    "\n",
    "plt.plot(x, y)\n",
    "plt.show()"
   ]
  },
  {
   "cell_type": "markdown",
   "id": "87f39b17",
   "metadata": {},
   "source": [
    "#### Position the Title\n",
    "You can use the ___loc___ parameter in ___title()___ to position the title. \n",
    "\n",
    "Legal values are 'left', 'right', and 'center'. Default value is 'center'"
   ]
  },
  {
   "cell_type": "code",
   "execution_count": null,
   "id": "615a1270",
   "metadata": {},
   "outputs": [],
   "source": [
    "import numpy as np\n",
    "import matplotlib.pyplot as plt\n",
    "\n",
    "x = np.array([80, 85, 90, 95, 100, 105, 110, 115, 120, 125])\n",
    "y = np.array([240, 250, 260, 270, 280, 290, 300, 310, 320, 330])\n",
    "\n",
    "plt.title(\"Sports Watch Data\", loc = 'left')\n",
    "plt.xlabel(\"Average Pulse\")\n",
    "plt.ylabel(\"Calorie Burnage\")\n",
    "\n",
    "plt.plot(x, y)\n",
    "plt.show()"
   ]
  },
  {
   "cell_type": "markdown",
   "id": "d3242856",
   "metadata": {},
   "source": [
    "### Matplotlib Adding Grid Lines\n",
    "With Pyplot, you can use the ___grid()___ function to add grid lines to the plot.\n",
    "\n"
   ]
  },
  {
   "cell_type": "code",
   "execution_count": null,
   "id": "eda9d8e0",
   "metadata": {},
   "outputs": [],
   "source": [
    "import numpy as np\n",
    "import matplotlib.pyplot as plt\n",
    "\n",
    "x = np.array([80, 85, 90, 95, 100, 105, 110, 115, 120, 125])\n",
    "y = np.array([240, 250, 260, 270, 280, 290, 300, 310, 320, 330])\n",
    "\n",
    "plt.title(\"Sports Watch Data\")\n",
    "plt.xlabel(\"Average Pulse\")\n",
    "plt.ylabel(\"Calorie Burnage\")\n",
    "\n",
    "plt.plot(x, y)\n",
    "plt.grid()\n",
    "\n",
    "plt.show()\n",
    "\n",
    "# You can also specify which grid lines to display\n",
    "plt.plot(x, y)\n",
    "plt.grid(axis = 'x')\n",
    "plt.show()\n"
   ]
  },
  {
   "cell_type": "markdown",
   "id": "44118e5e",
   "metadata": {},
   "source": [
    "#### Set Grid line properties"
   ]
  },
  {
   "cell_type": "code",
   "execution_count": null,
   "id": "718baa33",
   "metadata": {},
   "outputs": [],
   "source": [
    "import numpy as np\n",
    "import matplotlib.pyplot as plt\n",
    "\n",
    "x = np.array([80, 85, 90, 95, 100, 105, 110, 115, 120, 125])\n",
    "y = np.array([240, 250, 260, 270, 280, 290, 300, 310, 320, 330])\n",
    "\n",
    "plt.title(\"Sports Watch Data\")\n",
    "plt.xlabel(\"Average Pulse\")\n",
    "plt.ylabel(\"Calorie Burnage\")\n",
    "\n",
    "plt.plot(x, y)\n",
    "\n",
    "plt.grid(color = 'green', linestyle = '--', linewidth = 0.5)\n",
    "\n",
    "plt.show()"
   ]
  },
  {
   "cell_type": "markdown",
   "id": "30970811",
   "metadata": {},
   "source": [
    "### Matplotlib Subplot\n",
    "With the ___subplot()___ function you can draw multiple plots in one figure\n",
    "\n",
    "The ___subplot()___ function takes three argumet that describes the layout of the figure.\n",
    "\n",
    "The layout is organized in rows and columns, which are represented by the first and second argument. \n",
    "\n",
    "The third argument represents the index of the current plot.\n",
    "\n",
    "plt.subplot(1, 2, 1)\n",
    "1 row, 2 columns, an this plot is the first plot.\n",
    "\n",
    "plt.subplot(1, 2, 2)\n",
    "1 row, 2 columns, and this plot is the second plot\n",
    "\n",
    "Example - Draw 2 plots on top of each other:"
   ]
  },
  {
   "cell_type": "code",
   "execution_count": null,
   "id": "41f301fb",
   "metadata": {},
   "outputs": [],
   "source": [
    "import matplotlib.pyplot as plt\n",
    "import numpy as pn\n",
    "\n",
    "#plot 1:\n",
    "x = np.array([0, 1, 2, 3])\n",
    "y = np.array([3, 8, 1, 10])\n",
    "\n",
    "plt.subplot(2, 1, 1)\n",
    "plt.plot(x,y)\n",
    "\n",
    "#plot 2:\n",
    "x = np.array([0, 1, 2, 3])\n",
    "y = np.array([10, 20, 30, 40])\n",
    "\n",
    "plt.subplot(2, 1, 2)\n",
    "plt.plot(x,y)\n",
    "\n",
    "plt.show()\n"
   ]
  },
  {
   "cell_type": "markdown",
   "id": "465d0279",
   "metadata": {},
   "source": [
    "# Working with Large Datasets\n"
   ]
  },
  {
   "cell_type": "markdown",
   "id": "007a7d25",
   "metadata": {},
   "source": [
    "## Introduction to map\n",
    "Map is a function for transforming sequences of data. \n",
    "A simple application of _map_ is to take a sequence of numbers and transform each number into a larger number. \n",
    "\n",
    "-1, 0, 1, 2 >>>> map >>>> add_seven(n) >>>> 6, 7, 8, 9  \n",
    "\n",
    "_map_ depends on the function provided to it. In this case, it will apply add_seven to each input. \n",
    "The output of the _map_ function is another series of equal size.\n",
    "\n",
    "The essence of map is that you have an input of some length, in this case four, and an ouput of that same length. And each input gets transformed by the same function as all the other inputs. These transformed inputs are then returned as our output.\n",
    "\n",
    "\n",
    "### First Example\n",
    "\n",
    "**Sceneario:** \"You want to generate a call list for your sales team, but the original developers for your customer sign-up form forgot to build data validation checks into the form. As a result, all the phone numbers are formatted differently. for example, some will be formated nicely (123) 456-7890; some are just numbers 1234567890; some uses dots as separators 123.456.7890; and others trying to be helpful, includ a country code +1 123 456-7890\".\n",
    "\n",
    "First, let's tackle this problem in a way that you're probably familiar: _for_ looping. "
   ]
  },
  {
   "cell_type": "code",
   "execution_count": null,
   "id": "8cd7aed8-f428-4309-ab11-9e73cffefb75",
   "metadata": {},
   "outputs": [],
   "source": [
    "import re\n",
    "\n",
    "phone_numbers = [\n",
    "    \"(123) 456-7890\",\n",
    "    \"1234567890\",\n",
    "    \"123.456.7890\",\n",
    "    \"+1 123 456-7890\"\n",
    "]\n",
    "\n",
    "new_numbers = [] \n",
    "\n",
    "R = re.compile(r\"\\d\")\n",
    "\n",
    "# Loops through all the phone numbers\n",
    "for number in phone_numbers:\n",
    "    digits = R.findall(number) \n",
    "    \n",
    "    # Gathers the numbers into variables\n",
    "    area_code = \"\".join(digits[-10:-7])\n",
    "    first_3 = \"\".join(digits[-7: -4])\n",
    "    last_4 = \"\".join(digits[-4: len(digits)])\n",
    "    \n",
    "    pretty_format = \"({}) {}-{}\".format(area_code, first_3, last_4)\n",
    "    \n",
    "    # Appends the numbers in the right format.\n",
    "    new_numbers.append(pretty_format)\n",
    "\n",
    "\n",
    "print(new_numbers)\n"
   ]
  },
  {
   "cell_type": "markdown",
   "id": "730e12fa-8407-432e-8c09-f7494e166c80",
   "metadata": {
    "tags": []
   },
   "source": [
    "How do we tackle this wiht _map_? Similarly, but with map, we have to separate this problem into two parts. Let's separate it like this:\n",
    "- Resolving the formatting of a phone number\n",
    "- Applying that solution to all the phone numbers we have"
   ]
  },
  {
   "cell_type": "code",
   "execution_count": null,
   "id": "17112f52-8cb3-46dc-a80a-3c45b36d2545",
   "metadata": {},
   "outputs": [],
   "source": [
    "import re \n",
    "\n",
    "# Creates a class to hold our compiled regular expression\n",
    "class PhoneFormatter:\n",
    "    # Creates an initialization method to compile the regular expression.\n",
    "    def __init__(self):\n",
    "        self.r = re.compile(r\"\\d\")\n",
    "        \n",
    "        \n",
    "    # Creates a format method to do the formatting.\n",
    "    def pretty_format(self, phone_number):\n",
    "        phone_numbers = self.r.findall(phone_number)\n",
    "        \n",
    "        # Gathers the numers from the phone number string\n",
    "        area_code = \"\".join(phone_numbers[-10:-7])\n",
    "        first_3 = \"\".join(phone_numbers[-7:-4])\n",
    "        last_4 = \"\".join(phone_numbers[-4:len(phone_numbers)])\n",
    "        \n",
    "        # Returns the numbers in the desired \"pretty\" format.\n",
    "        return \"({}) {}-{}\".format(area_code, first_3, last_4)\n",
    "        \n",
    "\n"
   ]
  },
  {
   "cell_type": "markdown",
   "id": "6f5a84d0-1374-4402-bc15-389fa1477195",
   "metadata": {
    "tags": []
   },
   "source": [
    "Now that we're able to turn phone numbers of any format into phone numbers in a pretty format, we can combine our class iwth map to apply it to a list of phone numbers of any length. To combine the two, we'll instantiate our class and pass the method as the function that map will apply toa ll the elements of a sequency. We can do that as shown in the following listing. "
   ]
  },
  {
   "cell_type": "code",
   "execution_count": null,
   "id": "f905a425-d964-40ea-af84-c29fce2d7e71",
   "metadata": {},
   "outputs": [],
   "source": [
    "phone_numbers = [\n",
    "    \"(123) 456-7890\",\n",
    "    \"1234567890\",\n",
    "    \"123.456.7890\",\n",
    "    \"+1 123 456-7890\"\n",
    "]\n",
    "P = PhoneFormatter()\n",
    "print(list(map(P.pretty_format, phone_numbers)))"
   ]
  },
  {
   "cell_type": "markdown",
   "id": "58db2711",
   "metadata": {},
   "source": [
    "You'll notice that in this example we were set up perfectly to take advantage of map beacuse we were doing a 1-to-1 transformation. That is, we were transforming each element of a sequence. IN essence we've turned this problem into our middle-school algebra example: applying n+7 to a list of numbers.\n",
    "\n",
    "We can see the similarities between the two problems. For each problem, we're doing three things: taking a sequence of data, transforming it with some function, and getting the outputs.\n",
    "\n",
    "The key with map is recognizing situations where we can apply this three-step pattern. Once we start looking for it, we'll start to see it everywhere. "
   ]
  },
  {
   "cell_type": "markdown",
   "id": "a31d5624",
   "metadata": {},
   "source": [
    "## Concurrency vs Parallelism\n",
    "\n",
    "Concurrency involves multiple hobs to take turns accessing the same shared resources. Parallelism is about running several task side by side, like in multiple CPU cores.\n",
    "\n",
    "Python has different mechanism for implementing concurrency, like Threading, coroutines or async. \n",
    "\n",
    "For parallelism exist multiprocessing, which launches multiple instances of the Python interpreter. \n",
    "\n",
    "Glosary:\n",
    "- A program is an executable file which consists of a set of instructions to perform some task and is usually stored on the disk of your computer.\n",
    "- A process is what we call a program that has been loaded into memory along with all the resources it needs to operate. It has its own memory space.\n",
    "- A thread is the unit of execution within a process. A process can have multiple threads running as a part of it, where each thread uses the process’s memory space and shares it with other threads.\n",
    "- Multithreading is a technique where multiple threads are spawned by a process to do different tasks, at about the same time, just one after the other. This gives you the illusion that the threads are running in parallel, but they are actually run in a concurrent manner. In Python, the Global Interpreter Lock (GIL) prevents the threads from running simultaneously.\n",
    "- Multiprocessing is a technique where parallelism in its truest form is achieved. Multiple processes are run across multiple CPU cores, which do not share the resources among them. Each process can have many threads running in its own memory space. In Python, each process has its own instance of Python interpreter doing the job of executing the instructions.\n",
    "\n",
    "Further learning: https://www.youtube.com/watch?v=AZnGRKFUU0c"
   ]
  },
  {
   "cell_type": "markdown",
   "id": "73800c1e",
   "metadata": {},
   "source": [
    "### Thread vs Process\n",
    "A thread and a process are separate entities in a computer's operating system, but both are used to execute a program.\n",
    "\n",
    "A process is an instance of a program running on a computer, which has its own memory space, system resources (such as CPU time), and environment variables. Each process runs independently and isolated from other processes, and is treated as a separate program by the operating system.\n",
    "\n",
    "A thread, on the other hand, is a lightweight and independent unit of execution within a process. Multiple threads can run concurrently within a single process and share the same memory space and system resources"
   ]
  },
  {
   "attachments": {},
   "cell_type": "markdown",
   "id": "fe373060",
   "metadata": {},
   "source": [
    "Multithreading vs Multiprocessing\n",
    "<table><tbody><tr><td><strong>Multithreading in Python</strong></td><td><strong>Multiprocessing in Python</strong></td></tr><tr><td>It Implements the Concurrency.</td><td>It Implements the Parallelism.</td></tr><tr><td>Python does not support multithreading in the case of parallel computing.</td><td>Python supports multiprocessing in the case of parallel computing.</td></tr><tr><td>In multithreading, multiple threads at the same time are generated by a single process.</td><td>In multiprocessing, multiple threads at the same time run across multiple cores.</td></tr><tr><td>Multithreading can not be classified.</td><td>Multiprocessing can be classified such as symmetric or asymmetric.</td></tr></tbody></table>"
   ]
  },
  {
   "cell_type": "markdown",
   "id": "392b1b95",
   "metadata": {},
   "source": [
    "### Example of Threading vs Multiprocessing."
   ]
  },
  {
   "cell_type": "code",
   "execution_count": null,
   "id": "16e4df1b",
   "metadata": {},
   "outputs": [],
   "source": [
    "\n",
    "import time, os\n",
    "from threading import Thread, current_thread\n",
    "from multiprocessing import Process, current_process\n",
    " \n",
    " \n",
    "COUNT = 200000000\n",
    "SLEEP = 10\n",
    " \n",
    "def io_bound(sec):\n",
    " \n",
    "    pid = os.getpid()\n",
    "    threadName = current_thread().name\n",
    "    processName = current_process().name\n",
    " \n",
    "    print(f\"{pid} * {processName} * {threadName} \\\n",
    "        ---> Start sleeping...\")\n",
    "    time.sleep(sec)\n",
    "    print(f\"{pid} * {processName} * {threadName} \\\n",
    "        ---> Finished sleeping...\")\n",
    " \n",
    "def cpu_bound(n):\n",
    " \n",
    "    pid = os.getpid()\n",
    "    threadName = current_thread().name\n",
    "    processName = current_process().name\n",
    " \n",
    "    print(f\"{pid} * {processName} * {threadName} \\\n",
    "        ---> Start counting...\")\n",
    " \n",
    "    while n>0:\n",
    "        n -= 1\n",
    " \n",
    "    print(f\"{pid} * {processName} * {threadName} \\\n",
    "        ---> Finished counting...\")\n",
    " \n",
    "\n",
    "start = time.time()\n",
    "\n",
    "# Code snippet for Part 1\n",
    "# io_bound(SLEEP)\n",
    "# io_bound(SLEEP)\n",
    "\n",
    "# Code snippet for Part 2\n",
    "# t1 = Thread(target = io_bound, args =(SLEEP, ))\n",
    "# t2 = Thread(target = io_bound, args =(SLEEP, ))\n",
    "# t1.start()\n",
    "# t2.start()\n",
    "# t1.join()\n",
    "# t2.join()\n",
    "\n",
    "# Code snippet for Part 3\n",
    "# cpu_bound(COUNT)\n",
    "# cpu_bound(COUNT)\n",
    "\n",
    "# Code snippet for Part 4\n",
    "# t1 = Thread(target = cpu_bound, args =(COUNT, ))\n",
    "# t2 = Thread(target = cpu_bound, args =(COUNT, ))\n",
    "# t1.start()\n",
    "# t2.start()\n",
    "# t1.join()\n",
    "# t2.join()\n",
    "\n",
    "# Code snippet for Part 5\n",
    "p1 = Process(target = cpu_bound, args =(COUNT, ))\n",
    "p2 = Process(target = cpu_bound, args =(COUNT, ))\n",
    "p1.start()\n",
    "p2.start()\n",
    "p1.join()\n",
    "p2.join()\n",
    "\n",
    "\n",
    "end = time.time()\n",
    "print('Time taken in seconds -', end - start)"
   ]
  },
  {
   "cell_type": "markdown",
   "id": "4a664cad",
   "metadata": {},
   "source": [
    "### Threading Examples"
   ]
  },
  {
   "cell_type": "code",
   "execution_count": null,
   "id": "0d10ac71",
   "metadata": {},
   "outputs": [],
   "source": [
    "import threading \n",
    "\n",
    "start = time.perf_counter()\n",
    "\n",
    "# A function to do something. \n",
    "def do_something():\n",
    "    print('Sleeping 1 second...')\n",
    "    time.sleep(1)\n",
    "    print('Done sleeping...')\n",
    "\n",
    "t1 = threading.Thread(target=do_something)\n",
    "t2 = threading.Thread(target=do_something)\n",
    "\n",
    "t1.start()\n",
    "t2.start()\n",
    "\n",
    "t1.join()\n",
    "t2.join()\n",
    "\n",
    "\n",
    "\n",
    "\n",
    "finish = time.perf_counter()\n",
    "print(f'Finished in {round(finish-start, 2)} second(s)')"
   ]
  },
  {
   "cell_type": "code",
   "execution_count": null,
   "id": "087a8081",
   "metadata": {},
   "outputs": [],
   "source": [
    "import concurrent.futures\n",
    "import time\n",
    "import threading\n",
    "\n",
    "start = time.perf_counter()\n",
    "\n",
    "\n",
    "# A function to do something. \n",
    "def do_something(seconds):\n",
    "    print(f'Sleeping {seconds} second(s)...')\n",
    "    time.sleep(seconds)\n",
    "    return f'Done Sleeping...{seconds}'\n",
    "\n",
    "\n",
    "\n",
    "threads = []\n",
    "for _ in range(10):\n",
    "    t = threading.Thread(target=do_something, args=[1.5])\n",
    "    t.start()\n",
    "    threads.append(t)\n",
    "\n",
    "for thread in threads:\n",
    "    thread.join()\n",
    "\n",
    "finish = time.perf_counter()\n",
    "\n",
    "print(f'Finished in {round(finish-start, 2)} second(s)')"
   ]
  },
  {
   "cell_type": "code",
   "execution_count": null,
   "id": "f4d73b79",
   "metadata": {},
   "outputs": [],
   "source": [
    "import concurrent.futures\n",
    "import time\n",
    "\n",
    "start = time.perf_counter()\n",
    "\n",
    "\n",
    "def do_something(seconds):\n",
    "    print(f'Sleeping {seconds} second(s)...')\n",
    "    time.sleep(seconds)\n",
    "    return f'Done Sleeping...{seconds}'\n",
    "\n",
    "\n",
    "with concurrent.futures.ThreadPoolExecutor() as executor:\n",
    "    secs = [5, 4, 3, 2, 1]\n",
    "    results = [executor.submit(do_something, sec) for sec in secs]\n",
    "\n",
    "    for f in concurrent.futures.as_completed(results):\n",
    "        print(f.result())\n",
    "\n",
    "\n",
    "\n",
    "\n",
    "finish = time.perf_counter()\n",
    "print(f'Finished in {round(finish-start, 2)} second(s)')"
   ]
  },
  {
   "attachments": {},
   "cell_type": "markdown",
   "id": "d8dd97a6",
   "metadata": {},
   "source": [
    "\n",
    "This snippet uses threading to read data from multiple URLs at once, using multiple executed instances of the get_from() functions. The results are stored in a list. \n",
    "\n",
    "Note that the underscore '_' it's used for throw-away variables. "
   ]
  },
  {
   "cell_type": "code",
   "execution_count": null,
   "id": "b11c08ce",
   "metadata": {},
   "outputs": [],
   "source": [
    "import concurrent.futures\n",
    "import urllib.request\n",
    "\n",
    "URLS = ['http://www.foxnews.com/',\n",
    "        'http://www.cnn.com/',\n",
    "        'http://europe.wsj.com/',\n",
    "        'http://www.bbc.co.uk/',\n",
    "        'http://some-made-up-domain.com/']\n",
    "\n",
    "# Retrieve a single page and report the URL and contents\n",
    "def load_url(url, timeout):\n",
    "    with urllib.request.urlopen(url, timeout=timeout) as conn:\n",
    "        return conn.read()\n",
    "\n",
    "# We can use a with statement to ensure threads are cleaned up promptly\n",
    "with concurrent.futures.ThreadPoolExecutor(max_workers=5) as executor:\n",
    "    # Start the load operations and mark each future with its URL\n",
    "    future_to_url = {executor.submit(load_url, url, 60): url for url in URLS}\n",
    "    for future in concurrent.futures.as_completed(future_to_url):\n",
    "        url = future_to_url[future]\n",
    "        \n",
    "        \n",
    "        try:\n",
    "            data = future.result()\n",
    "        except Exception as exc:\n",
    "            print('%r generated an exception: %s' % (url, exc))\n",
    "        else:\n",
    "            print('%r page is %d bytes' % (url, len(data)))"
   ]
  },
  {
   "cell_type": "markdown",
   "id": "8c6f5b53",
   "metadata": {},
   "source": [
    "### Multiprocessing Examples"
   ]
  },
  {
   "cell_type": "code",
   "execution_count": null,
   "id": "78933214",
   "metadata": {},
   "outputs": [],
   "source": [
    "import time \n",
    "import multiprocessing\n",
    "\n",
    "start = time.perf_counter()\n",
    "\n",
    "def do_something():\n",
    "    print('Sleeping 1 second...')\n",
    "    time.sleep(1)\n",
    "    print('Done Sleeping')\n",
    "    \n",
    "    \n",
    "p1 = multiprocessing.Process(target=do_something)\n",
    "p2 = multiprocessing.Process(target=do_something)\n",
    "\n",
    "if __name__ == \"__main__\":\n",
    "\n",
    "    p1.start()\n",
    "    p2.start()\n",
    "\n",
    "    p1.join()\n",
    "    p2.join()\n",
    "\n",
    "    print(\"Finished in \",time.perf_counter() - start)"
   ]
  },
  {
   "cell_type": "code",
   "execution_count": null,
   "id": "f638e891",
   "metadata": {},
   "outputs": [],
   "source": [
    "import time \n",
    "import multiprocessing\n",
    "\n",
    "start = time.perf_counter()\n",
    "\n",
    "def do_something():\n",
    "    print('Sleeping 1 second...')\n",
    "    time.sleep(1)\n",
    "    print('Done Sleeping')\n",
    "    \n",
    "    \n",
    "if __name__ == \"__main__\":\n",
    "\n",
    "    processes = [] \n",
    "    for _ in range(10):\n",
    "        p = multiprocessing.Process(target=do_something)\n",
    "        p.start()\n",
    "        processes.append(p)\n",
    "        \n",
    "    for process in processes:\n",
    "        process.join()\n",
    "        \n",
    "    print(\"Finished in \",time.perf_counter() - start)"
   ]
  },
  {
   "cell_type": "code",
   "execution_count": null,
   "id": "c0b54b1b",
   "metadata": {},
   "outputs": [],
   "source": [
    "# Passsing arguments... \n",
    "\n",
    "import time \n",
    "import multiprocessing\n",
    "\n",
    "start = time.perf_counter()\n",
    "\n",
    "def do_something(seconds):\n",
    "    print(f'Sleeping {seconds} second(s)...')\n",
    "    time.sleep(seconds)\n",
    "    print('Done Sleeping')\n",
    "    \n",
    "    \n",
    "if __name__ == \"__main__\":\n",
    "\n",
    "    processes = [] \n",
    "    for _ in range(10):\n",
    "        p = multiprocessing.Process(target=do_something, args=[1.5])\n",
    "        p.start()\n",
    "        processes.append(p)\n",
    "        \n",
    "    for process in processes:\n",
    "        process.join()\n",
    "        \n",
    "    print(\"Finished in \",time.perf_counter() - start)"
   ]
  },
  {
   "cell_type": "code",
   "execution_count": null,
   "id": "186a2ade",
   "metadata": {},
   "outputs": [],
   "source": [
    "# With Process Pool\n",
    "import time \n",
    "import multiprocessing\n",
    "import concurrent.futures\n",
    "\n",
    "\n",
    "start = time.perf_counter()\n",
    "\n",
    "def do_something(seconds):\n",
    "    print(f'Sleeping {seconds} second(s)...')\n",
    "    time.sleep(seconds)\n",
    "    return('Done Sleeping')\n",
    "    \n",
    "    \n",
    "if __name__ == \"__main__\":\n",
    "\n",
    "    with concurrent.futures.ProcessPoolExecutor() as executor: \n",
    "        results = [executor.submit(do_something, i) for i in range(5, 0, -1)]\n",
    "        \n",
    "        for f in concurrent.futures.as_completed(results):\n",
    "            print(f.result())\n",
    "        \n",
    "    print(\"Finished in \",time.perf_counter() - start)"
   ]
  },
  {
   "cell_type": "code",
   "execution_count": null,
   "id": "c3792cbf",
   "metadata": {},
   "outputs": [],
   "source": [
    "# With process pool and map\n",
    "import time \n",
    "import multiprocessing\n",
    "import concurrent.futures\n",
    "\n",
    "\n",
    "start = time.perf_counter()\n",
    "\n",
    "def do_something(seconds):\n",
    "    print(f'Sleeping {seconds} second(s)...')\n",
    "    time.sleep(seconds)\n",
    "    return(f'Done Sleeping at {seconds}')\n",
    "    \n",
    "    \n",
    "if __name__ == \"__main__\":\n",
    "\n",
    "    with concurrent.futures.ProcessPoolExecutor() as executor: \n",
    "        secs = range(5, 0, -1)\n",
    "        results = executor.map(do_something, secs)\n",
    "        \n",
    "        for result in results:\n",
    "            print(result)\n",
    "        \n",
    "    print(\"Finished in \",time.perf_counter() - start)"
   ]
  }
 ],
 "metadata": {
  "kernelspec": {
   "display_name": "base",
   "language": "python",
   "name": "python3"
  },
  "language_info": {
   "codemirror_mode": {
    "name": "ipython",
    "version": 3
   },
   "file_extension": ".py",
   "mimetype": "text/x-python",
   "name": "python",
   "nbconvert_exporter": "python",
   "pygments_lexer": "ipython3",
   "version": "3.9.13"
  },
  "toc-autonumbering": false,
  "toc-showcode": false,
  "toc-showmarkdowntxt": false,
  "vscode": {
   "interpreter": {
    "hash": "8c256f98918fdf565fb0594991b062fbac57fe52d8658946f807bb66ca7d9c01"
   }
  }
 },
 "nbformat": 4,
 "nbformat_minor": 5
}
